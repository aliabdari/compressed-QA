{
  "cells": [
    {
      "cell_type": "markdown",
      "metadata": {
        "id": "view-in-github",
        "colab_type": "text"
      },
      "source": [
        "<a href=\"https://colab.research.google.com/github/aliabdari/compressed-QA/blob/main/QA_compressed_domain.ipynb\" target=\"_parent\"><img src=\"https://colab.research.google.com/assets/colab-badge.svg\" alt=\"Open In Colab\"/></a>"
      ]
    },
    {
      "cell_type": "code",
      "execution_count": 38,
      "metadata": {
        "colab": {
          "base_uri": "https://localhost:8080/"
        },
        "id": "0BohLnoGkx_7",
        "outputId": "a5a5baf7-7894-4716-a417-ea98c6bbde8e"
      },
      "outputs": [
        {
          "output_type": "stream",
          "name": "stdout",
          "text": [
            "Drive already mounted at /content/drive; to attempt to forcibly remount, call drive.mount(\"/content/drive\", force_remount=True).\n"
          ]
        }
      ],
      "source": [
        "from google.colab import drive\n",
        "drive.mount('/content/drive')"
      ]
    },
    {
      "cell_type": "code",
      "execution_count": 39,
      "metadata": {
        "id": "qcR23ZTJJ7KJ"
      },
      "outputs": [],
      "source": [
        "import pandas as pd\n",
        "import numpy as np\n",
        "\n",
        "from tensorflow.keras.models import Sequential\n",
        "from tensorflow.keras.layers import BatchNormalization\n",
        "from tensorflow.keras.layers import Activation\n",
        "from tensorflow.keras.layers import Dropout\n",
        "from tensorflow.keras.layers import Dense\n",
        "from tensorflow.keras.layers import Input\n",
        "from tensorflow.keras.models import Model\n",
        "from tensorflow.keras.optimizers import Adam\n",
        "from tensorflow.keras.regularizers import l2\n",
        "from tensorflow import keras"
      ]
    },
    {
      "cell_type": "code",
      "execution_count": 40,
      "metadata": {
        "id": "Y2A-J6_Wl3HZ"
      },
      "outputs": [],
      "source": [
        "import numpy as np\n",
        "x_temp = np.load('/content/drive/MyDrive/information_live/x_vgg16.npy',allow_pickle= True)"
      ]
    },
    {
      "cell_type": "code",
      "execution_count": 41,
      "metadata": {
        "colab": {
          "base_uri": "https://localhost:8080/"
        },
        "id": "v_RTNh9p2sEC",
        "outputId": "70c4185b-a825-4d0f-b1d7-58ca50d31212"
      },
      "outputs": [
        {
          "output_type": "execute_result",
          "data": {
            "text/plain": [
              "160"
            ]
          },
          "metadata": {},
          "execution_count": 41
        }
      ],
      "source": [
        "x_temp.shape[0]"
      ]
    },
    {
      "cell_type": "code",
      "execution_count": 42,
      "metadata": {
        "id": "gFat1VCN4E6D"
      },
      "outputs": [],
      "source": [
        "x_temp2 = np.empty(150,dtype=object)"
      ]
    },
    {
      "cell_type": "code",
      "execution_count": 43,
      "metadata": {
        "id": "pCIE5miT2y0o"
      },
      "outputs": [],
      "source": [
        "idx = 0\n",
        "for i in range(x_temp.shape[0]):\n",
        "  if i % 16 == 0:\n",
        "    continue\n",
        "  x_temp2[idx] = x_temp[i]\n",
        "  idx+=1"
      ]
    },
    {
      "cell_type": "code",
      "execution_count": 44,
      "metadata": {
        "colab": {
          "base_uri": "https://localhost:8080/"
        },
        "id": "ad9Xxz5K5o3P",
        "outputId": "168ef957-d8a1-498f-c0a8-f7cda6003a4c"
      },
      "outputs": [
        {
          "output_type": "execute_result",
          "data": {
            "text/plain": [
              "(150,)"
            ]
          },
          "metadata": {},
          "execution_count": 44
        }
      ],
      "source": [
        "x_temp2.shape"
      ]
    },
    {
      "cell_type": "markdown",
      "metadata": {
        "id": "gfkuFHJ55z_9"
      },
      "source": [
        "## Load DOM"
      ]
    },
    {
      "cell_type": "code",
      "execution_count": 45,
      "metadata": {
        "id": "62EWrfUA56Mx"
      },
      "outputs": [],
      "source": [
        "y_temp = np.loadtxt('/content/drive/MyDrive/live_dataset_Reconstructed_Residuals/live_video_quality_data.txt')"
      ]
    },
    {
      "cell_type": "code",
      "execution_count": 46,
      "metadata": {
        "colab": {
          "base_uri": "https://localhost:8080/"
        },
        "id": "Wl0Xi9fs6dBG",
        "outputId": "dbe7621c-a80c-4814-9344-84d5f2a6fa34"
      },
      "outputs": [
        {
          "output_type": "execute_result",
          "data": {
            "text/plain": [
              "(150, 2)"
            ]
          },
          "metadata": {},
          "execution_count": 46
        }
      ],
      "source": [
        "y_temp.shape"
      ]
    },
    {
      "cell_type": "code",
      "execution_count": 47,
      "metadata": {
        "id": "SHpQH5T76jFV"
      },
      "outputs": [],
      "source": [
        "y = y_temp[:,0]"
      ]
    },
    {
      "cell_type": "code",
      "execution_count": 48,
      "metadata": {
        "id": "Hl3IhQVyRAEJ"
      },
      "outputs": [],
      "source": [
        "y = np.asarray(y).astype('float32')"
      ]
    },
    {
      "cell_type": "code",
      "source": [
        "max_y = np.max(y)"
      ],
      "metadata": {
        "id": "uocTHggicSuq"
      },
      "execution_count": 49,
      "outputs": []
    },
    {
      "cell_type": "code",
      "source": [
        "y=y/max_y"
      ],
      "metadata": {
        "id": "vVOcfXXxcU8x"
      },
      "execution_count": 50,
      "outputs": []
    },
    {
      "cell_type": "markdown",
      "metadata": {
        "id": "SUN0SN8R5tQP"
      },
      "source": [
        "## POT"
      ]
    },
    {
      "cell_type": "code",
      "execution_count": 51,
      "metadata": {
        "colab": {
          "base_uri": "https://localhost:8080/"
        },
        "id": "o8I_DHJRIblD",
        "outputId": "8b7dbe65-1af6-4eb8-f96e-8af2786a5aab"
      },
      "outputs": [
        {
          "output_type": "execute_result",
          "data": {
            "text/plain": [
              "(4096,)"
            ]
          },
          "metadata": {},
          "execution_count": 51
        }
      ],
      "source": [
        "np.mean(x_temp2[10], axis=1).shape"
      ]
    },
    {
      "cell_type": "code",
      "execution_count": 52,
      "metadata": {
        "id": "pBGiyTC95qZu"
      },
      "outputs": [],
      "source": [
        "x = np.empty((150,4096),dtype=object)\n",
        "for i in range(x_temp2.shape[0]):\n",
        "  x[i,:] = np.mean(x_temp2[i], axis=1)\n",
        "  pass"
      ]
    },
    {
      "cell_type": "code",
      "execution_count": 53,
      "metadata": {
        "colab": {
          "base_uri": "https://localhost:8080/"
        },
        "id": "JmsaAqQjJah7",
        "outputId": "9e5d05d5-1a80-4e6a-c764-d92301751a6f"
      },
      "outputs": [
        {
          "output_type": "execute_result",
          "data": {
            "text/plain": [
              "(150, 4096)"
            ]
          },
          "metadata": {},
          "execution_count": 53
        }
      ],
      "source": [
        "x.shape"
      ]
    },
    {
      "cell_type": "code",
      "execution_count": 54,
      "metadata": {
        "id": "YsYolfHdQ6KI"
      },
      "outputs": [],
      "source": [
        "x = np.asarray(x).astype('float32')"
      ]
    },
    {
      "cell_type": "code",
      "source": [
        "np.max(x)"
      ],
      "metadata": {
        "colab": {
          "base_uri": "https://localhost:8080/"
        },
        "id": "XXAH4IhRcPFu",
        "outputId": "87ae3780-b360-4818-c54b-ac3c8924425a"
      },
      "execution_count": 55,
      "outputs": [
        {
          "output_type": "execute_result",
          "data": {
            "text/plain": [
              "4.789821"
            ]
          },
          "metadata": {},
          "execution_count": 55
        }
      ]
    },
    {
      "cell_type": "code",
      "source": [
        "x = x/np.max(x)"
      ],
      "metadata": {
        "id": "hNWg5qgPcF0g"
      },
      "execution_count": 56,
      "outputs": []
    },
    {
      "cell_type": "markdown",
      "metadata": {
        "id": "fyaOTZn1JhFP"
      },
      "source": [
        "# Data preparation"
      ]
    },
    {
      "cell_type": "code",
      "execution_count": 57,
      "metadata": {
        "id": "QCenLye0Lagv"
      },
      "outputs": [],
      "source": [
        "x_test = x[0:30,:].copy()\n",
        "y_test = y[0:30].copy()"
      ]
    },
    {
      "cell_type": "code",
      "execution_count": 58,
      "metadata": {
        "colab": {
          "base_uri": "https://localhost:8080/"
        },
        "id": "HC7GCYclLiQG",
        "outputId": "2395a00b-4818-43d1-8932-9588b64d48bd"
      },
      "outputs": [
        {
          "output_type": "execute_result",
          "data": {
            "text/plain": [
              "(30, 4096)"
            ]
          },
          "metadata": {},
          "execution_count": 58
        }
      ],
      "source": [
        "x_test.shape"
      ]
    },
    {
      "cell_type": "code",
      "execution_count": 59,
      "metadata": {
        "id": "hLERvSSGLlHF"
      },
      "outputs": [],
      "source": [
        "x_train = x[30:,:].copy()\n",
        "y_train = y[30:].copy()"
      ]
    },
    {
      "cell_type": "code",
      "execution_count": 60,
      "metadata": {
        "colab": {
          "base_uri": "https://localhost:8080/"
        },
        "id": "lIwTDsm1LyIv",
        "outputId": "4e90410e-a1bb-47ae-e1c1-b8552d3df6ac"
      },
      "outputs": [
        {
          "output_type": "execute_result",
          "data": {
            "text/plain": [
              "(120, 4096)"
            ]
          },
          "metadata": {},
          "execution_count": 60
        }
      ],
      "source": [
        "x_train.shape"
      ]
    },
    {
      "cell_type": "code",
      "execution_count": 61,
      "metadata": {
        "id": "aTSxbuuQOP0M"
      },
      "outputs": [],
      "source": [
        "def do_shuffle(X,Y,number_of_data):\n",
        "  shuffle_index = np.arange(number_of_data)\n",
        "  np.random.shuffle(shuffle_index)\n",
        "  return X[shuffle_index],Y[shuffle_index]"
      ]
    },
    {
      "cell_type": "code",
      "execution_count": 62,
      "metadata": {
        "id": "_JU6ofk6ORFl"
      },
      "outputs": [],
      "source": [
        "x_train,y_train = do_shuffle(x_train,y_train,120)"
      ]
    },
    {
      "cell_type": "code",
      "execution_count": 63,
      "metadata": {
        "colab": {
          "base_uri": "https://localhost:8080/"
        },
        "id": "rgi1n2SqPddA",
        "outputId": "4190d06b-28a2-4330-ec4a-b61a4ba7f69d"
      },
      "outputs": [
        {
          "output_type": "execute_result",
          "data": {
            "text/plain": [
              "dtype('float32')"
            ]
          },
          "metadata": {},
          "execution_count": 63
        }
      ],
      "source": [
        "x_train.dtype"
      ]
    },
    {
      "cell_type": "markdown",
      "metadata": {
        "id": "hJlHZY5IPoIi"
      },
      "source": [
        "## Model"
      ]
    },
    {
      "cell_type": "code",
      "source": [
        "from sklearn.model_selection import train_test_split\n",
        "\n",
        "x_train, x_valid, y_train, y_valid = train_test_split(x_train, y_train, test_size=0.08, shuffle= True)"
      ],
      "metadata": {
        "id": "Z45TXCVVEL2a"
      },
      "execution_count": 64,
      "outputs": []
    },
    {
      "cell_type": "code",
      "execution_count": 65,
      "metadata": {
        "colab": {
          "base_uri": "https://localhost:8080/"
        },
        "id": "vT5O-XvSPfe5",
        "outputId": "9f589a39-e338-465f-f482-ed13ea0b16ff"
      },
      "outputs": [
        {
          "output_type": "stream",
          "name": "stdout",
          "text": [
            "Epoch 1/60\n",
            "2/2 [==============================] - 1s 155ms/step - loss: 2.2719 - val_loss: 0.0564\n",
            "Epoch 2/60\n",
            "2/2 [==============================] - 0s 65ms/step - loss: 0.4695 - val_loss: 0.0242\n",
            "Epoch 3/60\n",
            "2/2 [==============================] - 0s 24ms/step - loss: 0.2128 - val_loss: 0.1484\n",
            "Epoch 4/60\n",
            "2/2 [==============================] - 0s 25ms/step - loss: 0.1773 - val_loss: 0.2135\n",
            "Epoch 5/60\n",
            "2/2 [==============================] - 0s 24ms/step - loss: 0.2248 - val_loss: 0.2292\n",
            "Epoch 6/60\n",
            "2/2 [==============================] - 0s 23ms/step - loss: 0.1784 - val_loss: 0.1949\n",
            "Epoch 7/60\n",
            "2/2 [==============================] - 0s 26ms/step - loss: 0.2133 - val_loss: 0.1429\n",
            "Epoch 8/60\n",
            "2/2 [==============================] - 0s 24ms/step - loss: 0.1698 - val_loss: 0.0952\n",
            "Epoch 9/60\n",
            "2/2 [==============================] - 0s 26ms/step - loss: 0.1516 - val_loss: 0.0619\n",
            "Epoch 10/60\n",
            "2/2 [==============================] - 0s 31ms/step - loss: 0.1208 - val_loss: 0.0474\n",
            "Epoch 11/60\n",
            "2/2 [==============================] - 0s 23ms/step - loss: 0.1526 - val_loss: 0.0559\n",
            "Epoch 12/60\n",
            "2/2 [==============================] - 0s 22ms/step - loss: 0.1080 - val_loss: 0.0732\n",
            "Epoch 13/60\n",
            "2/2 [==============================] - 0s 25ms/step - loss: 0.1222 - val_loss: 0.0908\n",
            "Epoch 14/60\n",
            "2/2 [==============================] - 0s 24ms/step - loss: 0.1011 - val_loss: 0.0976\n",
            "Epoch 15/60\n",
            "2/2 [==============================] - 0s 23ms/step - loss: 0.1017 - val_loss: 0.0800\n",
            "Epoch 16/60\n",
            "2/2 [==============================] - 0s 25ms/step - loss: 0.1035 - val_loss: 0.0524\n",
            "Epoch 17/60\n",
            "2/2 [==============================] - 0s 21ms/step - loss: 0.0970 - val_loss: 0.0365\n",
            "Epoch 18/60\n",
            "2/2 [==============================] - 0s 27ms/step - loss: 0.0745 - val_loss: 0.0366\n",
            "Epoch 19/60\n",
            "2/2 [==============================] - 0s 24ms/step - loss: 0.0715 - val_loss: 0.0543\n",
            "Epoch 20/60\n",
            "2/2 [==============================] - 0s 22ms/step - loss: 0.0750 - val_loss: 0.0686\n",
            "Epoch 21/60\n",
            "2/2 [==============================] - 0s 22ms/step - loss: 0.0705 - val_loss: 0.0609\n",
            "Epoch 22/60\n",
            "2/2 [==============================] - 0s 22ms/step - loss: 0.0617 - val_loss: 0.0399\n",
            "Epoch 23/60\n",
            "2/2 [==============================] - 0s 22ms/step - loss: 0.0727 - val_loss: 0.0286\n",
            "Epoch 24/60\n",
            "2/2 [==============================] - 0s 21ms/step - loss: 0.0668 - val_loss: 0.0277\n",
            "Epoch 25/60\n",
            "2/2 [==============================] - 0s 21ms/step - loss: 0.0672 - val_loss: 0.0317\n",
            "Epoch 26/60\n",
            "2/2 [==============================] - 0s 22ms/step - loss: 0.0473 - val_loss: 0.0421\n",
            "Epoch 27/60\n",
            "2/2 [==============================] - 0s 40ms/step - loss: 0.0498 - val_loss: 0.0491\n",
            "Epoch 28/60\n",
            "2/2 [==============================] - 0s 22ms/step - loss: 0.0568 - val_loss: 0.0471\n",
            "Epoch 29/60\n",
            "2/2 [==============================] - 0s 25ms/step - loss: 0.0475 - val_loss: 0.0327\n",
            "Epoch 30/60\n",
            "2/2 [==============================] - 0s 24ms/step - loss: 0.0478 - val_loss: 0.0264\n",
            "Epoch 31/60\n",
            "2/2 [==============================] - 0s 31ms/step - loss: 0.0520 - val_loss: 0.0299\n",
            "Epoch 32/60\n",
            "2/2 [==============================] - 0s 22ms/step - loss: 0.0421 - val_loss: 0.0337\n",
            "Epoch 33/60\n",
            "2/2 [==============================] - 0s 23ms/step - loss: 0.0429 - val_loss: 0.0367\n",
            "Epoch 34/60\n",
            "2/2 [==============================] - 0s 24ms/step - loss: 0.0364 - val_loss: 0.0355\n",
            "Epoch 35/60\n",
            "2/2 [==============================] - 0s 23ms/step - loss: 0.0416 - val_loss: 0.0288\n",
            "Epoch 36/60\n",
            "2/2 [==============================] - 0s 22ms/step - loss: 0.0343 - val_loss: 0.0334\n",
            "Epoch 37/60\n",
            "2/2 [==============================] - 0s 22ms/step - loss: 0.0382 - val_loss: 0.0325\n",
            "Epoch 38/60\n",
            "2/2 [==============================] - 0s 40ms/step - loss: 0.0339 - val_loss: 0.0268\n",
            "Epoch 39/60\n",
            "2/2 [==============================] - 0s 22ms/step - loss: 0.0316 - val_loss: 0.0259\n",
            "Epoch 40/60\n",
            "2/2 [==============================] - 0s 22ms/step - loss: 0.0435 - val_loss: 0.0298\n",
            "Epoch 41/60\n",
            "2/2 [==============================] - 0s 23ms/step - loss: 0.0302 - val_loss: 0.0289\n",
            "Epoch 42/60\n",
            "2/2 [==============================] - 0s 23ms/step - loss: 0.0284 - val_loss: 0.0258\n",
            "Epoch 43/60\n",
            "2/2 [==============================] - 0s 23ms/step - loss: 0.0310 - val_loss: 0.0254\n",
            "Epoch 44/60\n",
            "2/2 [==============================] - 0s 23ms/step - loss: 0.0341 - val_loss: 0.0316\n",
            "Epoch 45/60\n",
            "2/2 [==============================] - 0s 25ms/step - loss: 0.0263 - val_loss: 0.0269\n",
            "Epoch 46/60\n",
            "2/2 [==============================] - 0s 58ms/step - loss: 0.0282 - val_loss: 0.0210\n",
            "Epoch 47/60\n",
            "2/2 [==============================] - 0s 24ms/step - loss: 0.0257 - val_loss: 0.0245\n",
            "Epoch 48/60\n",
            "2/2 [==============================] - 0s 26ms/step - loss: 0.0251 - val_loss: 0.0296\n",
            "Epoch 49/60\n",
            "2/2 [==============================] - 0s 23ms/step - loss: 0.0225 - val_loss: 0.0251\n",
            "Epoch 50/60\n",
            "2/2 [==============================] - 0s 60ms/step - loss: 0.0272 - val_loss: 0.0197\n",
            "Epoch 51/60\n",
            "2/2 [==============================] - 0s 26ms/step - loss: 0.0278 - val_loss: 0.0277\n",
            "Epoch 52/60\n",
            "2/2 [==============================] - 0s 23ms/step - loss: 0.0305 - val_loss: 0.0310\n",
            "Epoch 53/60\n",
            "2/2 [==============================] - 0s 30ms/step - loss: 0.0240 - val_loss: 0.0247\n",
            "Epoch 54/60\n",
            "2/2 [==============================] - 0s 23ms/step - loss: 0.0212 - val_loss: 0.0202\n",
            "Epoch 55/60\n",
            "2/2 [==============================] - 0s 23ms/step - loss: 0.0254 - val_loss: 0.0242\n",
            "Epoch 56/60\n",
            "2/2 [==============================] - 0s 23ms/step - loss: 0.0214 - val_loss: 0.0236\n",
            "Epoch 57/60\n",
            "2/2 [==============================] - 0s 30ms/step - loss: 0.0203 - val_loss: 0.0210\n",
            "Epoch 58/60\n",
            "2/2 [==============================] - 0s 28ms/step - loss: 0.0231 - val_loss: 0.0210\n",
            "Epoch 59/60\n",
            "2/2 [==============================] - 0s 23ms/step - loss: 0.0218 - val_loss: 0.0212\n",
            "Epoch 60/60\n",
            "2/2 [==============================] - 0s 32ms/step - loss: 0.0224 - val_loss: 0.0225\n"
          ]
        }
      ],
      "source": [
        "model = Sequential()\n",
        "model.add(Dense(32, activation=\"relu\"))\n",
        "model.add(Dropout(0.35))\n",
        "model.add(Dense(16, activation=\"linear\"))\n",
        "model.add(Dropout(0.25))\n",
        "model.add(Dense(8,activation=\"linear\"))\n",
        "model.add(Dense(4,activation=\"linear\"))\n",
        "model.add(Dense(1, activation=\"linear\"))\n",
        "\n",
        "callback = keras.callbacks.EarlyStopping(monitor='val_loss', patience=30)\n",
        "\n",
        "callbacks = [\n",
        "    keras.callbacks.ModelCheckpoint(\"oxford_segmentation.h5\", save_best_only=True)\n",
        "]\n",
        "\n",
        "opt = Adam(learning_rate=1e-3, decay=1e-3 / 200)\n",
        "model.compile(loss=\"mean_squared_error\", optimizer=opt)\n",
        "\n",
        "history = model.fit(x=x_train, y=y_train, \n",
        "\tvalidation_data=(x_valid, y_valid),\n",
        "\tepochs=60, \n",
        "\tbatch_size=64,\n",
        "\tcallbacks = callbacks)"
      ]
    },
    {
      "cell_type": "markdown",
      "metadata": {
        "id": "4DbUiCxdRNC0"
      },
      "source": [
        "## Plot"
      ]
    },
    {
      "cell_type": "code",
      "execution_count": 66,
      "metadata": {
        "id": "kXN3pDBpROOy"
      },
      "outputs": [],
      "source": [
        "import matplotlib.pyplot as plt\n",
        "\n",
        "def plot_diagrams_trian_process(history):\n",
        "    plt.xlabel('Epoch')\n",
        "    plt.ylabel('Loss')\n",
        "    plt.plot(history['loss'])\n",
        "    plt.plot(history['val_loss'])\n",
        "    plt.legend(['loss','val_loss'])"
      ]
    },
    {
      "cell_type": "code",
      "execution_count": 67,
      "metadata": {
        "colab": {
          "base_uri": "https://localhost:8080/",
          "height": 279
        },
        "id": "mUsvxo1KRPJR",
        "outputId": "1ff6e5ed-d69c-4859-e673-afda1291d4b9"
      },
      "outputs": [
        {
          "output_type": "display_data",
          "data": {
            "text/plain": [
              "<Figure size 432x288 with 1 Axes>"
            ],
            "image/png": "[encoded data removed]"
          },
          "metadata": {
            "needs_background": "light"
          }
        }
      ],
      "source": [
        "plot_diagrams_trian_process(history.history)"
      ]
    },
    {
      "cell_type": "markdown",
      "source": [
        "##Predict"
      ],
      "metadata": {
        "id": "JAvcO71TEfsr"
      }
    },
    {
      "cell_type": "code",
      "source": [
        "y_test_predict = model.predict(x_test)\n",
        "y_test_predict *= max_y"
      ],
      "metadata": {
        "id": "Y89vL7ThEhD6"
      },
      "execution_count": 68,
      "outputs": []
    },
    {
      "cell_type": "code",
      "source": [
        "y_test_orig = y_test * max_y"
      ],
      "metadata": {
        "id": "z1EM8MSlFay0"
      },
      "execution_count": 69,
      "outputs": []
    },
    {
      "cell_type": "code",
      "source": [
        "plt.plot(y_test_predict, label = 'predicted test' ,color = 'red')\n",
        "plt.plot(y_test_orig, label = 'original test' ,color = 'blue')\n",
        "plt.legend()"
      ],
      "metadata": {
        "colab": {
          "base_uri": "https://localhost:8080/",
          "height": 282
        },
        "id": "JbuLQpDnFId0",
        "outputId": "66ca807b-22f0-4dea-8065-c4745c203edb"
      },
      "execution_count": 70,
      "outputs": [
        {
          "output_type": "execute_result",
          "data": {
            "text/plain": [
              "<matplotlib.legend.Legend at 0x7f8cd7528950>"
            ]
          },
          "metadata": {},
          "execution_count": 70
        },
        {
          "output_type": "display_data",
          "data": {
            "text/plain": [
              "<Figure size 432x288 with 1 Axes>"
            ],
            "image/png": "[encoded data removed]"
          },
          "metadata": {
            "needs_background": "light"
          }
        }
      ]
    },
    {
      "cell_type": "code",
      "source": [
        "from scipy import stats\n",
        "rho, pval = stats.spearmanr(y_test_predict, y_test_orig)"
      ],
      "metadata": {
        "id": "189R_tKEc1ST"
      },
      "execution_count": 71,
      "outputs": []
    },
    {
      "cell_type": "code",
      "source": [
        "y_train_predict = model.predict(x_train)\n",
        "y_train_predict *= max_y\n",
        "y_train_orig = y_train * max_y"
      ],
      "metadata": {
        "id": "owQr7MKBdEmZ"
      },
      "execution_count": 72,
      "outputs": []
    },
    {
      "cell_type": "code",
      "source": [
        "plt.plot(y_train_predict, label = 'predicted train' ,color = 'red')\n",
        "plt.plot(y_train_orig, label = 'original train' ,color = 'blue')\n",
        "plt.legend()"
      ],
      "metadata": {
        "colab": {
          "base_uri": "https://localhost:8080/",
          "height": 282
        },
        "id": "hKFFJfXlgUTx",
        "outputId": "163878a0-b851-493a-f6c5-09d3871fef09"
      },
      "execution_count": 73,
      "outputs": [
        {
          "output_type": "execute_result",
          "data": {
            "text/plain": [
              "<matplotlib.legend.Legend at 0x7f8cd7555110>"
            ]
          },
          "metadata": {},
          "execution_count": 73
        },
        {
          "output_type": "display_data",
          "data": {
            "text/plain": [
              "<Figure size 432x288 with 1 Axes>"
            ],
            "image/png": "[encoded data removed]"
          },
          "metadata": {
            "needs_background": "light"
          }
        }
      ]
    }
  ],
  "metadata": {
    "colab": {
      "name": "QA_compressed_domain.ipynb",
      "provenance": [],
      "include_colab_link": true
    },
    "gpuClass": "standard",
    "kernelspec": {
      "display_name": "Python 3",
      "name": "python3"
    },
    "language_info": {
      "name": "python"
    },
    "accelerator": "GPU"
  },
  "nbformat": 4,
  "nbformat_minor": 0
}