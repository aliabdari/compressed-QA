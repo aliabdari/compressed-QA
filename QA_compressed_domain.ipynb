{
  "nbformat": 4,
  "nbformat_minor": 0,
  "metadata": {
    "colab": {
      "name": "QA_compressed_domain.ipynb",
      "provenance": [],
      "include_colab_link": true
    },
    "kernelspec": {
      "name": "python3",
      "display_name": "Python 3"
    },
    "language_info": {
      "name": "python"
    },
    "gpuClass": "standard"
  },
  "cells": [
    {
      "cell_type": "markdown",
      "metadata": {
        "id": "view-in-github",
        "colab_type": "text"
      },
      "source": [
        "<a href=\"https://colab.research.google.com/github/aliabdari/compressed-QA/blob/main/QA_compressed_domain.ipynb\" target=\"_parent\"><img src=\"https://colab.research.google.com/assets/colab-badge.svg\" alt=\"Open In Colab\"/></a>"
      ]
    },
    {
      "cell_type": "code",
      "execution_count": 128,
      "metadata": {
        "id": "0BohLnoGkx_7",
        "colab": {
          "base_uri": "https://localhost:8080/"
        },
        "outputId": "c528e935-59b0-4ef3-be40-90acfb2ea24b"
      },
      "outputs": [
        {
          "output_type": "stream",
          "name": "stdout",
          "text": [
            "Drive already mounted at /content/drive; to attempt to forcibly remount, call drive.mount(\"/content/drive\", force_remount=True).\n"
          ]
        }
      ],
      "source": [
        "from google.colab import drive\n",
        "drive.mount('/content/drive')"
      ]
    },
    {
      "cell_type": "code",
      "source": [
        "import pandas as pd\n",
        "import numpy as np\n",
        "\n",
        "from tensorflow.keras.models import Sequential\n",
        "from tensorflow.keras.layers import BatchNormalization\n",
        "from tensorflow.keras.layers import Activation\n",
        "from tensorflow.keras.layers import Dropout\n",
        "from tensorflow.keras.layers import Dense\n",
        "from tensorflow.keras.layers import Input\n",
        "from tensorflow.keras.models import Model\n",
        "from tensorflow.keras.optimizers import Adam\n",
        "from tensorflow.keras.regularizers import l2\n",
        "from tensorflow import keras"
      ],
      "metadata": {
        "id": "qcR23ZTJJ7KJ"
      },
      "execution_count": 129,
      "outputs": []
    },
    {
      "cell_type": "code",
      "source": [
        "import numpy as np\n",
        "x_temp = np.load('/content/drive/MyDrive/information_live/x_vgg16.npy',allow_pickle= True)"
      ],
      "metadata": {
        "id": "Y2A-J6_Wl3HZ"
      },
      "execution_count": 130,
      "outputs": []
    },
    {
      "cell_type": "code",
      "source": [
        "x_temp.shape[0]"
      ],
      "metadata": {
        "colab": {
          "base_uri": "https://localhost:8080/"
        },
        "id": "v_RTNh9p2sEC",
        "outputId": "8d7aa071-189f-40e3-f3d7-c8389e7ccc3b"
      },
      "execution_count": 131,
      "outputs": [
        {
          "output_type": "execute_result",
          "data": {
            "text/plain": [
              "160"
            ]
          },
          "metadata": {},
          "execution_count": 131
        }
      ]
    },
    {
      "cell_type": "code",
      "source": [
        "x_temp2 = np.empty(150,dtype=object)"
      ],
      "metadata": {
        "id": "gFat1VCN4E6D"
      },
      "execution_count": 132,
      "outputs": []
    },
    {
      "cell_type": "code",
      "source": [
        "idx = 0\n",
        "for i in range(x_temp.shape[0]):\n",
        "  if i % 16 == 0:\n",
        "    continue\n",
        "  x_temp2[idx] = x_temp[i]\n",
        "  idx+=1"
      ],
      "metadata": {
        "id": "pCIE5miT2y0o"
      },
      "execution_count": 133,
      "outputs": []
    },
    {
      "cell_type": "code",
      "source": [
        "x_temp2.shape"
      ],
      "metadata": {
        "colab": {
          "base_uri": "https://localhost:8080/"
        },
        "id": "ad9Xxz5K5o3P",
        "outputId": "2a847b6f-fbf2-4b41-b697-ae50e71cc38b"
      },
      "execution_count": 134,
      "outputs": [
        {
          "output_type": "execute_result",
          "data": {
            "text/plain": [
              "(150,)"
            ]
          },
          "metadata": {},
          "execution_count": 134
        }
      ]
    },
    {
      "cell_type": "markdown",
      "source": [
        "## Load DOM"
      ],
      "metadata": {
        "id": "gfkuFHJ55z_9"
      }
    },
    {
      "cell_type": "code",
      "source": [
        "y_temp = np.loadtxt('/content/drive/MyDrive/live_dataset_Reconstructed_Residuals/live_video_quality_data.txt')"
      ],
      "metadata": {
        "id": "62EWrfUA56Mx"
      },
      "execution_count": 135,
      "outputs": []
    },
    {
      "cell_type": "code",
      "source": [
        "y_temp.shape"
      ],
      "metadata": {
        "colab": {
          "base_uri": "https://localhost:8080/"
        },
        "id": "Wl0Xi9fs6dBG",
        "outputId": "4162e828-51f2-4cb7-b960-2675c5f7ceae"
      },
      "execution_count": 136,
      "outputs": [
        {
          "output_type": "execute_result",
          "data": {
            "text/plain": [
              "(150, 2)"
            ]
          },
          "metadata": {},
          "execution_count": 136
        }
      ]
    },
    {
      "cell_type": "code",
      "source": [
        "y = y_temp[:,0]"
      ],
      "metadata": {
        "id": "SHpQH5T76jFV"
      },
      "execution_count": 137,
      "outputs": []
    },
    {
      "cell_type": "code",
      "source": [
        "y = np.asarray(y).astype('float32')"
      ],
      "metadata": {
        "id": "Hl3IhQVyRAEJ"
      },
      "execution_count": 138,
      "outputs": []
    },
    {
      "cell_type": "markdown",
      "source": [
        "## POT"
      ],
      "metadata": {
        "id": "SUN0SN8R5tQP"
      }
    },
    {
      "cell_type": "code",
      "source": [
        "np.mean(x_temp2[10], axis=1).shape"
      ],
      "metadata": {
        "colab": {
          "base_uri": "https://localhost:8080/"
        },
        "id": "o8I_DHJRIblD",
        "outputId": "0b1426e5-9c4a-4893-b058-1ab569b35009"
      },
      "execution_count": 139,
      "outputs": [
        {
          "output_type": "execute_result",
          "data": {
            "text/plain": [
              "(4096,)"
            ]
          },
          "metadata": {},
          "execution_count": 139
        }
      ]
    },
    {
      "cell_type": "code",
      "source": [
        "x = np.empty((150,4096),dtype=object)\n",
        "for i in range(x_temp2.shape[0]):\n",
        "  x[i,:] = np.mean(x_temp2[i], axis=1)\n",
        "  pass"
      ],
      "metadata": {
        "id": "pBGiyTC95qZu"
      },
      "execution_count": 140,
      "outputs": []
    },
    {
      "cell_type": "code",
      "source": [
        "x.shape"
      ],
      "metadata": {
        "colab": {
          "base_uri": "https://localhost:8080/"
        },
        "id": "JmsaAqQjJah7",
        "outputId": "9ea86c95-7638-484a-cdb2-6a61310e565b"
      },
      "execution_count": 141,
      "outputs": [
        {
          "output_type": "execute_result",
          "data": {
            "text/plain": [
              "(150, 4096)"
            ]
          },
          "metadata": {},
          "execution_count": 141
        }
      ]
    },
    {
      "cell_type": "code",
      "source": [
        "x = np.asarray(x).astype('float32')"
      ],
      "metadata": {
        "id": "YsYolfHdQ6KI"
      },
      "execution_count": 142,
      "outputs": []
    },
    {
      "cell_type": "markdown",
      "source": [
        "# Data preparation"
      ],
      "metadata": {
        "id": "fyaOTZn1JhFP"
      }
    },
    {
      "cell_type": "code",
      "source": [
        "x_test = x[0:30,:].copy()\n",
        "y_test = y[0:30].copy()"
      ],
      "metadata": {
        "id": "QCenLye0Lagv"
      },
      "execution_count": 143,
      "outputs": []
    },
    {
      "cell_type": "code",
      "source": [
        "x_test.shape"
      ],
      "metadata": {
        "colab": {
          "base_uri": "https://localhost:8080/"
        },
        "id": "HC7GCYclLiQG",
        "outputId": "0e337b05-a189-4ea1-91f9-c0c902dd9c4d"
      },
      "execution_count": 144,
      "outputs": [
        {
          "output_type": "execute_result",
          "data": {
            "text/plain": [
              "(30, 4096)"
            ]
          },
          "metadata": {},
          "execution_count": 144
        }
      ]
    },
    {
      "cell_type": "code",
      "source": [
        "x_train = x[30:,:].copy()\n",
        "y_train = y[30:].copy()"
      ],
      "metadata": {
        "id": "hLERvSSGLlHF"
      },
      "execution_count": 145,
      "outputs": []
    },
    {
      "cell_type": "code",
      "source": [
        "x_train.shape"
      ],
      "metadata": {
        "colab": {
          "base_uri": "https://localhost:8080/"
        },
        "id": "lIwTDsm1LyIv",
        "outputId": "e9b12525-224b-40cf-b142-cf4764108408"
      },
      "execution_count": 146,
      "outputs": [
        {
          "output_type": "execute_result",
          "data": {
            "text/plain": [
              "(120, 4096)"
            ]
          },
          "metadata": {},
          "execution_count": 146
        }
      ]
    },
    {
      "cell_type": "code",
      "source": [
        "def do_shuffle(X,Y,number_of_data):\n",
        "  shuffle_index = np.arange(number_of_data)\n",
        "  np.random.shuffle(shuffle_index)\n",
        "  return X[shuffle_index],Y[shuffle_index]"
      ],
      "metadata": {
        "id": "aTSxbuuQOP0M"
      },
      "execution_count": 147,
      "outputs": []
    },
    {
      "cell_type": "code",
      "source": [
        "x_train,y_train = do_shuffle(x_train,y_train,120)"
      ],
      "metadata": {
        "id": "_JU6ofk6ORFl"
      },
      "execution_count": 148,
      "outputs": []
    },
    {
      "cell_type": "code",
      "source": [
        "x_train.dtype"
      ],
      "metadata": {
        "colab": {
          "base_uri": "https://localhost:8080/"
        },
        "id": "rgi1n2SqPddA",
        "outputId": "b5b04b09-0af0-4386-af51-78557a448609"
      },
      "execution_count": 149,
      "outputs": [
        {
          "output_type": "execute_result",
          "data": {
            "text/plain": [
              "dtype('float32')"
            ]
          },
          "metadata": {},
          "execution_count": 149
        }
      ]
    },
    {
      "cell_type": "markdown",
      "source": [
        "## Model"
      ],
      "metadata": {
        "id": "hJlHZY5IPoIi"
      }
    },
    {
      "cell_type": "code",
      "source": [
        "model = Sequential()\n",
        "model.add(Dense(64, activation=\"linear\"))\n",
        "model.add(Dropout(0.35))\n",
        "model.add(Dense(32, activation=\"linear\"))\n",
        "model.add(Dropout(0.25))\n",
        "model.add(Dense(16,activation=\"linear\"))\n",
        "model.add(Dense(2, activation=\"linear\"))\n",
        "\n",
        "callback = keras.callbacks.EarlyStopping(monitor='val_loss', patience=5)\n",
        "\n",
        "opt = Adam(learning_rate=1e-3, decay=1e-3 / 200)\n",
        "model.compile(loss=\"mean_squared_error\", optimizer=opt)\n",
        "# train the model\n",
        "history = model.fit(x=x_train, y=y_train, \n",
        "\tvalidation_data=(x_test, y_test),\n",
        "\tepochs=25, \n",
        "\tbatch_size=32)"
      ],
      "metadata": {
        "colab": {
          "base_uri": "https://localhost:8080/"
        },
        "id": "vT5O-XvSPfe5",
        "outputId": "d888477a-3392-4b52-dd76-48737764e6f8"
      },
      "execution_count": 150,
      "outputs": [
        {
          "output_type": "stream",
          "name": "stdout",
          "text": [
            "Epoch 1/25\n",
            "4/4 [==============================] - 1s 49ms/step - loss: 1173.0513 - val_loss: 439.4739\n",
            "Epoch 2/25\n",
            "4/4 [==============================] - 0s 11ms/step - loss: 784.0677 - val_loss: 147.8406\n",
            "Epoch 3/25\n",
            "4/4 [==============================] - 0s 11ms/step - loss: 459.2206 - val_loss: 505.2856\n",
            "Epoch 4/25\n",
            "4/4 [==============================] - 0s 10ms/step - loss: 501.7033 - val_loss: 347.5153\n",
            "Epoch 5/25\n",
            "4/4 [==============================] - 0s 10ms/step - loss: 318.3716 - val_loss: 164.2665\n",
            "Epoch 6/25\n",
            "4/4 [==============================] - 0s 10ms/step - loss: 346.6248 - val_loss: 130.2267\n",
            "Epoch 7/25\n",
            "4/4 [==============================] - 0s 11ms/step - loss: 291.9739 - val_loss: 204.6540\n",
            "Epoch 8/25\n",
            "4/4 [==============================] - 0s 11ms/step - loss: 235.6009 - val_loss: 173.3610\n",
            "Epoch 9/25\n",
            "4/4 [==============================] - 0s 15ms/step - loss: 260.0400 - val_loss: 159.9301\n",
            "Epoch 10/25\n",
            "4/4 [==============================] - 0s 11ms/step - loss: 261.3516 - val_loss: 137.2944\n",
            "Epoch 11/25\n",
            "4/4 [==============================] - 0s 12ms/step - loss: 257.9021 - val_loss: 173.8648\n",
            "Epoch 12/25\n",
            "4/4 [==============================] - 0s 11ms/step - loss: 240.4992 - val_loss: 164.9516\n",
            "Epoch 13/25\n",
            "4/4 [==============================] - 0s 14ms/step - loss: 248.5416 - val_loss: 160.6549\n",
            "Epoch 14/25\n",
            "4/4 [==============================] - 0s 11ms/step - loss: 241.0582 - val_loss: 144.7919\n",
            "Epoch 15/25\n",
            "4/4 [==============================] - 0s 12ms/step - loss: 239.7385 - val_loss: 135.0492\n",
            "Epoch 16/25\n",
            "4/4 [==============================] - 0s 10ms/step - loss: 214.0628 - val_loss: 119.7094\n",
            "Epoch 17/25\n",
            "4/4 [==============================] - 0s 15ms/step - loss: 229.8083 - val_loss: 117.8414\n",
            "Epoch 18/25\n",
            "4/4 [==============================] - 0s 11ms/step - loss: 271.3807 - val_loss: 152.3117\n",
            "Epoch 19/25\n",
            "4/4 [==============================] - 0s 10ms/step - loss: 253.4223 - val_loss: 125.1864\n",
            "Epoch 20/25\n",
            "4/4 [==============================] - 0s 16ms/step - loss: 208.0736 - val_loss: 151.9986\n",
            "Epoch 21/25\n",
            "4/4 [==============================] - 0s 11ms/step - loss: 250.5754 - val_loss: 157.4968\n",
            "Epoch 22/25\n",
            "4/4 [==============================] - 0s 13ms/step - loss: 224.7036 - val_loss: 123.7527\n",
            "Epoch 23/25\n",
            "4/4 [==============================] - 0s 11ms/step - loss: 226.7067 - val_loss: 144.3468\n",
            "Epoch 24/25\n",
            "4/4 [==============================] - 0s 12ms/step - loss: 199.5987 - val_loss: 128.5916\n",
            "Epoch 25/25\n",
            "4/4 [==============================] - 0s 11ms/step - loss: 232.1292 - val_loss: 127.1952\n"
          ]
        }
      ]
    },
    {
      "cell_type": "markdown",
      "source": [
        "## Plot"
      ],
      "metadata": {
        "id": "4DbUiCxdRNC0"
      }
    },
    {
      "cell_type": "code",
      "source": [
        "import matplotlib.pyplot as plt\n",
        "\n",
        "def plot_diagrams_trian_process(history):\n",
        "    plt.xlabel('Epoch')\n",
        "    plt.ylabel('Loss')\n",
        "    plt.plot(history['loss'])\n",
        "    plt.plot(history['val_loss'])\n",
        "    plt.legend(['loss','val_loss'])"
      ],
      "metadata": {
        "id": "kXN3pDBpROOy"
      },
      "execution_count": 151,
      "outputs": []
    },
    {
      "cell_type": "code",
      "source": [
        "plot_diagrams_trian_process(history.history)"
      ],
      "metadata": {
        "colab": {
          "base_uri": "https://localhost:8080/",
          "height": 279
        },
        "id": "mUsvxo1KRPJR",
        "outputId": "0f8194be-1474-4011-ce26-76802916075c"
      },
      "execution_count": 152,
      "outputs": [
        {
          "output_type": "display_data",
          "data": {
            "text/plain": [
              "<Figure size 432x288 with 1 Axes>"
            ],
            "image/png": "[encoded data removed]"
          },
          "metadata": {
            "needs_background": "light"
          }
        }
      ]
    }
  ]
}