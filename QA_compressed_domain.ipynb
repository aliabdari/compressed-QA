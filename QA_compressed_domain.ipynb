{
  "cells": [
    {
      "cell_type": "markdown",
      "metadata": {
        "id": "view-in-github",
        "colab_type": "text"
      },
      "source": [
        "<a href=\"https://colab.research.google.com/github/aliabdari/compressed-QA/blob/main/QA_compressed_domain.ipynb\" target=\"_parent\"><img src=\"https://colab.research.google.com/assets/colab-badge.svg\" alt=\"Open In Colab\"/></a>"
      ]
    },
    {
      "cell_type": "code",
      "execution_count": 188,
      "metadata": {
        "colab": {
          "base_uri": "https://localhost:8080/"
        },
        "id": "0BohLnoGkx_7",
        "outputId": "ed01c8b8-03ec-4220-f407-12b381a8740d"
      },
      "outputs": [
        {
          "output_type": "stream",
          "name": "stdout",
          "text": [
            "Drive already mounted at /content/drive; to attempt to forcibly remount, call drive.mount(\"/content/drive\", force_remount=True).\n"
          ]
        }
      ],
      "source": [
        "from google.colab import drive\n",
        "drive.mount('/content/drive')"
      ]
    },
    {
      "cell_type": "code",
      "execution_count": 189,
      "metadata": {
        "id": "qcR23ZTJJ7KJ"
      },
      "outputs": [],
      "source": [
        "import pandas as pd\n",
        "import numpy as np\n",
        "\n",
        "from tensorflow.keras.models import Sequential\n",
        "from tensorflow.keras.layers import BatchNormalization\n",
        "from tensorflow.keras.layers import Activation\n",
        "from tensorflow.keras.layers import Dropout\n",
        "from tensorflow.keras.layers import Dense\n",
        "from tensorflow.keras.layers import Input\n",
        "from tensorflow.keras.models import Model\n",
        "from tensorflow.keras.optimizers import Adam\n",
        "from tensorflow.keras.regularizers import l2\n",
        "from tensorflow import keras"
      ]
    },
    {
      "cell_type": "code",
      "execution_count": 190,
      "metadata": {
        "id": "Y2A-J6_Wl3HZ"
      },
      "outputs": [],
      "source": [
        "import numpy as np\n",
        "x_temp = np.load('/content/drive/MyDrive/information_live/x_vgg16.npy',allow_pickle= True)"
      ]
    },
    {
      "cell_type": "code",
      "execution_count": 191,
      "metadata": {
        "colab": {
          "base_uri": "https://localhost:8080/"
        },
        "id": "v_RTNh9p2sEC",
        "outputId": "6efb00f4-1600-4702-f932-dab2a751a2c3"
      },
      "outputs": [
        {
          "output_type": "execute_result",
          "data": {
            "text/plain": [
              "160"
            ]
          },
          "metadata": {},
          "execution_count": 191
        }
      ],
      "source": [
        "x_temp.shape[0]"
      ]
    },
    {
      "cell_type": "code",
      "execution_count": 192,
      "metadata": {
        "id": "gFat1VCN4E6D"
      },
      "outputs": [],
      "source": [
        "x_temp2 = np.empty(150,dtype=object)"
      ]
    },
    {
      "cell_type": "code",
      "execution_count": 193,
      "metadata": {
        "id": "pCIE5miT2y0o"
      },
      "outputs": [],
      "source": [
        "idx = 0\n",
        "for i in range(x_temp.shape[0]):\n",
        "  if i % 16 == 0:\n",
        "    continue\n",
        "  x_temp2[idx] = x_temp[i]\n",
        "  idx+=1"
      ]
    },
    {
      "cell_type": "code",
      "execution_count": 194,
      "metadata": {
        "colab": {
          "base_uri": "https://localhost:8080/"
        },
        "id": "ad9Xxz5K5o3P",
        "outputId": "4fd4f5a7-18c5-42c1-cbd4-c5cfa3aa05bd"
      },
      "outputs": [
        {
          "output_type": "execute_result",
          "data": {
            "text/plain": [
              "(150,)"
            ]
          },
          "metadata": {},
          "execution_count": 194
        }
      ],
      "source": [
        "x_temp2.shape"
      ]
    },
    {
      "cell_type": "markdown",
      "metadata": {
        "id": "gfkuFHJ55z_9"
      },
      "source": [
        "## Load DOM"
      ]
    },
    {
      "cell_type": "code",
      "execution_count": 195,
      "metadata": {
        "id": "62EWrfUA56Mx"
      },
      "outputs": [],
      "source": [
        "y_temp = np.loadtxt('/content/drive/MyDrive/live_dataset_Reconstructed_Residuals/live_video_quality_data.txt')"
      ]
    },
    {
      "cell_type": "code",
      "execution_count": 196,
      "metadata": {
        "colab": {
          "base_uri": "https://localhost:8080/"
        },
        "id": "Wl0Xi9fs6dBG",
        "outputId": "e63d8ce9-74ef-4dbf-a295-95ffe17fa55f"
      },
      "outputs": [
        {
          "output_type": "execute_result",
          "data": {
            "text/plain": [
              "(150, 2)"
            ]
          },
          "metadata": {},
          "execution_count": 196
        }
      ],
      "source": [
        "y_temp.shape"
      ]
    },
    {
      "cell_type": "code",
      "execution_count": 197,
      "metadata": {
        "id": "SHpQH5T76jFV"
      },
      "outputs": [],
      "source": [
        "y = y_temp[:,0]"
      ]
    },
    {
      "cell_type": "code",
      "execution_count": 198,
      "metadata": {
        "id": "Hl3IhQVyRAEJ"
      },
      "outputs": [],
      "source": [
        "y = np.asarray(y).astype('float32')"
      ]
    },
    {
      "cell_type": "code",
      "source": [
        "max_y = np.max(y)"
      ],
      "metadata": {
        "id": "uocTHggicSuq"
      },
      "execution_count": 199,
      "outputs": []
    },
    {
      "cell_type": "code",
      "source": [
        "y=y/max_y"
      ],
      "metadata": {
        "id": "vVOcfXXxcU8x"
      },
      "execution_count": 200,
      "outputs": []
    },
    {
      "cell_type": "markdown",
      "metadata": {
        "id": "SUN0SN8R5tQP"
      },
      "source": [
        "## POT"
      ]
    },
    {
      "cell_type": "code",
      "execution_count": 201,
      "metadata": {
        "colab": {
          "base_uri": "https://localhost:8080/"
        },
        "id": "o8I_DHJRIblD",
        "outputId": "d031e44d-49b2-436c-927f-717ba6f53f07"
      },
      "outputs": [
        {
          "output_type": "execute_result",
          "data": {
            "text/plain": [
              "(4096,)"
            ]
          },
          "metadata": {},
          "execution_count": 201
        }
      ],
      "source": [
        "np.mean(x_temp2[10], axis=1).shape"
      ]
    },
    {
      "cell_type": "code",
      "execution_count": 202,
      "metadata": {
        "id": "pBGiyTC95qZu"
      },
      "outputs": [],
      "source": [
        "x = np.empty((150,4096),dtype=object)\n",
        "for i in range(x_temp2.shape[0]):\n",
        "  x[i,:] = np.mean(x_temp2[i], axis=1)\n",
        "  pass"
      ]
    },
    {
      "cell_type": "code",
      "execution_count": 203,
      "metadata": {
        "colab": {
          "base_uri": "https://localhost:8080/"
        },
        "id": "JmsaAqQjJah7",
        "outputId": "0faea9d9-1273-4855-9174-f69cb50069e7"
      },
      "outputs": [
        {
          "output_type": "execute_result",
          "data": {
            "text/plain": [
              "(150, 4096)"
            ]
          },
          "metadata": {},
          "execution_count": 203
        }
      ],
      "source": [
        "x.shape"
      ]
    },
    {
      "cell_type": "code",
      "execution_count": 204,
      "metadata": {
        "id": "YsYolfHdQ6KI"
      },
      "outputs": [],
      "source": [
        "x = np.asarray(x).astype('float32')"
      ]
    },
    {
      "cell_type": "code",
      "source": [
        "np.max(x)"
      ],
      "metadata": {
        "colab": {
          "base_uri": "https://localhost:8080/"
        },
        "id": "XXAH4IhRcPFu",
        "outputId": "299ff1a0-2556-4ac4-f357-578061e77e77"
      },
      "execution_count": 205,
      "outputs": [
        {
          "output_type": "execute_result",
          "data": {
            "text/plain": [
              "4.789821"
            ]
          },
          "metadata": {},
          "execution_count": 205
        }
      ]
    },
    {
      "cell_type": "code",
      "source": [
        "x = x/np.max(x)"
      ],
      "metadata": {
        "id": "hNWg5qgPcF0g"
      },
      "execution_count": 206,
      "outputs": []
    },
    {
      "cell_type": "markdown",
      "metadata": {
        "id": "fyaOTZn1JhFP"
      },
      "source": [
        "# Data preparation"
      ]
    },
    {
      "cell_type": "code",
      "execution_count": 207,
      "metadata": {
        "id": "QCenLye0Lagv"
      },
      "outputs": [],
      "source": [
        "x_test = x[0:30,:].copy()\n",
        "y_test = y[0:30].copy()"
      ]
    },
    {
      "cell_type": "code",
      "execution_count": 208,
      "metadata": {
        "colab": {
          "base_uri": "https://localhost:8080/"
        },
        "id": "HC7GCYclLiQG",
        "outputId": "2695756e-72f1-4863-ef79-d7b88e862656"
      },
      "outputs": [
        {
          "output_type": "execute_result",
          "data": {
            "text/plain": [
              "(30, 4096)"
            ]
          },
          "metadata": {},
          "execution_count": 208
        }
      ],
      "source": [
        "x_test.shape"
      ]
    },
    {
      "cell_type": "code",
      "execution_count": 209,
      "metadata": {
        "id": "hLERvSSGLlHF"
      },
      "outputs": [],
      "source": [
        "x_train = x[30:,:].copy()\n",
        "y_train = y[30:].copy()"
      ]
    },
    {
      "cell_type": "code",
      "execution_count": 210,
      "metadata": {
        "colab": {
          "base_uri": "https://localhost:8080/"
        },
        "id": "lIwTDsm1LyIv",
        "outputId": "847cd3d8-d2ab-4105-aec1-67341bb8ab1b"
      },
      "outputs": [
        {
          "output_type": "execute_result",
          "data": {
            "text/plain": [
              "(120, 4096)"
            ]
          },
          "metadata": {},
          "execution_count": 210
        }
      ],
      "source": [
        "x_train.shape"
      ]
    },
    {
      "cell_type": "code",
      "execution_count": 211,
      "metadata": {
        "id": "aTSxbuuQOP0M"
      },
      "outputs": [],
      "source": [
        "def do_shuffle(X,Y,number_of_data):\n",
        "  shuffle_index = np.arange(number_of_data)\n",
        "  np.random.shuffle(shuffle_index)\n",
        "  return X[shuffle_index],Y[shuffle_index]"
      ]
    },
    {
      "cell_type": "code",
      "execution_count": 212,
      "metadata": {
        "id": "_JU6ofk6ORFl"
      },
      "outputs": [],
      "source": [
        "x_train,y_train = do_shuffle(x_train,y_train,120)"
      ]
    },
    {
      "cell_type": "code",
      "execution_count": 213,
      "metadata": {
        "colab": {
          "base_uri": "https://localhost:8080/"
        },
        "id": "rgi1n2SqPddA",
        "outputId": "343d7a3d-3a96-46a6-8b97-4ec7b7b0242c"
      },
      "outputs": [
        {
          "output_type": "execute_result",
          "data": {
            "text/plain": [
              "dtype('float32')"
            ]
          },
          "metadata": {},
          "execution_count": 213
        }
      ],
      "source": [
        "x_train.dtype"
      ]
    },
    {
      "cell_type": "markdown",
      "metadata": {
        "id": "hJlHZY5IPoIi"
      },
      "source": [
        "## Model"
      ]
    },
    {
      "cell_type": "code",
      "source": [
        "from sklearn.model_selection import train_test_split\n",
        "\n",
        "x_train, x_valid, y_train, y_valid = train_test_split(x_train, y_train, test_size=0.08, shuffle= True)"
      ],
      "metadata": {
        "id": "Z45TXCVVEL2a"
      },
      "execution_count": 214,
      "outputs": []
    },
    {
      "cell_type": "code",
      "execution_count": 215,
      "metadata": {
        "colab": {
          "base_uri": "https://localhost:8080/"
        },
        "id": "vT5O-XvSPfe5",
        "outputId": "f8063acd-362c-4ef4-d444-77b11ef6cc6e"
      },
      "outputs": [
        {
          "output_type": "stream",
          "name": "stdout",
          "text": [
            "Epoch 1/60\n",
            "2/2 [==============================] - 1s 131ms/step - loss: 0.4512 - val_loss: 0.0212\n",
            "Epoch 2/60\n",
            "2/2 [==============================] - 0s 22ms/step - loss: 0.1609 - val_loss: 0.2128\n",
            "Epoch 3/60\n",
            "2/2 [==============================] - 0s 21ms/step - loss: 0.2245 - val_loss: 0.1996\n",
            "Epoch 4/60\n",
            "2/2 [==============================] - 0s 21ms/step - loss: 0.1745 - val_loss: 0.0686\n",
            "Epoch 5/60\n",
            "2/2 [==============================] - 0s 20ms/step - loss: 0.1089 - val_loss: 0.0100\n",
            "Epoch 6/60\n",
            "2/2 [==============================] - 0s 39ms/step - loss: 0.1124 - val_loss: 0.0148\n",
            "Epoch 7/60\n",
            "2/2 [==============================] - 0s 23ms/step - loss: 0.1658 - val_loss: 0.0081\n",
            "Epoch 8/60\n",
            "2/2 [==============================] - 0s 22ms/step - loss: 0.0941 - val_loss: 0.0340\n",
            "Epoch 9/60\n",
            "2/2 [==============================] - 0s 22ms/step - loss: 0.0901 - val_loss: 0.0764\n",
            "Epoch 10/60\n",
            "2/2 [==============================] - 0s 21ms/step - loss: 0.1237 - val_loss: 0.0900\n",
            "Epoch 11/60\n",
            "2/2 [==============================] - 0s 24ms/step - loss: 0.1109 - val_loss: 0.0708\n",
            "Epoch 12/60\n",
            "2/2 [==============================] - 0s 24ms/step - loss: 0.0837 - val_loss: 0.0411\n",
            "Epoch 13/60\n",
            "2/2 [==============================] - 0s 23ms/step - loss: 0.0709 - val_loss: 0.0195\n",
            "Epoch 14/60\n",
            "2/2 [==============================] - 0s 42ms/step - loss: 0.0790 - val_loss: 0.0115\n",
            "Epoch 15/60\n",
            "2/2 [==============================] - 0s 22ms/step - loss: 0.0938 - val_loss: 0.0115\n",
            "Epoch 16/60\n",
            "2/2 [==============================] - 0s 22ms/step - loss: 0.0809 - val_loss: 0.0248\n",
            "Epoch 17/60\n",
            "2/2 [==============================] - 0s 28ms/step - loss: 0.0889 - val_loss: 0.0552\n",
            "Epoch 18/60\n",
            "2/2 [==============================] - 0s 22ms/step - loss: 0.0760 - val_loss: 0.0622\n",
            "Epoch 19/60\n",
            "2/2 [==============================] - 0s 22ms/step - loss: 0.0761 - val_loss: 0.0430\n",
            "Epoch 20/60\n",
            "2/2 [==============================] - 0s 25ms/step - loss: 0.0692 - val_loss: 0.0193\n",
            "Epoch 21/60\n",
            "2/2 [==============================] - 0s 22ms/step - loss: 0.0506 - val_loss: 0.0124\n",
            "Epoch 22/60\n",
            "2/2 [==============================] - 0s 22ms/step - loss: 0.0830 - val_loss: 0.0198\n",
            "Epoch 23/60\n",
            "2/2 [==============================] - 0s 21ms/step - loss: 0.0664 - val_loss: 0.0404\n",
            "Epoch 24/60\n",
            "2/2 [==============================] - 0s 21ms/step - loss: 0.0593 - val_loss: 0.0517\n",
            "Epoch 25/60\n",
            "2/2 [==============================] - 0s 21ms/step - loss: 0.0624 - val_loss: 0.0377\n",
            "Epoch 26/60\n",
            "2/2 [==============================] - 0s 21ms/step - loss: 0.0535 - val_loss: 0.0195\n",
            "Epoch 27/60\n",
            "2/2 [==============================] - 0s 21ms/step - loss: 0.0545 - val_loss: 0.0138\n",
            "Epoch 28/60\n",
            "2/2 [==============================] - 0s 21ms/step - loss: 0.0585 - val_loss: 0.0207\n",
            "Epoch 29/60\n",
            "2/2 [==============================] - 0s 21ms/step - loss: 0.0475 - val_loss: 0.0386\n",
            "Epoch 30/60\n",
            "2/2 [==============================] - 0s 22ms/step - loss: 0.0500 - val_loss: 0.0472\n",
            "Epoch 31/60\n",
            "2/2 [==============================] - 0s 21ms/step - loss: 0.0578 - val_loss: 0.0319\n",
            "Epoch 32/60\n",
            "2/2 [==============================] - 0s 24ms/step - loss: 0.0485 - val_loss: 0.0155\n",
            "Epoch 33/60\n",
            "2/2 [==============================] - 0s 21ms/step - loss: 0.0478 - val_loss: 0.0134\n",
            "Epoch 34/60\n",
            "2/2 [==============================] - 0s 21ms/step - loss: 0.0484 - val_loss: 0.0288\n",
            "Epoch 35/60\n",
            "2/2 [==============================] - 0s 21ms/step - loss: 0.0434 - val_loss: 0.0380\n",
            "Epoch 36/60\n",
            "2/2 [==============================] - 0s 44ms/step - loss: 0.0510 - val_loss: 0.0295\n",
            "Epoch 37/60\n",
            "2/2 [==============================] - 0s 21ms/step - loss: 0.0408 - val_loss: 0.0162\n",
            "Epoch 38/60\n",
            "2/2 [==============================] - 0s 22ms/step - loss: 0.0389 - val_loss: 0.0140\n",
            "Epoch 39/60\n",
            "2/2 [==============================] - 0s 24ms/step - loss: 0.0377 - val_loss: 0.0211\n",
            "Epoch 40/60\n",
            "2/2 [==============================] - 0s 32ms/step - loss: 0.0398 - val_loss: 0.0280\n",
            "Epoch 41/60\n",
            "2/2 [==============================] - 0s 22ms/step - loss: 0.0401 - val_loss: 0.0247\n",
            "Epoch 42/60\n",
            "2/2 [==============================] - 0s 28ms/step - loss: 0.0311 - val_loss: 0.0148\n",
            "Epoch 43/60\n",
            "2/2 [==============================] - 0s 24ms/step - loss: 0.0323 - val_loss: 0.0120\n",
            "Epoch 44/60\n",
            "2/2 [==============================] - 0s 41ms/step - loss: 0.0399 - val_loss: 0.0189\n",
            "Epoch 45/60\n",
            "2/2 [==============================] - 0s 23ms/step - loss: 0.0387 - val_loss: 0.0271\n",
            "Epoch 46/60\n",
            "2/2 [==============================] - 0s 22ms/step - loss: 0.0295 - val_loss: 0.0237\n",
            "Epoch 47/60\n",
            "2/2 [==============================] - 0s 23ms/step - loss: 0.0329 - val_loss: 0.0184\n",
            "Epoch 48/60\n",
            "2/2 [==============================] - 0s 23ms/step - loss: 0.0328 - val_loss: 0.0176\n",
            "Epoch 49/60\n",
            "2/2 [==============================] - 0s 22ms/step - loss: 0.0286 - val_loss: 0.0182\n",
            "Epoch 50/60\n",
            "2/2 [==============================] - 0s 21ms/step - loss: 0.0293 - val_loss: 0.0182\n",
            "Epoch 51/60\n",
            "2/2 [==============================] - 0s 21ms/step - loss: 0.0319 - val_loss: 0.0166\n",
            "Epoch 52/60\n",
            "2/2 [==============================] - 0s 21ms/step - loss: 0.0352 - val_loss: 0.0207\n",
            "Epoch 53/60\n",
            "2/2 [==============================] - 0s 22ms/step - loss: 0.0248 - val_loss: 0.0160\n",
            "Epoch 54/60\n",
            "2/2 [==============================] - 0s 25ms/step - loss: 0.0325 - val_loss: 0.0127\n",
            "Epoch 55/60\n",
            "2/2 [==============================] - 0s 21ms/step - loss: 0.0208 - val_loss: 0.0184\n",
            "Epoch 56/60\n",
            "2/2 [==============================] - 0s 21ms/step - loss: 0.0221 - val_loss: 0.0253\n",
            "Epoch 57/60\n",
            "2/2 [==============================] - 0s 24ms/step - loss: 0.0302 - val_loss: 0.0253\n",
            "Epoch 58/60\n",
            "2/2 [==============================] - 0s 21ms/step - loss: 0.0229 - val_loss: 0.0147\n",
            "Epoch 59/60\n",
            "2/2 [==============================] - 0s 23ms/step - loss: 0.0291 - val_loss: 0.0125\n",
            "Epoch 60/60\n",
            "2/2 [==============================] - 0s 21ms/step - loss: 0.0297 - val_loss: 0.0153\n"
          ]
        }
      ],
      "source": [
        "model = Sequential()\n",
        "model.add(Dense(32, activation=\"relu\"))\n",
        "model.add(Dropout(0.35))\n",
        "model.add(Dense(16, activation=\"linear\"))\n",
        "model.add(Dropout(0.25))\n",
        "model.add(Dense(8,activation=\"linear\"))\n",
        "model.add(Dense(4,activation=\"linear\"))\n",
        "model.add(Dense(1, activation=\"linear\"))\n",
        "\n",
        "callback = keras.callbacks.EarlyStopping(monitor='val_loss', patience=30)\n",
        "\n",
        "opt = Adam(learning_rate=1e-3, decay=1e-3 / 200)\n",
        "model.compile(loss=\"mean_squared_error\", optimizer=opt)\n",
        "\n",
        "history = model.fit(x=x_train, y=y_train, \n",
        "\tvalidation_data=(x_valid, y_valid),\n",
        "\tepochs=60, \n",
        "\tbatch_size=64)"
      ]
    },
    {
      "cell_type": "markdown",
      "metadata": {
        "id": "4DbUiCxdRNC0"
      },
      "source": [
        "## Plot"
      ]
    },
    {
      "cell_type": "code",
      "execution_count": 216,
      "metadata": {
        "id": "kXN3pDBpROOy"
      },
      "outputs": [],
      "source": [
        "import matplotlib.pyplot as plt\n",
        "\n",
        "def plot_diagrams_trian_process(history):\n",
        "    plt.xlabel('Epoch')\n",
        "    plt.ylabel('Loss')\n",
        "    plt.plot(history['loss'])\n",
        "    plt.plot(history['val_loss'])\n",
        "    plt.legend(['loss','val_loss'])"
      ]
    },
    {
      "cell_type": "code",
      "execution_count": 217,
      "metadata": {
        "colab": {
          "base_uri": "https://localhost:8080/",
          "height": 279
        },
        "id": "mUsvxo1KRPJR",
        "outputId": "0dcf2442-7de4-416c-cb56-96dee14d1a24"
      },
      "outputs": [
        {
          "output_type": "display_data",
          "data": {
            "text/plain": [
              "<Figure size 432x288 with 1 Axes>"
            ],
            "image/png": "[encoded data removed]"
          },
          "metadata": {
            "needs_background": "light"
          }
        }
      ],
      "source": [
        "plot_diagrams_trian_process(history.history)"
      ]
    },
    {
      "cell_type": "markdown",
      "source": [
        "##Predict"
      ],
      "metadata": {
        "id": "JAvcO71TEfsr"
      }
    },
    {
      "cell_type": "code",
      "source": [
        "y_test_predict = model.predict(x_test)\n",
        "y_test_predict *= max_y"
      ],
      "metadata": {
        "id": "Y89vL7ThEhD6"
      },
      "execution_count": 218,
      "outputs": []
    },
    {
      "cell_type": "code",
      "source": [
        "y_test_orig = y_test * max_y"
      ],
      "metadata": {
        "id": "z1EM8MSlFay0"
      },
      "execution_count": 219,
      "outputs": []
    },
    {
      "cell_type": "code",
      "source": [
        "plt.plot(y_test_predict, label = 'predicted test' ,color = 'red')\n",
        "plt.plot(y_test_orig, label = 'original test' ,color = 'blue')\n",
        "plt.legend()"
      ],
      "metadata": {
        "colab": {
          "base_uri": "https://localhost:8080/",
          "height": 282
        },
        "id": "JbuLQpDnFId0",
        "outputId": "54f5a308-c56e-4470-cfc7-6f5eafd2ae63"
      },
      "execution_count": 220,
      "outputs": [
        {
          "output_type": "execute_result",
          "data": {
            "text/plain": [
              "<matplotlib.legend.Legend at 0x7fd7bc33bd50>"
            ]
          },
          "metadata": {},
          "execution_count": 220
        },
        {
          "output_type": "display_data",
          "data": {
            "text/plain": [
              "<Figure size 432x288 with 1 Axes>"
            ],
            "image/png": "[encoded data removed]"
          },
          "metadata": {
            "needs_background": "light"
          }
        }
      ]
    },
    {
      "cell_type": "code",
      "source": [
        "from scipy import stats\n",
        "rho, pval = stats.spearmanr(y_test_predict, y_test_orig)"
      ],
      "metadata": {
        "id": "189R_tKEc1ST"
      },
      "execution_count": 221,
      "outputs": []
    },
    {
      "cell_type": "code",
      "source": [
        "y_train_predict = model.predict(x_train)\n",
        "y_train_predict *= max_y\n",
        "y_train_orig = y_train * max_y"
      ],
      "metadata": {
        "id": "owQr7MKBdEmZ"
      },
      "execution_count": 222,
      "outputs": []
    },
    {
      "cell_type": "code",
      "source": [
        "plt.plot(y_train_predict, label = 'predicted train' ,color = 'red')\n",
        "plt.plot(y_train_orig, label = 'original train' ,color = 'blue')\n",
        "plt.legend()"
      ],
      "metadata": {
        "colab": {
          "base_uri": "https://localhost:8080/",
          "height": 282
        },
        "id": "hKFFJfXlgUTx",
        "outputId": "dfba5b82-e114-46c2-ac77-c1b135d0f204"
      },
      "execution_count": 223,
      "outputs": [
        {
          "output_type": "execute_result",
          "data": {
            "text/plain": [
              "<matplotlib.legend.Legend at 0x7fd7bc1fcc90>"
            ]
          },
          "metadata": {},
          "execution_count": 223
        },
        {
          "output_type": "display_data",
          "data": {
            "text/plain": [
              "<Figure size 432x288 with 1 Axes>"
            ],
            "image/png": "[encoded data removed]"
          },
          "metadata": {
            "needs_background": "light"
          }
        }
      ]
    }
  ],
  "metadata": {
    "colab": {
      "name": "QA_compressed_domain.ipynb",
      "provenance": [],
      "include_colab_link": true
    },
    "gpuClass": "standard",
    "kernelspec": {
      "display_name": "Python 3",
      "name": "python3"
    },
    "language_info": {
      "name": "python"
    },
    "accelerator": "GPU"
  },
  "nbformat": 4,
  "nbformat_minor": 0
}