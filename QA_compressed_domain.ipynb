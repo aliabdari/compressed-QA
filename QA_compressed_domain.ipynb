{
  "cells": [
    {
      "cell_type": "markdown",
      "metadata": {
        "id": "view-in-github",
        "colab_type": "text"
      },
      "source": [
        "<a href=\"https://colab.research.google.com/github/aliabdari/compressed-QA/blob/main/QA_compressed_domain.ipynb\" target=\"_parent\"><img src=\"https://colab.research.google.com/assets/colab-badge.svg\" alt=\"Open In Colab\"/></a>"
      ]
    },
    {
      "cell_type": "code",
      "execution_count": 236,
      "metadata": {
        "colab": {
          "base_uri": "https://localhost:8080/"
        },
        "id": "0BohLnoGkx_7",
        "outputId": "a67a1837-ad82-458c-918b-d8d0438606e1"
      },
      "outputs": [
        {
          "output_type": "stream",
          "name": "stdout",
          "text": [
            "Drive already mounted at /content/drive; to attempt to forcibly remount, call drive.mount(\"/content/drive\", force_remount=True).\n"
          ]
        }
      ],
      "source": [
        "from google.colab import drive\n",
        "drive.mount('/content/drive')"
      ]
    },
    {
      "cell_type": "code",
      "execution_count": 237,
      "metadata": {
        "id": "qcR23ZTJJ7KJ"
      },
      "outputs": [],
      "source": [
        "import pandas as pd\n",
        "import numpy as np\n",
        "\n",
        "import matplotlib.pyplot as plt\n",
        "from sklearn.model_selection import train_test_split\n",
        "\n",
        "from tensorflow import keras\n",
        "from keras.models import Sequential\n",
        "from keras.layers import BatchNormalization\n",
        "from keras.layers import Activation\n",
        "from keras.layers import Dropout\n",
        "from keras.layers import Dense\n",
        "from keras.layers import Input\n",
        "from keras.models import Model\n",
        "from tensorflow.keras.optimizers import Adam\n",
        "from keras.regularizers import l2"
      ]
    },
    {
      "cell_type": "code",
      "execution_count": 238,
      "metadata": {
        "id": "Y2A-J6_Wl3HZ"
      },
      "outputs": [],
      "source": [
        "x_temp = np.load('/content/drive/MyDrive/information_live/x_vgg16.npy',allow_pickle= True)"
      ]
    },
    {
      "cell_type": "code",
      "execution_count": 239,
      "metadata": {
        "colab": {
          "base_uri": "https://localhost:8080/"
        },
        "id": "v_RTNh9p2sEC",
        "outputId": "e4b2a434-91e7-469d-f707-1c85aa693920"
      },
      "outputs": [
        {
          "output_type": "execute_result",
          "data": {
            "text/plain": [
              "160"
            ]
          },
          "metadata": {},
          "execution_count": 239
        }
      ],
      "source": [
        "x_temp.shape[0]"
      ]
    },
    {
      "cell_type": "code",
      "execution_count": 240,
      "metadata": {
        "id": "gFat1VCN4E6D"
      },
      "outputs": [],
      "source": [
        "x_temp2 = np.empty(150,dtype=object)"
      ]
    },
    {
      "cell_type": "code",
      "execution_count": 241,
      "metadata": {
        "id": "pCIE5miT2y0o"
      },
      "outputs": [],
      "source": [
        "idx = 0\n",
        "for i in range(x_temp.shape[0]):\n",
        "  if i % 16 == 0:\n",
        "    continue\n",
        "  x_temp2[idx] = x_temp[i]\n",
        "  idx+=1"
      ]
    },
    {
      "cell_type": "code",
      "execution_count": 242,
      "metadata": {
        "colab": {
          "base_uri": "https://localhost:8080/"
        },
        "id": "ad9Xxz5K5o3P",
        "outputId": "b8d00851-3e74-4387-e1e4-703a0521c84d"
      },
      "outputs": [
        {
          "output_type": "execute_result",
          "data": {
            "text/plain": [
              "(150,)"
            ]
          },
          "metadata": {},
          "execution_count": 242
        }
      ],
      "source": [
        "x_temp2.shape"
      ]
    },
    {
      "cell_type": "markdown",
      "metadata": {
        "id": "gfkuFHJ55z_9"
      },
      "source": [
        "## Load DOM"
      ]
    },
    {
      "cell_type": "code",
      "execution_count": 243,
      "metadata": {
        "id": "62EWrfUA56Mx"
      },
      "outputs": [],
      "source": [
        "y_temp = np.loadtxt('/content/drive/MyDrive/live_dataset_Reconstructed_Residuals/live_video_quality_data.txt')"
      ]
    },
    {
      "cell_type": "code",
      "execution_count": 244,
      "metadata": {
        "colab": {
          "base_uri": "https://localhost:8080/"
        },
        "id": "Wl0Xi9fs6dBG",
        "outputId": "beb771f7-439c-4754-97dd-479da5c3d3f4"
      },
      "outputs": [
        {
          "output_type": "execute_result",
          "data": {
            "text/plain": [
              "(150, 2)"
            ]
          },
          "metadata": {},
          "execution_count": 244
        }
      ],
      "source": [
        "y_temp.shape"
      ]
    },
    {
      "cell_type": "code",
      "execution_count": 245,
      "metadata": {
        "id": "SHpQH5T76jFV"
      },
      "outputs": [],
      "source": [
        "y = y_temp[:,0]"
      ]
    },
    {
      "cell_type": "code",
      "execution_count": 246,
      "metadata": {
        "id": "Hl3IhQVyRAEJ"
      },
      "outputs": [],
      "source": [
        "y = np.asarray(y).astype('float32')"
      ]
    },
    {
      "cell_type": "code",
      "source": [
        "max_y = np.max(y)"
      ],
      "metadata": {
        "id": "uocTHggicSuq"
      },
      "execution_count": 247,
      "outputs": []
    },
    {
      "cell_type": "code",
      "source": [
        "y=y/max_y"
      ],
      "metadata": {
        "id": "vVOcfXXxcU8x"
      },
      "execution_count": 248,
      "outputs": []
    },
    {
      "cell_type": "markdown",
      "metadata": {
        "id": "SUN0SN8R5tQP"
      },
      "source": [
        "## POT"
      ]
    },
    {
      "cell_type": "code",
      "execution_count": 249,
      "metadata": {
        "colab": {
          "base_uri": "https://localhost:8080/"
        },
        "id": "o8I_DHJRIblD",
        "outputId": "133117c5-cec2-4b97-b962-183ba80f7782"
      },
      "outputs": [
        {
          "output_type": "execute_result",
          "data": {
            "text/plain": [
              "(4096,)"
            ]
          },
          "metadata": {},
          "execution_count": 249
        }
      ],
      "source": [
        "np.mean(x_temp2[10], axis=1).shape"
      ]
    },
    {
      "cell_type": "code",
      "execution_count": 250,
      "metadata": {
        "id": "pBGiyTC95qZu"
      },
      "outputs": [],
      "source": [
        "x = np.empty((150,4096),dtype=object)\n",
        "for i in range(x_temp2.shape[0]):\n",
        "  x[i,:] = np.mean(x_temp2[i], axis=1)\n",
        "  pass"
      ]
    },
    {
      "cell_type": "code",
      "execution_count": 251,
      "metadata": {
        "colab": {
          "base_uri": "https://localhost:8080/"
        },
        "id": "JmsaAqQjJah7",
        "outputId": "4271004f-b7c2-4eef-f1c9-239e9e753d50"
      },
      "outputs": [
        {
          "output_type": "execute_result",
          "data": {
            "text/plain": [
              "(150, 4096)"
            ]
          },
          "metadata": {},
          "execution_count": 251
        }
      ],
      "source": [
        "x.shape"
      ]
    },
    {
      "cell_type": "code",
      "execution_count": 252,
      "metadata": {
        "id": "YsYolfHdQ6KI"
      },
      "outputs": [],
      "source": [
        "x = np.asarray(x).astype('float32')"
      ]
    },
    {
      "cell_type": "code",
      "source": [
        "np.max(x)"
      ],
      "metadata": {
        "colab": {
          "base_uri": "https://localhost:8080/"
        },
        "id": "XXAH4IhRcPFu",
        "outputId": "32eaf8a4-d709-45ff-9c5f-c651671c0170"
      },
      "execution_count": 253,
      "outputs": [
        {
          "output_type": "execute_result",
          "data": {
            "text/plain": [
              "4.789821"
            ]
          },
          "metadata": {},
          "execution_count": 253
        }
      ]
    },
    {
      "cell_type": "code",
      "source": [
        "x = x/np.max(x)"
      ],
      "metadata": {
        "id": "hNWg5qgPcF0g"
      },
      "execution_count": 254,
      "outputs": []
    },
    {
      "cell_type": "markdown",
      "metadata": {
        "id": "fyaOTZn1JhFP"
      },
      "source": [
        "# Data preparation"
      ]
    },
    {
      "cell_type": "code",
      "execution_count": 255,
      "metadata": {
        "id": "QCenLye0Lagv"
      },
      "outputs": [],
      "source": [
        "x_test = x[0:30,:].copy()\n",
        "y_test = y[0:30].copy()"
      ]
    },
    {
      "cell_type": "code",
      "execution_count": 256,
      "metadata": {
        "colab": {
          "base_uri": "https://localhost:8080/"
        },
        "id": "HC7GCYclLiQG",
        "outputId": "9167a47c-6e27-4a2a-ad19-bc384d066df9"
      },
      "outputs": [
        {
          "output_type": "execute_result",
          "data": {
            "text/plain": [
              "(30, 4096)"
            ]
          },
          "metadata": {},
          "execution_count": 256
        }
      ],
      "source": [
        "x_test.shape"
      ]
    },
    {
      "cell_type": "code",
      "execution_count": 257,
      "metadata": {
        "id": "hLERvSSGLlHF"
      },
      "outputs": [],
      "source": [
        "x_train = x[30:,:].copy()\n",
        "y_train = y[30:].copy()"
      ]
    },
    {
      "cell_type": "code",
      "execution_count": 258,
      "metadata": {
        "colab": {
          "base_uri": "https://localhost:8080/"
        },
        "id": "lIwTDsm1LyIv",
        "outputId": "6eeef53f-cfc4-4391-c5d6-cd5888ebafd9"
      },
      "outputs": [
        {
          "output_type": "execute_result",
          "data": {
            "text/plain": [
              "(120, 4096)"
            ]
          },
          "metadata": {},
          "execution_count": 258
        }
      ],
      "source": [
        "x_train.shape"
      ]
    },
    {
      "cell_type": "code",
      "execution_count": 259,
      "metadata": {
        "id": "aTSxbuuQOP0M"
      },
      "outputs": [],
      "source": [
        "def do_shuffle(X,Y,number_of_data):\n",
        "  shuffle_index = np.arange(number_of_data)\n",
        "  np.random.shuffle(shuffle_index)\n",
        "  return X[shuffle_index],Y[shuffle_index]"
      ]
    },
    {
      "cell_type": "code",
      "execution_count": 260,
      "metadata": {
        "id": "_JU6ofk6ORFl"
      },
      "outputs": [],
      "source": [
        "x_train,y_train = do_shuffle(x_train,y_train,120)"
      ]
    },
    {
      "cell_type": "code",
      "execution_count": 261,
      "metadata": {
        "colab": {
          "base_uri": "https://localhost:8080/"
        },
        "id": "rgi1n2SqPddA",
        "outputId": "e96775cb-5d83-4f13-d0b3-445bf4d5baff"
      },
      "outputs": [
        {
          "output_type": "execute_result",
          "data": {
            "text/plain": [
              "dtype('float32')"
            ]
          },
          "metadata": {},
          "execution_count": 261
        }
      ],
      "source": [
        "x_train.dtype"
      ]
    },
    {
      "cell_type": "markdown",
      "metadata": {
        "id": "hJlHZY5IPoIi"
      },
      "source": [
        "## Model"
      ]
    },
    {
      "cell_type": "code",
      "source": [
        "x_train, x_valid, y_train, y_valid = train_test_split(x_train, y_train, test_size=0.08, shuffle= True)"
      ],
      "metadata": {
        "id": "Z45TXCVVEL2a"
      },
      "execution_count": 262,
      "outputs": []
    },
    {
      "cell_type": "code",
      "execution_count": 263,
      "metadata": {
        "colab": {
          "base_uri": "https://localhost:8080/"
        },
        "id": "vT5O-XvSPfe5",
        "outputId": "c334f839-5c78-456b-a873-1690f8c135b7"
      },
      "outputs": [
        {
          "output_type": "stream",
          "name": "stdout",
          "text": [
            "Epoch 1/700\n",
            "2/2 [==============================] - 1s 155ms/step - loss: 2.8867 - val_loss: 0.9581\n",
            "Epoch 2/700\n",
            "2/2 [==============================] - 0s 25ms/step - loss: 2.1417 - val_loss: 0.9185\n",
            "Epoch 3/700\n",
            "2/2 [==============================] - 0s 49ms/step - loss: 1.9423 - val_loss: 0.9009\n",
            "Epoch 4/700\n",
            "2/2 [==============================] - 0s 23ms/step - loss: 1.5358 - val_loss: 0.8893\n",
            "Epoch 5/700\n",
            "2/2 [==============================] - 0s 22ms/step - loss: 1.4349 - val_loss: 0.8690\n",
            "Epoch 6/700\n",
            "2/2 [==============================] - 0s 43ms/step - loss: 1.4259 - val_loss: 0.8535\n",
            "Epoch 7/700\n",
            "2/2 [==============================] - 0s 24ms/step - loss: 1.1833 - val_loss: 0.8284\n",
            "Epoch 8/700\n",
            "2/2 [==============================] - 0s 23ms/step - loss: 1.1099 - val_loss: 0.8093\n",
            "Epoch 9/700\n",
            "2/2 [==============================] - 0s 23ms/step - loss: 1.0878 - val_loss: 0.7959\n",
            "Epoch 10/700\n",
            "2/2 [==============================] - 0s 26ms/step - loss: 1.0036 - val_loss: 0.7771\n",
            "Epoch 11/700\n",
            "2/2 [==============================] - 0s 25ms/step - loss: 1.0277 - val_loss: 0.7641\n",
            "Epoch 12/700\n",
            "2/2 [==============================] - 0s 42ms/step - loss: 1.0092 - val_loss: 0.7565\n",
            "Epoch 13/700\n",
            "2/2 [==============================] - 0s 41ms/step - loss: 0.8947 - val_loss: 0.7506\n",
            "Epoch 14/700\n",
            "2/2 [==============================] - 0s 23ms/step - loss: 1.0806 - val_loss: 0.7502\n",
            "Epoch 15/700\n",
            "2/2 [==============================] - 0s 45ms/step - loss: 0.9723 - val_loss: 0.7464\n",
            "Epoch 16/700\n",
            "2/2 [==============================] - 0s 41ms/step - loss: 0.8153 - val_loss: 0.7402\n",
            "Epoch 17/700\n",
            "2/2 [==============================] - 0s 23ms/step - loss: 0.7869 - val_loss: 0.7282\n",
            "Epoch 18/700\n",
            "2/2 [==============================] - 0s 23ms/step - loss: 0.8021 - val_loss: 0.7209\n",
            "Epoch 19/700\n",
            "2/2 [==============================] - 0s 23ms/step - loss: 0.9310 - val_loss: 0.7094\n",
            "Epoch 20/700\n",
            "2/2 [==============================] - 0s 23ms/step - loss: 0.8907 - val_loss: 0.6982\n",
            "Epoch 21/700\n",
            "2/2 [==============================] - 0s 23ms/step - loss: 1.0153 - val_loss: 0.6895\n",
            "Epoch 22/700\n",
            "2/2 [==============================] - 0s 22ms/step - loss: 0.9556 - val_loss: 0.6784\n",
            "Epoch 23/700\n",
            "2/2 [==============================] - 0s 23ms/step - loss: 0.9360 - val_loss: 0.6738\n",
            "Epoch 24/700\n",
            "2/2 [==============================] - 0s 25ms/step - loss: 0.9907 - val_loss: 0.6689\n",
            "Epoch 25/700\n",
            "2/2 [==============================] - 0s 28ms/step - loss: 0.9742 - val_loss: 0.6668\n",
            "Epoch 26/700\n",
            "2/2 [==============================] - 0s 44ms/step - loss: 0.7138 - val_loss: 0.6602\n",
            "Epoch 27/700\n",
            "2/2 [==============================] - 0s 36ms/step - loss: 1.0393 - val_loss: 0.6542\n",
            "Epoch 28/700\n",
            "2/2 [==============================] - 0s 27ms/step - loss: 0.8516 - val_loss: 0.6505\n",
            "Epoch 29/700\n",
            "2/2 [==============================] - 0s 23ms/step - loss: 0.7919 - val_loss: 0.6366\n",
            "Epoch 30/700\n",
            "2/2 [==============================] - 0s 23ms/step - loss: 0.8215 - val_loss: 0.6196\n",
            "Epoch 31/700\n",
            "2/2 [==============================] - 0s 24ms/step - loss: 0.7727 - val_loss: 0.6006\n",
            "Epoch 32/700\n",
            "2/2 [==============================] - 0s 23ms/step - loss: 0.8899 - val_loss: 0.5892\n",
            "Epoch 33/700\n",
            "2/2 [==============================] - 0s 23ms/step - loss: 0.8299 - val_loss: 0.5781\n",
            "Epoch 34/700\n",
            "2/2 [==============================] - 0s 25ms/step - loss: 0.7958 - val_loss: 0.5639\n",
            "Epoch 35/700\n",
            "2/2 [==============================] - 0s 25ms/step - loss: 0.8516 - val_loss: 0.5539\n",
            "Epoch 36/700\n",
            "2/2 [==============================] - 0s 23ms/step - loss: 0.7543 - val_loss: 0.5387\n",
            "Epoch 37/700\n",
            "2/2 [==============================] - 0s 24ms/step - loss: 0.8629 - val_loss: 0.5251\n",
            "Epoch 38/700\n",
            "2/2 [==============================] - 0s 28ms/step - loss: 0.7835 - val_loss: 0.5121\n",
            "Epoch 39/700\n",
            "2/2 [==============================] - 0s 22ms/step - loss: 0.8663 - val_loss: 0.4925\n",
            "Epoch 40/700\n",
            "2/2 [==============================] - 0s 41ms/step - loss: 0.7361 - val_loss: 0.4752\n",
            "Epoch 41/700\n",
            "2/2 [==============================] - 0s 23ms/step - loss: 0.7044 - val_loss: 0.4634\n",
            "Epoch 42/700\n",
            "2/2 [==============================] - 0s 22ms/step - loss: 0.6714 - val_loss: 0.4564\n",
            "Epoch 43/700\n",
            "2/2 [==============================] - 0s 40ms/step - loss: 0.8890 - val_loss: 0.4492\n",
            "Epoch 44/700\n",
            "2/2 [==============================] - 0s 25ms/step - loss: 0.6194 - val_loss: 0.4417\n",
            "Epoch 45/700\n",
            "2/2 [==============================] - 0s 42ms/step - loss: 0.7029 - val_loss: 0.4353\n",
            "Epoch 46/700\n",
            "2/2 [==============================] - 0s 24ms/step - loss: 0.7433 - val_loss: 0.4294\n",
            "Epoch 47/700\n",
            "2/2 [==============================] - 0s 23ms/step - loss: 0.8337 - val_loss: 0.4206\n",
            "Epoch 48/700\n",
            "2/2 [==============================] - 0s 22ms/step - loss: 0.7905 - val_loss: 0.4103\n",
            "Epoch 49/700\n",
            "2/2 [==============================] - 0s 24ms/step - loss: 0.8376 - val_loss: 0.3996\n",
            "Epoch 50/700\n",
            "2/2 [==============================] - 0s 23ms/step - loss: 0.6370 - val_loss: 0.3905\n",
            "Epoch 51/700\n",
            "2/2 [==============================] - 0s 23ms/step - loss: 0.5650 - val_loss: 0.3811\n",
            "Epoch 52/700\n",
            "2/2 [==============================] - 0s 24ms/step - loss: 0.6805 - val_loss: 0.3742\n",
            "Epoch 53/700\n",
            "2/2 [==============================] - 0s 24ms/step - loss: 0.9086 - val_loss: 0.3639\n",
            "Epoch 54/700\n",
            "2/2 [==============================] - 0s 36ms/step - loss: 0.7592 - val_loss: 0.3546\n",
            "Epoch 55/700\n",
            "2/2 [==============================] - 0s 25ms/step - loss: 0.7432 - val_loss: 0.3467\n",
            "Epoch 56/700\n",
            "2/2 [==============================] - 0s 43ms/step - loss: 0.6949 - val_loss: 0.3410\n",
            "Epoch 57/700\n",
            "2/2 [==============================] - 0s 41ms/step - loss: 0.5204 - val_loss: 0.3346\n",
            "Epoch 58/700\n",
            "2/2 [==============================] - 0s 23ms/step - loss: 0.7373 - val_loss: 0.3327\n",
            "Epoch 59/700\n",
            "2/2 [==============================] - 0s 25ms/step - loss: 0.7188 - val_loss: 0.3337\n",
            "Epoch 60/700\n",
            "2/2 [==============================] - 0s 25ms/step - loss: 0.7237 - val_loss: 0.3324\n",
            "Epoch 61/700\n",
            "2/2 [==============================] - 0s 23ms/step - loss: 0.7548 - val_loss: 0.3325\n",
            "Epoch 62/700\n",
            "2/2 [==============================] - 0s 23ms/step - loss: 0.6555 - val_loss: 0.3335\n",
            "Epoch 63/700\n",
            "2/2 [==============================] - 0s 41ms/step - loss: 0.7431 - val_loss: 0.3356\n",
            "Epoch 64/700\n",
            "2/2 [==============================] - 0s 25ms/step - loss: 0.7545 - val_loss: 0.3340\n",
            "Epoch 65/700\n",
            "2/2 [==============================] - 0s 23ms/step - loss: 0.6815 - val_loss: 0.3282\n",
            "Epoch 66/700\n",
            "2/2 [==============================] - 0s 23ms/step - loss: 0.7497 - val_loss: 0.3252\n",
            "Epoch 67/700\n",
            "2/2 [==============================] - 0s 23ms/step - loss: 0.5978 - val_loss: 0.3222\n",
            "Epoch 68/700\n",
            "2/2 [==============================] - 0s 28ms/step - loss: 0.7752 - val_loss: 0.3191\n",
            "Epoch 69/700\n",
            "2/2 [==============================] - 0s 27ms/step - loss: 0.7662 - val_loss: 0.3172\n",
            "Epoch 70/700\n",
            "2/2 [==============================] - 0s 24ms/step - loss: 0.7058 - val_loss: 0.3140\n",
            "Epoch 71/700\n",
            "2/2 [==============================] - 0s 24ms/step - loss: 0.6392 - val_loss: 0.3061\n",
            "Epoch 72/700\n",
            "2/2 [==============================] - 0s 23ms/step - loss: 0.6778 - val_loss: 0.2997\n",
            "Epoch 73/700\n",
            "2/2 [==============================] - 0s 23ms/step - loss: 0.6877 - val_loss: 0.2959\n",
            "Epoch 74/700\n",
            "2/2 [==============================] - 0s 25ms/step - loss: 0.6794 - val_loss: 0.2902\n",
            "Epoch 75/700\n",
            "2/2 [==============================] - 0s 23ms/step - loss: 0.6035 - val_loss: 0.2860\n",
            "Epoch 76/700\n",
            "2/2 [==============================] - 0s 23ms/step - loss: 0.5722 - val_loss: 0.2802\n",
            "Epoch 77/700\n",
            "2/2 [==============================] - 0s 23ms/step - loss: 0.6280 - val_loss: 0.2763\n",
            "Epoch 78/700\n",
            "2/2 [==============================] - 0s 24ms/step - loss: 0.6894 - val_loss: 0.2717\n",
            "Epoch 79/700\n",
            "2/2 [==============================] - 0s 24ms/step - loss: 0.5647 - val_loss: 0.2672\n",
            "Epoch 80/700\n",
            "2/2 [==============================] - 0s 25ms/step - loss: 0.7592 - val_loss: 0.2626\n",
            "Epoch 81/700\n",
            "2/2 [==============================] - 0s 24ms/step - loss: 0.5962 - val_loss: 0.2608\n",
            "Epoch 82/700\n",
            "2/2 [==============================] - 0s 25ms/step - loss: 0.8091 - val_loss: 0.2598\n",
            "Epoch 83/700\n",
            "2/2 [==============================] - 0s 24ms/step - loss: 0.6298 - val_loss: 0.2570\n",
            "Epoch 84/700\n",
            "2/2 [==============================] - 0s 26ms/step - loss: 0.6285 - val_loss: 0.2552\n",
            "Epoch 85/700\n",
            "2/2 [==============================] - 0s 23ms/step - loss: 0.6891 - val_loss: 0.2512\n",
            "Epoch 86/700\n",
            "2/2 [==============================] - 0s 24ms/step - loss: 0.6255 - val_loss: 0.2470\n",
            "Epoch 87/700\n",
            "2/2 [==============================] - 0s 24ms/step - loss: 0.6935 - val_loss: 0.2412\n",
            "Epoch 88/700\n",
            "2/2 [==============================] - 0s 43ms/step - loss: 0.6457 - val_loss: 0.2396\n",
            "Epoch 89/700\n",
            "2/2 [==============================] - 0s 23ms/step - loss: 0.4953 - val_loss: 0.2378\n",
            "Epoch 90/700\n",
            "2/2 [==============================] - 0s 26ms/step - loss: 0.5703 - val_loss: 0.2336\n",
            "Epoch 91/700\n",
            "2/2 [==============================] - 0s 24ms/step - loss: 0.6713 - val_loss: 0.2264\n",
            "Epoch 92/700\n",
            "2/2 [==============================] - 0s 44ms/step - loss: 0.7351 - val_loss: 0.2217\n",
            "Epoch 93/700\n",
            "2/2 [==============================] - 0s 42ms/step - loss: 0.6178 - val_loss: 0.2152\n",
            "Epoch 94/700\n",
            "2/2 [==============================] - 0s 23ms/step - loss: 0.6155 - val_loss: 0.2081\n",
            "Epoch 95/700\n",
            "2/2 [==============================] - 0s 42ms/step - loss: 0.5637 - val_loss: 0.1994\n",
            "Epoch 96/700\n",
            "2/2 [==============================] - 0s 22ms/step - loss: 0.6379 - val_loss: 0.1904\n",
            "Epoch 97/700\n",
            "2/2 [==============================] - 0s 23ms/step - loss: 0.4818 - val_loss: 0.1826\n",
            "Epoch 98/700\n",
            "2/2 [==============================] - 0s 23ms/step - loss: 0.5304 - val_loss: 0.1739\n",
            "Epoch 99/700\n",
            "2/2 [==============================] - 0s 40ms/step - loss: 0.5453 - val_loss: 0.1663\n",
            "Epoch 100/700\n",
            "2/2 [==============================] - 0s 25ms/step - loss: 0.6215 - val_loss: 0.1592\n",
            "Epoch 101/700\n",
            "2/2 [==============================] - 0s 42ms/step - loss: 0.5767 - val_loss: 0.1553\n",
            "Epoch 102/700\n",
            "2/2 [==============================] - 0s 47ms/step - loss: 0.6748 - val_loss: 0.1513\n",
            "Epoch 103/700\n",
            "2/2 [==============================] - 0s 27ms/step - loss: 0.4939 - val_loss: 0.1491\n",
            "Epoch 104/700\n",
            "2/2 [==============================] - 0s 28ms/step - loss: 0.4923 - val_loss: 0.1499\n",
            "Epoch 105/700\n",
            "2/2 [==============================] - 0s 24ms/step - loss: 0.5524 - val_loss: 0.1508\n",
            "Epoch 106/700\n",
            "2/2 [==============================] - 0s 24ms/step - loss: 0.6303 - val_loss: 0.1556\n",
            "Epoch 107/700\n",
            "2/2 [==============================] - 0s 24ms/step - loss: 0.6030 - val_loss: 0.1627\n",
            "Epoch 108/700\n",
            "2/2 [==============================] - 0s 23ms/step - loss: 0.5467 - val_loss: 0.1692\n",
            "Epoch 109/700\n",
            "2/2 [==============================] - 0s 23ms/step - loss: 0.5779 - val_loss: 0.1729\n",
            "Epoch 110/700\n",
            "2/2 [==============================] - 0s 23ms/step - loss: 0.6435 - val_loss: 0.1752\n",
            "Epoch 111/700\n",
            "2/2 [==============================] - 0s 23ms/step - loss: 0.5763 - val_loss: 0.1757\n",
            "Epoch 112/700\n",
            "2/2 [==============================] - 0s 28ms/step - loss: 0.5859 - val_loss: 0.1740\n",
            "Epoch 113/700\n",
            "2/2 [==============================] - 0s 42ms/step - loss: 0.6392 - val_loss: 0.1706\n",
            "Epoch 114/700\n",
            "2/2 [==============================] - 0s 24ms/step - loss: 0.5614 - val_loss: 0.1691\n",
            "Epoch 115/700\n",
            "2/2 [==============================] - 0s 25ms/step - loss: 0.5730 - val_loss: 0.1681\n",
            "Epoch 116/700\n",
            "2/2 [==============================] - 0s 24ms/step - loss: 0.5633 - val_loss: 0.1688\n",
            "Epoch 117/700\n",
            "2/2 [==============================] - 0s 41ms/step - loss: 0.5553 - val_loss: 0.1687\n",
            "Epoch 118/700\n",
            "2/2 [==============================] - 0s 24ms/step - loss: 0.6185 - val_loss: 0.1680\n",
            "Epoch 119/700\n",
            "2/2 [==============================] - 0s 23ms/step - loss: 0.4454 - val_loss: 0.1670\n",
            "Epoch 120/700\n",
            "2/2 [==============================] - 0s 23ms/step - loss: 0.4650 - val_loss: 0.1667\n",
            "Epoch 121/700\n",
            "2/2 [==============================] - 0s 25ms/step - loss: 0.5018 - val_loss: 0.1666\n",
            "Epoch 122/700\n",
            "2/2 [==============================] - 0s 26ms/step - loss: 0.6549 - val_loss: 0.1627\n",
            "Epoch 123/700\n",
            "2/2 [==============================] - 0s 22ms/step - loss: 0.5165 - val_loss: 0.1583\n",
            "Epoch 124/700\n",
            "2/2 [==============================] - 0s 23ms/step - loss: 0.5061 - val_loss: 0.1531\n",
            "Epoch 125/700\n",
            "2/2 [==============================] - 0s 25ms/step - loss: 0.5725 - val_loss: 0.1489\n",
            "Epoch 126/700\n",
            "2/2 [==============================] - 0s 44ms/step - loss: 0.5565 - val_loss: 0.1462\n",
            "Epoch 127/700\n",
            "2/2 [==============================] - 0s 26ms/step - loss: 0.4483 - val_loss: 0.1450\n",
            "Epoch 128/700\n",
            "2/2 [==============================] - 0s 26ms/step - loss: 0.4415 - val_loss: 0.1443\n",
            "Epoch 129/700\n",
            "2/2 [==============================] - 0s 38ms/step - loss: 0.4856 - val_loss: 0.1431\n",
            "Epoch 130/700\n",
            "2/2 [==============================] - 0s 23ms/step - loss: 0.6146 - val_loss: 0.1428\n",
            "Epoch 131/700\n",
            "2/2 [==============================] - 0s 29ms/step - loss: 0.5039 - val_loss: 0.1430\n",
            "Epoch 132/700\n",
            "2/2 [==============================] - 0s 24ms/step - loss: 0.4872 - val_loss: 0.1448\n",
            "Epoch 133/700\n",
            "2/2 [==============================] - 0s 23ms/step - loss: 0.5458 - val_loss: 0.1463\n",
            "Epoch 134/700\n",
            "2/2 [==============================] - 0s 24ms/step - loss: 0.4818 - val_loss: 0.1468\n",
            "Epoch 135/700\n",
            "2/2 [==============================] - 0s 42ms/step - loss: 0.4698 - val_loss: 0.1486\n",
            "Epoch 136/700\n",
            "2/2 [==============================] - 0s 24ms/step - loss: 0.4508 - val_loss: 0.1494\n",
            "Epoch 137/700\n",
            "2/2 [==============================] - 0s 23ms/step - loss: 0.4913 - val_loss: 0.1499\n",
            "Epoch 138/700\n",
            "2/2 [==============================] - 0s 42ms/step - loss: 0.4246 - val_loss: 0.1512\n",
            "Epoch 139/700\n",
            "2/2 [==============================] - 0s 24ms/step - loss: 0.4079 - val_loss: 0.1528\n",
            "Epoch 140/700\n",
            "2/2 [==============================] - 0s 24ms/step - loss: 0.5380 - val_loss: 0.1545\n",
            "Epoch 141/700\n",
            "2/2 [==============================] - 0s 27ms/step - loss: 0.5130 - val_loss: 0.1526\n",
            "Epoch 142/700\n",
            "2/2 [==============================] - 0s 23ms/step - loss: 0.4482 - val_loss: 0.1507\n",
            "Epoch 143/700\n",
            "2/2 [==============================] - 0s 23ms/step - loss: 0.4512 - val_loss: 0.1484\n",
            "Epoch 144/700\n",
            "2/2 [==============================] - 0s 27ms/step - loss: 0.5408 - val_loss: 0.1487\n",
            "Epoch 145/700\n",
            "2/2 [==============================] - 0s 24ms/step - loss: 0.5388 - val_loss: 0.1465\n",
            "Epoch 146/700\n",
            "2/2 [==============================] - 0s 24ms/step - loss: 0.5052 - val_loss: 0.1411\n",
            "Epoch 147/700\n",
            "2/2 [==============================] - 0s 24ms/step - loss: 0.4395 - val_loss: 0.1338\n",
            "Epoch 148/700\n",
            "2/2 [==============================] - 0s 23ms/step - loss: 0.5528 - val_loss: 0.1270\n",
            "Epoch 149/700\n",
            "2/2 [==============================] - 0s 25ms/step - loss: 0.7138 - val_loss: 0.1216\n",
            "Epoch 150/700\n",
            "2/2 [==============================] - 0s 29ms/step - loss: 0.4261 - val_loss: 0.1183\n",
            "Epoch 151/700\n",
            "2/2 [==============================] - 0s 44ms/step - loss: 0.4803 - val_loss: 0.1160\n",
            "Epoch 152/700\n",
            "2/2 [==============================] - 0s 26ms/step - loss: 0.4270 - val_loss: 0.1166\n",
            "Epoch 153/700\n",
            "2/2 [==============================] - 0s 24ms/step - loss: 0.5001 - val_loss: 0.1186\n",
            "Epoch 154/700\n",
            "2/2 [==============================] - 0s 25ms/step - loss: 0.6057 - val_loss: 0.1209\n",
            "Epoch 155/700\n",
            "2/2 [==============================] - 0s 29ms/step - loss: 0.5500 - val_loss: 0.1228\n",
            "Epoch 156/700\n",
            "2/2 [==============================] - 0s 23ms/step - loss: 0.3799 - val_loss: 0.1252\n",
            "Epoch 157/700\n",
            "2/2 [==============================] - 0s 23ms/step - loss: 0.4705 - val_loss: 0.1269\n",
            "Epoch 158/700\n",
            "2/2 [==============================] - 0s 24ms/step - loss: 0.4982 - val_loss: 0.1290\n",
            "Epoch 159/700\n",
            "2/2 [==============================] - 0s 22ms/step - loss: 0.4139 - val_loss: 0.1255\n",
            "Epoch 160/700\n",
            "2/2 [==============================] - 0s 25ms/step - loss: 0.5216 - val_loss: 0.1214\n",
            "Epoch 161/700\n",
            "2/2 [==============================] - 0s 24ms/step - loss: 0.3870 - val_loss: 0.1183\n",
            "Epoch 162/700\n",
            "2/2 [==============================] - 0s 24ms/step - loss: 0.4387 - val_loss: 0.1155\n",
            "Epoch 163/700\n",
            "2/2 [==============================] - 0s 37ms/step - loss: 0.4278 - val_loss: 0.1150\n",
            "Epoch 164/700\n",
            "2/2 [==============================] - 0s 23ms/step - loss: 0.4434 - val_loss: 0.1152\n",
            "Epoch 165/700\n",
            "2/2 [==============================] - 0s 24ms/step - loss: 0.4722 - val_loss: 0.1155\n",
            "Epoch 166/700\n",
            "2/2 [==============================] - 0s 24ms/step - loss: 0.4302 - val_loss: 0.1160\n",
            "Epoch 167/700\n",
            "2/2 [==============================] - 0s 23ms/step - loss: 0.4668 - val_loss: 0.1154\n",
            "Epoch 168/700\n",
            "2/2 [==============================] - 0s 24ms/step - loss: 0.5150 - val_loss: 0.1176\n",
            "Epoch 169/700\n",
            "2/2 [==============================] - 0s 23ms/step - loss: 0.4052 - val_loss: 0.1184\n",
            "Epoch 170/700\n",
            "2/2 [==============================] - 0s 24ms/step - loss: 0.4662 - val_loss: 0.1205\n",
            "Epoch 171/700\n",
            "2/2 [==============================] - 0s 34ms/step - loss: 0.4585 - val_loss: 0.1217\n",
            "Epoch 172/700\n",
            "2/2 [==============================] - 0s 24ms/step - loss: 0.3715 - val_loss: 0.1240\n",
            "Epoch 173/700\n",
            "2/2 [==============================] - 0s 24ms/step - loss: 0.4189 - val_loss: 0.1262\n",
            "Epoch 174/700\n",
            "2/2 [==============================] - 0s 24ms/step - loss: 0.4223 - val_loss: 0.1261\n",
            "Epoch 175/700\n",
            "2/2 [==============================] - 0s 23ms/step - loss: 0.4048 - val_loss: 0.1271\n",
            "Epoch 176/700\n",
            "2/2 [==============================] - 0s 43ms/step - loss: 0.4324 - val_loss: 0.1267\n",
            "Epoch 177/700\n",
            "2/2 [==============================] - 0s 29ms/step - loss: 0.4076 - val_loss: 0.1252\n",
            "Epoch 178/700\n",
            "2/2 [==============================] - 0s 24ms/step - loss: 0.4722 - val_loss: 0.1239\n",
            "Epoch 179/700\n",
            "2/2 [==============================] - 0s 25ms/step - loss: 0.4432 - val_loss: 0.1228\n",
            "Epoch 180/700\n",
            "2/2 [==============================] - 0s 28ms/step - loss: 0.3946 - val_loss: 0.1187\n",
            "Epoch 181/700\n",
            "2/2 [==============================] - 0s 23ms/step - loss: 0.3746 - val_loss: 0.1141\n",
            "Epoch 182/700\n",
            "2/2 [==============================] - 0s 23ms/step - loss: 0.4572 - val_loss: 0.1080\n",
            "Epoch 183/700\n",
            "2/2 [==============================] - 0s 41ms/step - loss: 0.4086 - val_loss: 0.1018\n",
            "Epoch 184/700\n",
            "2/2 [==============================] - 0s 24ms/step - loss: 0.3700 - val_loss: 0.0982\n",
            "Epoch 185/700\n",
            "2/2 [==============================] - 0s 25ms/step - loss: 0.4391 - val_loss: 0.0968\n",
            "Epoch 186/700\n",
            "2/2 [==============================] - 0s 25ms/step - loss: 0.3809 - val_loss: 0.0965\n",
            "Epoch 187/700\n",
            "2/2 [==============================] - 0s 23ms/step - loss: 0.3797 - val_loss: 0.0968\n",
            "Epoch 188/700\n",
            "2/2 [==============================] - 0s 23ms/step - loss: 0.4162 - val_loss: 0.0962\n",
            "Epoch 189/700\n",
            "2/2 [==============================] - 0s 24ms/step - loss: 0.4053 - val_loss: 0.0933\n",
            "Epoch 190/700\n",
            "2/2 [==============================] - 0s 24ms/step - loss: 0.4308 - val_loss: 0.0912\n",
            "Epoch 191/700\n",
            "2/2 [==============================] - 0s 23ms/step - loss: 0.3770 - val_loss: 0.0918\n",
            "Epoch 192/700\n",
            "2/2 [==============================] - 0s 23ms/step - loss: 0.4715 - val_loss: 0.0908\n",
            "Epoch 193/700\n",
            "2/2 [==============================] - 0s 25ms/step - loss: 0.3863 - val_loss: 0.0907\n",
            "Epoch 194/700\n",
            "2/2 [==============================] - 0s 33ms/step - loss: 0.4130 - val_loss: 0.0907\n",
            "Epoch 195/700\n",
            "2/2 [==============================] - 0s 24ms/step - loss: 0.4367 - val_loss: 0.0902\n",
            "Epoch 196/700\n",
            "2/2 [==============================] - 0s 24ms/step - loss: 0.4702 - val_loss: 0.0892\n",
            "Epoch 197/700\n",
            "2/2 [==============================] - 0s 23ms/step - loss: 0.3855 - val_loss: 0.0890\n",
            "Epoch 198/700\n",
            "2/2 [==============================] - 0s 24ms/step - loss: 0.3970 - val_loss: 0.0910\n",
            "Epoch 199/700\n",
            "2/2 [==============================] - 0s 25ms/step - loss: 0.3526 - val_loss: 0.0929\n",
            "Epoch 200/700\n",
            "2/2 [==============================] - 0s 27ms/step - loss: 0.3517 - val_loss: 0.0948\n",
            "Epoch 201/700\n",
            "2/2 [==============================] - 0s 29ms/step - loss: 0.5461 - val_loss: 0.0957\n",
            "Epoch 202/700\n",
            "2/2 [==============================] - 0s 27ms/step - loss: 0.3791 - val_loss: 0.0967\n",
            "Epoch 203/700\n",
            "2/2 [==============================] - 0s 27ms/step - loss: 0.3290 - val_loss: 0.0985\n",
            "Epoch 204/700\n",
            "2/2 [==============================] - 0s 45ms/step - loss: 0.3775 - val_loss: 0.1008\n",
            "Epoch 205/700\n",
            "2/2 [==============================] - 0s 28ms/step - loss: 0.3537 - val_loss: 0.1017\n",
            "Epoch 206/700\n",
            "2/2 [==============================] - 0s 30ms/step - loss: 0.3593 - val_loss: 0.1033\n",
            "Epoch 207/700\n",
            "2/2 [==============================] - 0s 25ms/step - loss: 0.4021 - val_loss: 0.1061\n",
            "Epoch 208/700\n",
            "2/2 [==============================] - 0s 28ms/step - loss: 0.4060 - val_loss: 0.1103\n",
            "Epoch 209/700\n",
            "2/2 [==============================] - 0s 45ms/step - loss: 0.4515 - val_loss: 0.1137\n",
            "Epoch 210/700\n",
            "2/2 [==============================] - 0s 25ms/step - loss: 0.3620 - val_loss: 0.1169\n",
            "Epoch 211/700\n",
            "2/2 [==============================] - 0s 24ms/step - loss: 0.3749 - val_loss: 0.1202\n",
            "Epoch 212/700\n",
            "2/2 [==============================] - 0s 26ms/step - loss: 0.4308 - val_loss: 0.1217\n",
            "Epoch 213/700\n",
            "2/2 [==============================] - 0s 24ms/step - loss: 0.3947 - val_loss: 0.1215\n",
            "Epoch 214/700\n",
            "2/2 [==============================] - 0s 25ms/step - loss: 0.3997 - val_loss: 0.1229\n",
            "Epoch 215/700\n",
            "2/2 [==============================] - 0s 24ms/step - loss: 0.3482 - val_loss: 0.1233\n",
            "Epoch 216/700\n",
            "2/2 [==============================] - 0s 24ms/step - loss: 0.3156 - val_loss: 0.1208\n",
            "Epoch 217/700\n",
            "2/2 [==============================] - 0s 23ms/step - loss: 0.3227 - val_loss: 0.1187\n",
            "Epoch 218/700\n",
            "2/2 [==============================] - 0s 25ms/step - loss: 0.3800 - val_loss: 0.1166\n",
            "Epoch 219/700\n",
            "2/2 [==============================] - 0s 25ms/step - loss: 0.3362 - val_loss: 0.1138\n",
            "Epoch 220/700\n",
            "2/2 [==============================] - 0s 44ms/step - loss: 0.2735 - val_loss: 0.1101\n",
            "Epoch 221/700\n",
            "2/2 [==============================] - 0s 54ms/step - loss: 0.3160 - val_loss: 0.1046\n",
            "Epoch 222/700\n",
            "2/2 [==============================] - 0s 25ms/step - loss: 0.3797 - val_loss: 0.0993\n",
            "Epoch 223/700\n",
            "2/2 [==============================] - 0s 28ms/step - loss: 0.3623 - val_loss: 0.0957\n",
            "Epoch 224/700\n",
            "2/2 [==============================] - 0s 24ms/step - loss: 0.5134 - val_loss: 0.0909\n",
            "Epoch 225/700\n",
            "2/2 [==============================] - 0s 25ms/step - loss: 0.5108 - val_loss: 0.0899\n",
            "Epoch 226/700\n",
            "2/2 [==============================] - 0s 24ms/step - loss: 0.3137 - val_loss: 0.0903\n",
            "Epoch 227/700\n",
            "2/2 [==============================] - 0s 23ms/step - loss: 0.4015 - val_loss: 0.0917\n",
            "Epoch 228/700\n",
            "2/2 [==============================] - 0s 42ms/step - loss: 0.3429 - val_loss: 0.0942\n",
            "Epoch 229/700\n",
            "2/2 [==============================] - 0s 31ms/step - loss: 0.3782 - val_loss: 0.0959\n",
            "Epoch 230/700\n",
            "2/2 [==============================] - 0s 25ms/step - loss: 0.4106 - val_loss: 0.0977\n",
            "Epoch 231/700\n",
            "2/2 [==============================] - 0s 25ms/step - loss: 0.4274 - val_loss: 0.0995\n",
            "Epoch 232/700\n",
            "2/2 [==============================] - 0s 24ms/step - loss: 0.4350 - val_loss: 0.0995\n",
            "Epoch 233/700\n",
            "2/2 [==============================] - 0s 43ms/step - loss: 0.4756 - val_loss: 0.0975\n",
            "Epoch 234/700\n",
            "2/2 [==============================] - 0s 25ms/step - loss: 0.3519 - val_loss: 0.0939\n",
            "Epoch 235/700\n",
            "2/2 [==============================] - 0s 24ms/step - loss: 0.3453 - val_loss: 0.0915\n",
            "Epoch 236/700\n",
            "2/2 [==============================] - 0s 25ms/step - loss: 0.3313 - val_loss: 0.0899\n",
            "Epoch 237/700\n",
            "2/2 [==============================] - 0s 25ms/step - loss: 0.3189 - val_loss: 0.0893\n",
            "Epoch 238/700\n",
            "2/2 [==============================] - 0s 23ms/step - loss: 0.3288 - val_loss: 0.0891\n",
            "Epoch 239/700\n",
            "2/2 [==============================] - 0s 24ms/step - loss: 0.3366 - val_loss: 0.0891\n",
            "Epoch 240/700\n",
            "2/2 [==============================] - 0s 24ms/step - loss: 0.3646 - val_loss: 0.0906\n",
            "Epoch 241/700\n",
            "2/2 [==============================] - 0s 23ms/step - loss: 0.3156 - val_loss: 0.0920\n",
            "Epoch 242/700\n",
            "2/2 [==============================] - 0s 26ms/step - loss: 0.3399 - val_loss: 0.0948\n",
            "Epoch 243/700\n",
            "2/2 [==============================] - 0s 24ms/step - loss: 0.4228 - val_loss: 0.0958\n",
            "Epoch 244/700\n",
            "2/2 [==============================] - 0s 23ms/step - loss: 0.4114 - val_loss: 0.0968\n",
            "Epoch 245/700\n",
            "2/2 [==============================] - 0s 24ms/step - loss: 0.3284 - val_loss: 0.1007\n",
            "Epoch 246/700\n",
            "2/2 [==============================] - 0s 24ms/step - loss: 0.3020 - val_loss: 0.1060\n",
            "Epoch 247/700\n",
            "2/2 [==============================] - 0s 42ms/step - loss: 0.2868 - val_loss: 0.1108\n",
            "Epoch 248/700\n",
            "2/2 [==============================] - 0s 24ms/step - loss: 0.3669 - val_loss: 0.1129\n",
            "Epoch 249/700\n",
            "2/2 [==============================] - 0s 24ms/step - loss: 0.3312 - val_loss: 0.1135\n",
            "Epoch 250/700\n",
            "2/2 [==============================] - 0s 24ms/step - loss: 0.3827 - val_loss: 0.1127\n",
            "Epoch 251/700\n",
            "2/2 [==============================] - 0s 24ms/step - loss: 0.3088 - val_loss: 0.1091\n",
            "Epoch 252/700\n",
            "2/2 [==============================] - 0s 29ms/step - loss: 0.3132 - val_loss: 0.1067\n",
            "Epoch 253/700\n",
            "2/2 [==============================] - 0s 25ms/step - loss: 0.3133 - val_loss: 0.1079\n",
            "Epoch 254/700\n",
            "2/2 [==============================] - 0s 28ms/step - loss: 0.3911 - val_loss: 0.1090\n",
            "Epoch 255/700\n",
            "2/2 [==============================] - 0s 23ms/step - loss: 0.3142 - val_loss: 0.1100\n",
            "Epoch 256/700\n",
            "2/2 [==============================] - 0s 24ms/step - loss: 0.3289 - val_loss: 0.1103\n",
            "Epoch 257/700\n",
            "2/2 [==============================] - 0s 24ms/step - loss: 0.3460 - val_loss: 0.1132\n",
            "Epoch 258/700\n",
            "2/2 [==============================] - 0s 25ms/step - loss: 0.3052 - val_loss: 0.1165\n",
            "Epoch 259/700\n",
            "2/2 [==============================] - 0s 23ms/step - loss: 0.3739 - val_loss: 0.1173\n",
            "Epoch 260/700\n",
            "2/2 [==============================] - 0s 27ms/step - loss: 0.2754 - val_loss: 0.1188\n",
            "Epoch 261/700\n",
            "2/2 [==============================] - 0s 25ms/step - loss: 0.3269 - val_loss: 0.1185\n",
            "Epoch 262/700\n",
            "2/2 [==============================] - 0s 26ms/step - loss: 0.3178 - val_loss: 0.1196\n",
            "Epoch 263/700\n",
            "2/2 [==============================] - 0s 23ms/step - loss: 0.4006 - val_loss: 0.1174\n",
            "Epoch 264/700\n",
            "2/2 [==============================] - 0s 26ms/step - loss: 0.3260 - val_loss: 0.1162\n",
            "Epoch 265/700\n",
            "2/2 [==============================] - 0s 24ms/step - loss: 0.2687 - val_loss: 0.1183\n",
            "Epoch 266/700\n",
            "2/2 [==============================] - 0s 24ms/step - loss: 0.3008 - val_loss: 0.1203\n",
            "Epoch 267/700\n",
            "2/2 [==============================] - 0s 24ms/step - loss: 0.3022 - val_loss: 0.1239\n",
            "Epoch 268/700\n",
            "2/2 [==============================] - 0s 24ms/step - loss: 0.2843 - val_loss: 0.1254\n",
            "Epoch 269/700\n",
            "2/2 [==============================] - 0s 24ms/step - loss: 0.3539 - val_loss: 0.1283\n",
            "Epoch 270/700\n",
            "2/2 [==============================] - 0s 23ms/step - loss: 0.4076 - val_loss: 0.1296\n",
            "Epoch 271/700\n",
            "2/2 [==============================] - 0s 24ms/step - loss: 0.4317 - val_loss: 0.1252\n",
            "Epoch 272/700\n",
            "2/2 [==============================] - 0s 26ms/step - loss: 0.3276 - val_loss: 0.1233\n",
            "Epoch 273/700\n",
            "2/2 [==============================] - 0s 27ms/step - loss: 0.3200 - val_loss: 0.1234\n",
            "Epoch 274/700\n",
            "2/2 [==============================] - 0s 25ms/step - loss: 0.3065 - val_loss: 0.1225\n",
            "Epoch 275/700\n",
            "2/2 [==============================] - 0s 25ms/step - loss: 0.3200 - val_loss: 0.1235\n",
            "Epoch 276/700\n",
            "2/2 [==============================] - 0s 26ms/step - loss: 0.3795 - val_loss: 0.1247\n",
            "Epoch 277/700\n",
            "2/2 [==============================] - 0s 24ms/step - loss: 0.3354 - val_loss: 0.1254\n",
            "Epoch 278/700\n",
            "2/2 [==============================] - 0s 24ms/step - loss: 0.2475 - val_loss: 0.1296\n",
            "Epoch 279/700\n",
            "2/2 [==============================] - 0s 24ms/step - loss: 0.3240 - val_loss: 0.1298\n",
            "Epoch 280/700\n",
            "2/2 [==============================] - 0s 26ms/step - loss: 0.3529 - val_loss: 0.1299\n",
            "Epoch 281/700\n",
            "2/2 [==============================] - 0s 30ms/step - loss: 0.3483 - val_loss: 0.1294\n",
            "Epoch 282/700\n",
            "2/2 [==============================] - 0s 25ms/step - loss: 0.2850 - val_loss: 0.1285\n",
            "Epoch 283/700\n",
            "2/2 [==============================] - 0s 28ms/step - loss: 0.2865 - val_loss: 0.1266\n",
            "Epoch 284/700\n",
            "2/2 [==============================] - 0s 28ms/step - loss: 0.3166 - val_loss: 0.1261\n",
            "Epoch 285/700\n",
            "2/2 [==============================] - 0s 43ms/step - loss: 0.3443 - val_loss: 0.1263\n",
            "Epoch 286/700\n",
            "2/2 [==============================] - 0s 25ms/step - loss: 0.2858 - val_loss: 0.1301\n",
            "Epoch 287/700\n",
            "2/2 [==============================] - 0s 25ms/step - loss: 0.2849 - val_loss: 0.1341\n",
            "Epoch 288/700\n",
            "2/2 [==============================] - 0s 25ms/step - loss: 0.3909 - val_loss: 0.1386\n",
            "Epoch 289/700\n",
            "2/2 [==============================] - 0s 43ms/step - loss: 0.3529 - val_loss: 0.1388\n",
            "Epoch 290/700\n",
            "2/2 [==============================] - 0s 24ms/step - loss: 0.2700 - val_loss: 0.1360\n",
            "Epoch 291/700\n",
            "2/2 [==============================] - 0s 29ms/step - loss: 0.3400 - val_loss: 0.1310\n",
            "Epoch 292/700\n",
            "2/2 [==============================] - 0s 26ms/step - loss: 0.2737 - val_loss: 0.1273\n",
            "Epoch 293/700\n",
            "2/2 [==============================] - 0s 27ms/step - loss: 0.3910 - val_loss: 0.1283\n",
            "Epoch 294/700\n",
            "2/2 [==============================] - 0s 25ms/step - loss: 0.2605 - val_loss: 0.1287\n",
            "Epoch 295/700\n",
            "2/2 [==============================] - 0s 24ms/step - loss: 0.3027 - val_loss: 0.1280\n",
            "Epoch 296/700\n",
            "2/2 [==============================] - 0s 25ms/step - loss: 0.2917 - val_loss: 0.1258\n",
            "Epoch 297/700\n",
            "2/2 [==============================] - 0s 28ms/step - loss: 0.2993 - val_loss: 0.1231\n",
            "Epoch 298/700\n",
            "2/2 [==============================] - 0s 30ms/step - loss: 0.3966 - val_loss: 0.1207\n",
            "Epoch 299/700\n",
            "2/2 [==============================] - 0s 27ms/step - loss: 0.2921 - val_loss: 0.1169\n",
            "Epoch 300/700\n",
            "2/2 [==============================] - 0s 25ms/step - loss: 0.2252 - val_loss: 0.1156\n",
            "Epoch 301/700\n",
            "2/2 [==============================] - 0s 27ms/step - loss: 0.2471 - val_loss: 0.1146\n",
            "Epoch 302/700\n",
            "2/2 [==============================] - 0s 27ms/step - loss: 0.3171 - val_loss: 0.1121\n",
            "Epoch 303/700\n",
            "2/2 [==============================] - 0s 30ms/step - loss: 0.2565 - val_loss: 0.1120\n",
            "Epoch 304/700\n",
            "2/2 [==============================] - 0s 27ms/step - loss: 0.2732 - val_loss: 0.1140\n",
            "Epoch 305/700\n",
            "2/2 [==============================] - 0s 29ms/step - loss: 0.3046 - val_loss: 0.1172\n",
            "Epoch 306/700\n",
            "2/2 [==============================] - 0s 26ms/step - loss: 0.2870 - val_loss: 0.1191\n",
            "Epoch 307/700\n",
            "2/2 [==============================] - 0s 25ms/step - loss: 0.2778 - val_loss: 0.1216\n",
            "Epoch 308/700\n",
            "2/2 [==============================] - 0s 24ms/step - loss: 0.2668 - val_loss: 0.1238\n",
            "Epoch 309/700\n",
            "2/2 [==============================] - 0s 25ms/step - loss: 0.2854 - val_loss: 0.1232\n",
            "Epoch 310/700\n",
            "2/2 [==============================] - 0s 28ms/step - loss: 0.3337 - val_loss: 0.1222\n",
            "Epoch 311/700\n",
            "2/2 [==============================] - 0s 29ms/step - loss: 0.2797 - val_loss: 0.1200\n",
            "Epoch 312/700\n",
            "2/2 [==============================] - 0s 26ms/step - loss: 0.3104 - val_loss: 0.1174\n",
            "Epoch 313/700\n",
            "2/2 [==============================] - 0s 25ms/step - loss: 0.3194 - val_loss: 0.1128\n",
            "Epoch 314/700\n",
            "2/2 [==============================] - 0s 31ms/step - loss: 0.2547 - val_loss: 0.1082\n",
            "Epoch 315/700\n",
            "2/2 [==============================] - 0s 25ms/step - loss: 0.3489 - val_loss: 0.1051\n",
            "Epoch 316/700\n",
            "2/2 [==============================] - 0s 25ms/step - loss: 0.2371 - val_loss: 0.1025\n",
            "Epoch 317/700\n",
            "2/2 [==============================] - 0s 27ms/step - loss: 0.2405 - val_loss: 0.0992\n",
            "Epoch 318/700\n",
            "2/2 [==============================] - 0s 26ms/step - loss: 0.2765 - val_loss: 0.0968\n",
            "Epoch 319/700\n",
            "2/2 [==============================] - 0s 24ms/step - loss: 0.2308 - val_loss: 0.0957\n",
            "Epoch 320/700\n",
            "2/2 [==============================] - 0s 26ms/step - loss: 0.3873 - val_loss: 0.0944\n",
            "Epoch 321/700\n",
            "2/2 [==============================] - 0s 25ms/step - loss: 0.3406 - val_loss: 0.0936\n",
            "Epoch 322/700\n",
            "2/2 [==============================] - 0s 24ms/step - loss: 0.2874 - val_loss: 0.0961\n",
            "Epoch 323/700\n",
            "2/2 [==============================] - 0s 26ms/step - loss: 0.2871 - val_loss: 0.1049\n",
            "Epoch 324/700\n",
            "2/2 [==============================] - 0s 27ms/step - loss: 0.2516 - val_loss: 0.1140\n",
            "Epoch 325/700\n",
            "2/2 [==============================] - 0s 24ms/step - loss: 0.3182 - val_loss: 0.1202\n",
            "Epoch 326/700\n",
            "2/2 [==============================] - 0s 26ms/step - loss: 0.3277 - val_loss: 0.1259\n",
            "Epoch 327/700\n",
            "2/2 [==============================] - 0s 25ms/step - loss: 0.2718 - val_loss: 0.1343\n",
            "Epoch 328/700\n",
            "2/2 [==============================] - 0s 23ms/step - loss: 0.3225 - val_loss: 0.1364\n",
            "Epoch 329/700\n",
            "2/2 [==============================] - 0s 23ms/step - loss: 0.2321 - val_loss: 0.1400\n",
            "Epoch 330/700\n",
            "2/2 [==============================] - 0s 28ms/step - loss: 0.2711 - val_loss: 0.1419\n",
            "Epoch 331/700\n",
            "2/2 [==============================] - 0s 24ms/step - loss: 0.3164 - val_loss: 0.1425\n",
            "Epoch 332/700\n",
            "2/2 [==============================] - 0s 42ms/step - loss: 0.3185 - val_loss: 0.1406\n",
            "Epoch 333/700\n",
            "2/2 [==============================] - 0s 25ms/step - loss: 0.3385 - val_loss: 0.1369\n",
            "Epoch 334/700\n",
            "2/2 [==============================] - 0s 27ms/step - loss: 0.2402 - val_loss: 0.1324\n",
            "Epoch 335/700\n",
            "2/2 [==============================] - 0s 25ms/step - loss: 0.2789 - val_loss: 0.1270\n",
            "Epoch 336/700\n",
            "2/2 [==============================] - 0s 26ms/step - loss: 0.2111 - val_loss: 0.1235\n",
            "Epoch 337/700\n",
            "2/2 [==============================] - 0s 25ms/step - loss: 0.2253 - val_loss: 0.1214\n",
            "Epoch 338/700\n",
            "2/2 [==============================] - 0s 25ms/step - loss: 0.2621 - val_loss: 0.1211\n",
            "Epoch 339/700\n",
            "2/2 [==============================] - 0s 26ms/step - loss: 0.2461 - val_loss: 0.1205\n",
            "Epoch 340/700\n",
            "2/2 [==============================] - 0s 25ms/step - loss: 0.2869 - val_loss: 0.1172\n",
            "Epoch 341/700\n",
            "2/2 [==============================] - 0s 32ms/step - loss: 0.2619 - val_loss: 0.1161\n",
            "Epoch 342/700\n",
            "2/2 [==============================] - 0s 24ms/step - loss: 0.2614 - val_loss: 0.1173\n",
            "Epoch 343/700\n",
            "2/2 [==============================] - 0s 24ms/step - loss: 0.2040 - val_loss: 0.1187\n",
            "Epoch 344/700\n",
            "2/2 [==============================] - 0s 28ms/step - loss: 0.2145 - val_loss: 0.1163\n",
            "Epoch 345/700\n",
            "2/2 [==============================] - 0s 27ms/step - loss: 0.2462 - val_loss: 0.1117\n",
            "Epoch 346/700\n",
            "2/2 [==============================] - 0s 43ms/step - loss: 0.2061 - val_loss: 0.1095\n",
            "Epoch 347/700\n",
            "2/2 [==============================] - 0s 24ms/step - loss: 0.2490 - val_loss: 0.1087\n",
            "Epoch 348/700\n",
            "2/2 [==============================] - 0s 26ms/step - loss: 0.2390 - val_loss: 0.1082\n",
            "Epoch 349/700\n",
            "2/2 [==============================] - 0s 26ms/step - loss: 0.2692 - val_loss: 0.1077\n",
            "Epoch 350/700\n",
            "2/2 [==============================] - 0s 25ms/step - loss: 0.3049 - val_loss: 0.1040\n",
            "Epoch 351/700\n",
            "2/2 [==============================] - 0s 24ms/step - loss: 0.3188 - val_loss: 0.0986\n",
            "Epoch 352/700\n",
            "2/2 [==============================] - 0s 26ms/step - loss: 0.2194 - val_loss: 0.0964\n",
            "Epoch 353/700\n",
            "2/2 [==============================] - 0s 25ms/step - loss: 0.2918 - val_loss: 0.0955\n",
            "Epoch 354/700\n",
            "2/2 [==============================] - 0s 29ms/step - loss: 0.2307 - val_loss: 0.0960\n",
            "Epoch 355/700\n",
            "2/2 [==============================] - 0s 25ms/step - loss: 0.2511 - val_loss: 0.1035\n",
            "Epoch 356/700\n",
            "2/2 [==============================] - 0s 25ms/step - loss: 0.2588 - val_loss: 0.1095\n",
            "Epoch 357/700\n",
            "2/2 [==============================] - 0s 24ms/step - loss: 0.2527 - val_loss: 0.1141\n",
            "Epoch 358/700\n",
            "2/2 [==============================] - 0s 45ms/step - loss: 0.2555 - val_loss: 0.1220\n",
            "Epoch 359/700\n",
            "2/2 [==============================] - 0s 24ms/step - loss: 0.3451 - val_loss: 0.1246\n",
            "Epoch 360/700\n",
            "2/2 [==============================] - 0s 25ms/step - loss: 0.2616 - val_loss: 0.1222\n",
            "Epoch 361/700\n",
            "2/2 [==============================] - 0s 29ms/step - loss: 0.2351 - val_loss: 0.1171\n",
            "Epoch 362/700\n",
            "2/2 [==============================] - 0s 28ms/step - loss: 0.2279 - val_loss: 0.1118\n",
            "Epoch 363/700\n",
            "2/2 [==============================] - 0s 26ms/step - loss: 0.2281 - val_loss: 0.1067\n",
            "Epoch 364/700\n",
            "2/2 [==============================] - 0s 27ms/step - loss: 0.2449 - val_loss: 0.1012\n",
            "Epoch 365/700\n",
            "2/2 [==============================] - 0s 26ms/step - loss: 0.2723 - val_loss: 0.0966\n",
            "Epoch 366/700\n",
            "2/2 [==============================] - 0s 26ms/step - loss: 0.2435 - val_loss: 0.0916\n",
            "Epoch 367/700\n",
            "2/2 [==============================] - 0s 23ms/step - loss: 0.2533 - val_loss: 0.0870\n",
            "Epoch 368/700\n",
            "2/2 [==============================] - 0s 24ms/step - loss: 0.2137 - val_loss: 0.0840\n",
            "Epoch 369/700\n",
            "2/2 [==============================] - 0s 26ms/step - loss: 0.2258 - val_loss: 0.0857\n",
            "Epoch 370/700\n",
            "2/2 [==============================] - 0s 24ms/step - loss: 0.2349 - val_loss: 0.0879\n",
            "Epoch 371/700\n",
            "2/2 [==============================] - 0s 28ms/step - loss: 0.2167 - val_loss: 0.0902\n",
            "Epoch 372/700\n",
            "2/2 [==============================] - 0s 24ms/step - loss: 0.2174 - val_loss: 0.0952\n",
            "Epoch 373/700\n",
            "2/2 [==============================] - 0s 29ms/step - loss: 0.2674 - val_loss: 0.1007\n",
            "Epoch 374/700\n",
            "2/2 [==============================] - 0s 27ms/step - loss: 0.2246 - val_loss: 0.1038\n",
            "Epoch 375/700\n",
            "2/2 [==============================] - 0s 27ms/step - loss: 0.2278 - val_loss: 0.1048\n",
            "Epoch 376/700\n",
            "2/2 [==============================] - 0s 28ms/step - loss: 0.2613 - val_loss: 0.1018\n",
            "Epoch 377/700\n",
            "2/2 [==============================] - 0s 25ms/step - loss: 0.2370 - val_loss: 0.0963\n",
            "Epoch 378/700\n",
            "2/2 [==============================] - 0s 34ms/step - loss: 0.2210 - val_loss: 0.0905\n",
            "Epoch 379/700\n",
            "2/2 [==============================] - 0s 30ms/step - loss: 0.2894 - val_loss: 0.0838\n",
            "Epoch 380/700\n",
            "2/2 [==============================] - 0s 25ms/step - loss: 0.2415 - val_loss: 0.0772\n",
            "Epoch 381/700\n",
            "2/2 [==============================] - 0s 28ms/step - loss: 0.2330 - val_loss: 0.0736\n",
            "Epoch 382/700\n",
            "2/2 [==============================] - 0s 26ms/step - loss: 0.2472 - val_loss: 0.0719\n",
            "Epoch 383/700\n",
            "2/2 [==============================] - 0s 34ms/step - loss: 0.2730 - val_loss: 0.0700\n",
            "Epoch 384/700\n",
            "2/2 [==============================] - 0s 24ms/step - loss: 0.2111 - val_loss: 0.0692\n",
            "Epoch 385/700\n",
            "2/2 [==============================] - 0s 30ms/step - loss: 0.2506 - val_loss: 0.0672\n",
            "Epoch 386/700\n",
            "2/2 [==============================] - 0s 26ms/step - loss: 0.2556 - val_loss: 0.0653\n",
            "Epoch 387/700\n",
            "2/2 [==============================] - 0s 26ms/step - loss: 0.2019 - val_loss: 0.0642\n",
            "Epoch 388/700\n",
            "2/2 [==============================] - 0s 26ms/step - loss: 0.2544 - val_loss: 0.0637\n",
            "Epoch 389/700\n",
            "2/2 [==============================] - 0s 28ms/step - loss: 0.1770 - val_loss: 0.0640\n",
            "Epoch 390/700\n",
            "2/2 [==============================] - 0s 45ms/step - loss: 0.2044 - val_loss: 0.0665\n",
            "Epoch 391/700\n",
            "2/2 [==============================] - 0s 27ms/step - loss: 0.2314 - val_loss: 0.0695\n",
            "Epoch 392/700\n",
            "2/2 [==============================] - 0s 36ms/step - loss: 0.2524 - val_loss: 0.0731\n",
            "Epoch 393/700\n",
            "2/2 [==============================] - 0s 31ms/step - loss: 0.2846 - val_loss: 0.0762\n",
            "Epoch 394/700\n",
            "2/2 [==============================] - 0s 51ms/step - loss: 0.2805 - val_loss: 0.0792\n",
            "Epoch 395/700\n",
            "2/2 [==============================] - 0s 28ms/step - loss: 0.1795 - val_loss: 0.0817\n",
            "Epoch 396/700\n",
            "2/2 [==============================] - 0s 29ms/step - loss: 0.2055 - val_loss: 0.0854\n",
            "Epoch 397/700\n",
            "2/2 [==============================] - 0s 27ms/step - loss: 0.1867 - val_loss: 0.0892\n",
            "Epoch 398/700\n",
            "2/2 [==============================] - 0s 30ms/step - loss: 0.2106 - val_loss: 0.0926\n",
            "Epoch 399/700\n",
            "2/2 [==============================] - 0s 46ms/step - loss: 0.2906 - val_loss: 0.0941\n",
            "Epoch 400/700\n",
            "2/2 [==============================] - 0s 29ms/step - loss: 0.1478 - val_loss: 0.0952\n",
            "Epoch 401/700\n",
            "2/2 [==============================] - 0s 26ms/step - loss: 0.3319 - val_loss: 0.0993\n",
            "Epoch 402/700\n",
            "2/2 [==============================] - 0s 29ms/step - loss: 0.2326 - val_loss: 0.1063\n",
            "Epoch 403/700\n",
            "2/2 [==============================] - 0s 30ms/step - loss: 0.2089 - val_loss: 0.1100\n",
            "Epoch 404/700\n",
            "2/2 [==============================] - 0s 29ms/step - loss: 0.1879 - val_loss: 0.1132\n",
            "Epoch 405/700\n",
            "2/2 [==============================] - 0s 28ms/step - loss: 0.2031 - val_loss: 0.1174\n",
            "Epoch 406/700\n",
            "2/2 [==============================] - 0s 28ms/step - loss: 0.2199 - val_loss: 0.1219\n",
            "Epoch 407/700\n",
            "2/2 [==============================] - 0s 26ms/step - loss: 0.2803 - val_loss: 0.1254\n",
            "Epoch 408/700\n",
            "2/2 [==============================] - 0s 26ms/step - loss: 0.1700 - val_loss: 0.1323\n",
            "Epoch 409/700\n",
            "2/2 [==============================] - 0s 31ms/step - loss: 0.1534 - val_loss: 0.1334\n",
            "Epoch 410/700\n",
            "2/2 [==============================] - 0s 26ms/step - loss: 0.2802 - val_loss: 0.1308\n",
            "Epoch 411/700\n",
            "2/2 [==============================] - 0s 27ms/step - loss: 0.1694 - val_loss: 0.1279\n",
            "Epoch 412/700\n",
            "2/2 [==============================] - 0s 27ms/step - loss: 0.1955 - val_loss: 0.1195\n",
            "Epoch 413/700\n",
            "2/2 [==============================] - 0s 35ms/step - loss: 0.1688 - val_loss: 0.1142\n",
            "Epoch 414/700\n",
            "2/2 [==============================] - 0s 33ms/step - loss: 0.2154 - val_loss: 0.1113\n",
            "Epoch 415/700\n",
            "2/2 [==============================] - 0s 28ms/step - loss: 0.1713 - val_loss: 0.1100\n",
            "Epoch 416/700\n",
            "2/2 [==============================] - 0s 27ms/step - loss: 0.2412 - val_loss: 0.1090\n",
            "Epoch 417/700\n",
            "2/2 [==============================] - 0s 23ms/step - loss: 0.1464 - val_loss: 0.1080\n",
            "Epoch 418/700\n",
            "2/2 [==============================] - 0s 28ms/step - loss: 0.2005 - val_loss: 0.1074\n",
            "Epoch 419/700\n",
            "2/2 [==============================] - 0s 26ms/step - loss: 0.2253 - val_loss: 0.1051\n",
            "Epoch 420/700\n",
            "2/2 [==============================] - 0s 26ms/step - loss: 0.2378 - val_loss: 0.1023\n",
            "Epoch 421/700\n",
            "2/2 [==============================] - 0s 25ms/step - loss: 0.3209 - val_loss: 0.0971\n",
            "Epoch 422/700\n",
            "2/2 [==============================] - 0s 25ms/step - loss: 0.2370 - val_loss: 0.0958\n",
            "Epoch 423/700\n",
            "2/2 [==============================] - 0s 35ms/step - loss: 0.1801 - val_loss: 0.0958\n",
            "Epoch 424/700\n",
            "2/2 [==============================] - 0s 27ms/step - loss: 0.2790 - val_loss: 0.1023\n",
            "Epoch 425/700\n",
            "2/2 [==============================] - 0s 26ms/step - loss: 0.2321 - val_loss: 0.1069\n",
            "Epoch 426/700\n",
            "2/2 [==============================] - 0s 26ms/step - loss: 0.1602 - val_loss: 0.1101\n",
            "Epoch 427/700\n",
            "2/2 [==============================] - 0s 26ms/step - loss: 0.1773 - val_loss: 0.1118\n",
            "Epoch 428/700\n",
            "2/2 [==============================] - 0s 26ms/step - loss: 0.1591 - val_loss: 0.1090\n",
            "Epoch 429/700\n",
            "2/2 [==============================] - 0s 28ms/step - loss: 0.3029 - val_loss: 0.1043\n",
            "Epoch 430/700\n",
            "2/2 [==============================] - 0s 26ms/step - loss: 0.1926 - val_loss: 0.1010\n",
            "Epoch 431/700\n",
            "2/2 [==============================] - 0s 27ms/step - loss: 0.2322 - val_loss: 0.0978\n",
            "Epoch 432/700\n",
            "2/2 [==============================] - 0s 28ms/step - loss: 0.1747 - val_loss: 0.0958\n",
            "Epoch 433/700\n",
            "2/2 [==============================] - 0s 28ms/step - loss: 0.1505 - val_loss: 0.0929\n",
            "Epoch 434/700\n",
            "2/2 [==============================] - 0s 50ms/step - loss: 0.1930 - val_loss: 0.0911\n",
            "Epoch 435/700\n",
            "2/2 [==============================] - 0s 28ms/step - loss: 0.1838 - val_loss: 0.0919\n",
            "Epoch 436/700\n",
            "2/2 [==============================] - 0s 35ms/step - loss: 0.1309 - val_loss: 0.0931\n",
            "Epoch 437/700\n",
            "2/2 [==============================] - 0s 27ms/step - loss: 0.2648 - val_loss: 0.0928\n",
            "Epoch 438/700\n",
            "2/2 [==============================] - 0s 30ms/step - loss: 0.2844 - val_loss: 0.0894\n",
            "Epoch 439/700\n",
            "2/2 [==============================] - 0s 28ms/step - loss: 0.1855 - val_loss: 0.0856\n",
            "Epoch 440/700\n",
            "2/2 [==============================] - 0s 29ms/step - loss: 0.2198 - val_loss: 0.0809\n",
            "Epoch 441/700\n",
            "2/2 [==============================] - 0s 26ms/step - loss: 0.2087 - val_loss: 0.0729\n",
            "Epoch 442/700\n",
            "2/2 [==============================] - 0s 27ms/step - loss: 0.2057 - val_loss: 0.0666\n",
            "Epoch 443/700\n",
            "2/2 [==============================] - 0s 25ms/step - loss: 0.2395 - val_loss: 0.0625\n",
            "Epoch 444/700\n",
            "2/2 [==============================] - 0s 28ms/step - loss: 0.2367 - val_loss: 0.0603\n",
            "Epoch 445/700\n",
            "2/2 [==============================] - 0s 31ms/step - loss: 0.1659 - val_loss: 0.0588\n",
            "Epoch 446/700\n",
            "2/2 [==============================] - 0s 34ms/step - loss: 0.1923 - val_loss: 0.0572\n",
            "Epoch 447/700\n",
            "2/2 [==============================] - 0s 43ms/step - loss: 0.2420 - val_loss: 0.0572\n",
            "Epoch 448/700\n",
            "2/2 [==============================] - 0s 30ms/step - loss: 0.1564 - val_loss: 0.0583\n",
            "Epoch 449/700\n",
            "2/2 [==============================] - 0s 27ms/step - loss: 0.1773 - val_loss: 0.0598\n",
            "Epoch 450/700\n",
            "2/2 [==============================] - 0s 28ms/step - loss: 0.1739 - val_loss: 0.0603\n",
            "Epoch 451/700\n",
            "2/2 [==============================] - 0s 25ms/step - loss: 0.2291 - val_loss: 0.0619\n",
            "Epoch 452/700\n",
            "2/2 [==============================] - 0s 27ms/step - loss: 0.1469 - val_loss: 0.0640\n",
            "Epoch 453/700\n",
            "2/2 [==============================] - 0s 24ms/step - loss: 0.2228 - val_loss: 0.0665\n",
            "Epoch 454/700\n",
            "2/2 [==============================] - 0s 27ms/step - loss: 0.1984 - val_loss: 0.0685\n",
            "Epoch 455/700\n",
            "2/2 [==============================] - 0s 26ms/step - loss: 0.1603 - val_loss: 0.0697\n",
            "Epoch 456/700\n",
            "2/2 [==============================] - 0s 35ms/step - loss: 0.1609 - val_loss: 0.0702\n",
            "Epoch 457/700\n",
            "2/2 [==============================] - 0s 26ms/step - loss: 0.1564 - val_loss: 0.0696\n",
            "Epoch 458/700\n",
            "2/2 [==============================] - 0s 46ms/step - loss: 0.1838 - val_loss: 0.0681\n",
            "Epoch 459/700\n",
            "2/2 [==============================] - 0s 27ms/step - loss: 0.1693 - val_loss: 0.0658\n",
            "Epoch 460/700\n",
            "2/2 [==============================] - 0s 30ms/step - loss: 0.2102 - val_loss: 0.0632\n",
            "Epoch 461/700\n",
            "2/2 [==============================] - 0s 44ms/step - loss: 0.2005 - val_loss: 0.0600\n",
            "Epoch 462/700\n",
            "2/2 [==============================] - 0s 29ms/step - loss: 0.1260 - val_loss: 0.0563\n",
            "Epoch 463/700\n",
            "2/2 [==============================] - 0s 25ms/step - loss: 0.1878 - val_loss: 0.0530\n",
            "Epoch 464/700\n",
            "2/2 [==============================] - 0s 27ms/step - loss: 0.1727 - val_loss: 0.0505\n",
            "Epoch 465/700\n",
            "2/2 [==============================] - 0s 27ms/step - loss: 0.1633 - val_loss: 0.0488\n",
            "Epoch 466/700\n",
            "2/2 [==============================] - 0s 29ms/step - loss: 0.2176 - val_loss: 0.0479\n",
            "Epoch 467/700\n",
            "2/2 [==============================] - 0s 28ms/step - loss: 0.1697 - val_loss: 0.0473\n",
            "Epoch 468/700\n",
            "2/2 [==============================] - 0s 31ms/step - loss: 0.1896 - val_loss: 0.0474\n",
            "Epoch 469/700\n",
            "2/2 [==============================] - 0s 26ms/step - loss: 0.1775 - val_loss: 0.0471\n",
            "Epoch 470/700\n",
            "2/2 [==============================] - 0s 28ms/step - loss: 0.1665 - val_loss: 0.0464\n",
            "Epoch 471/700\n",
            "2/2 [==============================] - 0s 28ms/step - loss: 0.1736 - val_loss: 0.0459\n",
            "Epoch 472/700\n",
            "2/2 [==============================] - 0s 27ms/step - loss: 0.1444 - val_loss: 0.0448\n",
            "Epoch 473/700\n",
            "2/2 [==============================] - 0s 29ms/step - loss: 0.2173 - val_loss: 0.0435\n",
            "Epoch 474/700\n",
            "2/2 [==============================] - 0s 25ms/step - loss: 0.1364 - val_loss: 0.0418\n",
            "Epoch 475/700\n",
            "2/2 [==============================] - 0s 31ms/step - loss: 0.1862 - val_loss: 0.0403\n",
            "Epoch 476/700\n",
            "2/2 [==============================] - 0s 27ms/step - loss: 0.1507 - val_loss: 0.0404\n",
            "Epoch 477/700\n",
            "2/2 [==============================] - 0s 29ms/step - loss: 0.2085 - val_loss: 0.0407\n",
            "Epoch 478/700\n",
            "2/2 [==============================] - 0s 29ms/step - loss: 0.1651 - val_loss: 0.0410\n",
            "Epoch 479/700\n",
            "2/2 [==============================] - 0s 28ms/step - loss: 0.1573 - val_loss: 0.0418\n",
            "Epoch 480/700\n",
            "2/2 [==============================] - 0s 28ms/step - loss: 0.1431 - val_loss: 0.0434\n",
            "Epoch 481/700\n",
            "2/2 [==============================] - 0s 29ms/step - loss: 0.1995 - val_loss: 0.0444\n",
            "Epoch 482/700\n",
            "2/2 [==============================] - 0s 31ms/step - loss: 0.1535 - val_loss: 0.0462\n",
            "Epoch 483/700\n",
            "2/2 [==============================] - 0s 27ms/step - loss: 0.1516 - val_loss: 0.0478\n",
            "Epoch 484/700\n",
            "2/2 [==============================] - 0s 26ms/step - loss: 0.1253 - val_loss: 0.0501\n",
            "Epoch 485/700\n",
            "2/2 [==============================] - 0s 33ms/step - loss: 0.1999 - val_loss: 0.0529\n",
            "Epoch 486/700\n",
            "2/2 [==============================] - 0s 26ms/step - loss: 0.1622 - val_loss: 0.0554\n",
            "Epoch 487/700\n",
            "2/2 [==============================] - 0s 25ms/step - loss: 0.1762 - val_loss: 0.0578\n",
            "Epoch 488/700\n",
            "2/2 [==============================] - 0s 28ms/step - loss: 0.1326 - val_loss: 0.0597\n",
            "Epoch 489/700\n",
            "2/2 [==============================] - 0s 28ms/step - loss: 0.1913 - val_loss: 0.0606\n",
            "Epoch 490/700\n",
            "2/2 [==============================] - 0s 28ms/step - loss: 0.2252 - val_loss: 0.0609\n",
            "Epoch 491/700\n",
            "2/2 [==============================] - 0s 35ms/step - loss: 0.1793 - val_loss: 0.0603\n",
            "Epoch 492/700\n",
            "2/2 [==============================] - 0s 46ms/step - loss: 0.1747 - val_loss: 0.0591\n",
            "Epoch 493/700\n",
            "2/2 [==============================] - 0s 27ms/step - loss: 0.1585 - val_loss: 0.0571\n",
            "Epoch 494/700\n",
            "2/2 [==============================] - 0s 32ms/step - loss: 0.1200 - val_loss: 0.0555\n",
            "Epoch 495/700\n",
            "2/2 [==============================] - 0s 28ms/step - loss: 0.1699 - val_loss: 0.0536\n",
            "Epoch 496/700\n",
            "2/2 [==============================] - 0s 46ms/step - loss: 0.1534 - val_loss: 0.0520\n",
            "Epoch 497/700\n",
            "2/2 [==============================] - 0s 28ms/step - loss: 0.1753 - val_loss: 0.0506\n",
            "Epoch 498/700\n",
            "2/2 [==============================] - 0s 48ms/step - loss: 0.1689 - val_loss: 0.0502\n",
            "Epoch 499/700\n",
            "2/2 [==============================] - 0s 49ms/step - loss: 0.1403 - val_loss: 0.0501\n",
            "Epoch 500/700\n",
            "2/2 [==============================] - 0s 28ms/step - loss: 0.1802 - val_loss: 0.0497\n",
            "Epoch 501/700\n",
            "2/2 [==============================] - 0s 31ms/step - loss: 0.1788 - val_loss: 0.0495\n",
            "Epoch 502/700\n",
            "2/2 [==============================] - 0s 33ms/step - loss: 0.1667 - val_loss: 0.0479\n",
            "Epoch 503/700\n",
            "2/2 [==============================] - 0s 29ms/step - loss: 0.1449 - val_loss: 0.0461\n",
            "Epoch 504/700\n",
            "2/2 [==============================] - 0s 47ms/step - loss: 0.1629 - val_loss: 0.0447\n",
            "Epoch 505/700\n",
            "2/2 [==============================] - 0s 27ms/step - loss: 0.1627 - val_loss: 0.0438\n",
            "Epoch 506/700\n",
            "2/2 [==============================] - 0s 26ms/step - loss: 0.1737 - val_loss: 0.0443\n",
            "Epoch 507/700\n",
            "2/2 [==============================] - 0s 25ms/step - loss: 0.2381 - val_loss: 0.0445\n",
            "Epoch 508/700\n",
            "2/2 [==============================] - 0s 27ms/step - loss: 0.1711 - val_loss: 0.0461\n",
            "Epoch 509/700\n",
            "2/2 [==============================] - 0s 28ms/step - loss: 0.1725 - val_loss: 0.0480\n",
            "Epoch 510/700\n",
            "2/2 [==============================] - 0s 30ms/step - loss: 0.2164 - val_loss: 0.0488\n",
            "Epoch 511/700\n",
            "2/2 [==============================] - 0s 39ms/step - loss: 0.1574 - val_loss: 0.0493\n",
            "Epoch 512/700\n",
            "2/2 [==============================] - 0s 30ms/step - loss: 0.1664 - val_loss: 0.0505\n",
            "Epoch 513/700\n",
            "2/2 [==============================] - 0s 30ms/step - loss: 0.1445 - val_loss: 0.0524\n",
            "Epoch 514/700\n",
            "2/2 [==============================] - 0s 26ms/step - loss: 0.1182 - val_loss: 0.0543\n",
            "Epoch 515/700\n",
            "2/2 [==============================] - 0s 27ms/step - loss: 0.1329 - val_loss: 0.0553\n",
            "Epoch 516/700\n",
            "2/2 [==============================] - 0s 29ms/step - loss: 0.1668 - val_loss: 0.0559\n",
            "Epoch 517/700\n",
            "2/2 [==============================] - 0s 26ms/step - loss: 0.1747 - val_loss: 0.0567\n",
            "Epoch 518/700\n",
            "2/2 [==============================] - 0s 27ms/step - loss: 0.1443 - val_loss: 0.0567\n",
            "Epoch 519/700\n",
            "2/2 [==============================] - 0s 27ms/step - loss: 0.1447 - val_loss: 0.0559\n",
            "Epoch 520/700\n",
            "2/2 [==============================] - 0s 26ms/step - loss: 0.1561 - val_loss: 0.0553\n",
            "Epoch 521/700\n",
            "2/2 [==============================] - 0s 33ms/step - loss: 0.1462 - val_loss: 0.0530\n",
            "Epoch 522/700\n",
            "2/2 [==============================] - 0s 26ms/step - loss: 0.1734 - val_loss: 0.0506\n",
            "Epoch 523/700\n",
            "2/2 [==============================] - 0s 26ms/step - loss: 0.1745 - val_loss: 0.0484\n",
            "Epoch 524/700\n",
            "2/2 [==============================] - 0s 48ms/step - loss: 0.1797 - val_loss: 0.0465\n",
            "Epoch 525/700\n",
            "2/2 [==============================] - 0s 28ms/step - loss: 0.1365 - val_loss: 0.0448\n",
            "Epoch 526/700\n",
            "2/2 [==============================] - 0s 28ms/step - loss: 0.1374 - val_loss: 0.0450\n",
            "Epoch 527/700\n",
            "2/2 [==============================] - 0s 30ms/step - loss: 0.1901 - val_loss: 0.0457\n",
            "Epoch 528/700\n",
            "2/2 [==============================] - 0s 26ms/step - loss: 0.1517 - val_loss: 0.0468\n",
            "Epoch 529/700\n",
            "2/2 [==============================] - 0s 26ms/step - loss: 0.1312 - val_loss: 0.0478\n",
            "Epoch 530/700\n",
            "2/2 [==============================] - 0s 26ms/step - loss: 0.1899 - val_loss: 0.0486\n",
            "Epoch 531/700\n",
            "2/2 [==============================] - 0s 29ms/step - loss: 0.1260 - val_loss: 0.0512\n",
            "Epoch 532/700\n",
            "2/2 [==============================] - 0s 29ms/step - loss: 0.1283 - val_loss: 0.0543\n",
            "Epoch 533/700\n",
            "2/2 [==============================] - 0s 28ms/step - loss: 0.1460 - val_loss: 0.0552\n",
            "Epoch 534/700\n",
            "2/2 [==============================] - 0s 31ms/step - loss: 0.1841 - val_loss: 0.0548\n",
            "Epoch 535/700\n",
            "2/2 [==============================] - 0s 29ms/step - loss: 0.1401 - val_loss: 0.0529\n",
            "Epoch 536/700\n",
            "2/2 [==============================] - 0s 27ms/step - loss: 0.1771 - val_loss: 0.0502\n",
            "Epoch 537/700\n",
            "2/2 [==============================] - 0s 47ms/step - loss: 0.2714 - val_loss: 0.0488\n",
            "Epoch 538/700\n",
            "2/2 [==============================] - 0s 45ms/step - loss: 0.1412 - val_loss: 0.0457\n",
            "Epoch 539/700\n",
            "2/2 [==============================] - 0s 33ms/step - loss: 0.2060 - val_loss: 0.0453\n",
            "Epoch 540/700\n",
            "2/2 [==============================] - 0s 27ms/step - loss: 0.1251 - val_loss: 0.0458\n",
            "Epoch 541/700\n",
            "2/2 [==============================] - 0s 25ms/step - loss: 0.1690 - val_loss: 0.0470\n",
            "Epoch 542/700\n",
            "2/2 [==============================] - 0s 25ms/step - loss: 0.1391 - val_loss: 0.0481\n",
            "Epoch 543/700\n",
            "2/2 [==============================] - 0s 27ms/step - loss: 0.2065 - val_loss: 0.0500\n",
            "Epoch 544/700\n",
            "2/2 [==============================] - 0s 24ms/step - loss: 0.1566 - val_loss: 0.0534\n",
            "Epoch 545/700\n",
            "2/2 [==============================] - 0s 29ms/step - loss: 0.1418 - val_loss: 0.0571\n",
            "Epoch 546/700\n",
            "2/2 [==============================] - 0s 25ms/step - loss: 0.1390 - val_loss: 0.0604\n",
            "Epoch 547/700\n",
            "2/2 [==============================] - 0s 33ms/step - loss: 0.1257 - val_loss: 0.0640\n",
            "Epoch 548/700\n",
            "2/2 [==============================] - 0s 32ms/step - loss: 0.1717 - val_loss: 0.0679\n",
            "Epoch 549/700\n",
            "2/2 [==============================] - 0s 27ms/step - loss: 0.1066 - val_loss: 0.0711\n",
            "Epoch 550/700\n",
            "2/2 [==============================] - 0s 27ms/step - loss: 0.1220 - val_loss: 0.0733\n",
            "Epoch 551/700\n",
            "2/2 [==============================] - 0s 30ms/step - loss: 0.2233 - val_loss: 0.0732\n",
            "Epoch 552/700\n",
            "2/2 [==============================] - 0s 26ms/step - loss: 0.1393 - val_loss: 0.0739\n",
            "Epoch 553/700\n",
            "2/2 [==============================] - 0s 26ms/step - loss: 0.1795 - val_loss: 0.0738\n",
            "Epoch 554/700\n",
            "2/2 [==============================] - 0s 28ms/step - loss: 0.1168 - val_loss: 0.0711\n",
            "Epoch 555/700\n",
            "2/2 [==============================] - 0s 28ms/step - loss: 0.1521 - val_loss: 0.0689\n",
            "Epoch 556/700\n",
            "2/2 [==============================] - 0s 26ms/step - loss: 0.1698 - val_loss: 0.0674\n",
            "Epoch 557/700\n",
            "2/2 [==============================] - 0s 31ms/step - loss: 0.1749 - val_loss: 0.0659\n",
            "Epoch 558/700\n",
            "2/2 [==============================] - 0s 29ms/step - loss: 0.1279 - val_loss: 0.0655\n",
            "Epoch 559/700\n",
            "2/2 [==============================] - 0s 25ms/step - loss: 0.1198 - val_loss: 0.0644\n",
            "Epoch 560/700\n",
            "2/2 [==============================] - 0s 47ms/step - loss: 0.1494 - val_loss: 0.0626\n",
            "Epoch 561/700\n",
            "2/2 [==============================] - 0s 29ms/step - loss: 0.1226 - val_loss: 0.0616\n",
            "Epoch 562/700\n",
            "2/2 [==============================] - 0s 29ms/step - loss: 0.1381 - val_loss: 0.0598\n",
            "Epoch 563/700\n",
            "2/2 [==============================] - 0s 26ms/step - loss: 0.1400 - val_loss: 0.0583\n",
            "Epoch 564/700\n",
            "2/2 [==============================] - 0s 49ms/step - loss: 0.1283 - val_loss: 0.0563\n",
            "Epoch 565/700\n",
            "2/2 [==============================] - 0s 48ms/step - loss: 0.1802 - val_loss: 0.0559\n",
            "Epoch 566/700\n",
            "2/2 [==============================] - 0s 29ms/step - loss: 0.1362 - val_loss: 0.0574\n",
            "Epoch 567/700\n",
            "2/2 [==============================] - 0s 28ms/step - loss: 0.1511 - val_loss: 0.0566\n",
            "Epoch 568/700\n",
            "2/2 [==============================] - 0s 49ms/step - loss: 0.1997 - val_loss: 0.0552\n",
            "Epoch 569/700\n",
            "2/2 [==============================] - 0s 29ms/step - loss: 0.1679 - val_loss: 0.0524\n",
            "Epoch 570/700\n",
            "2/2 [==============================] - 0s 42ms/step - loss: 0.1538 - val_loss: 0.0522\n",
            "Epoch 571/700\n",
            "2/2 [==============================] - 0s 49ms/step - loss: 0.1461 - val_loss: 0.0538\n",
            "Epoch 572/700\n",
            "2/2 [==============================] - 0s 32ms/step - loss: 0.1598 - val_loss: 0.0561\n",
            "Epoch 573/700\n",
            "2/2 [==============================] - 0s 26ms/step - loss: 0.1282 - val_loss: 0.0594\n",
            "Epoch 574/700\n",
            "2/2 [==============================] - 0s 44ms/step - loss: 0.1726 - val_loss: 0.0621\n",
            "Epoch 575/700\n",
            "2/2 [==============================] - 0s 28ms/step - loss: 0.1301 - val_loss: 0.0643\n",
            "Epoch 576/700\n",
            "2/2 [==============================] - 0s 33ms/step - loss: 0.1410 - val_loss: 0.0669\n",
            "Epoch 577/700\n",
            "2/2 [==============================] - 0s 30ms/step - loss: 0.1792 - val_loss: 0.0686\n",
            "Epoch 578/700\n",
            "2/2 [==============================] - 0s 24ms/step - loss: 0.1639 - val_loss: 0.0694\n",
            "Epoch 579/700\n",
            "2/2 [==============================] - 0s 29ms/step - loss: 0.1398 - val_loss: 0.0678\n",
            "Epoch 580/700\n",
            "2/2 [==============================] - 0s 47ms/step - loss: 0.0973 - val_loss: 0.0673\n",
            "Epoch 581/700\n",
            "2/2 [==============================] - 0s 27ms/step - loss: 0.1265 - val_loss: 0.0655\n",
            "Epoch 582/700\n",
            "2/2 [==============================] - 0s 29ms/step - loss: 0.1734 - val_loss: 0.0635\n",
            "Epoch 583/700\n",
            "2/2 [==============================] - 0s 33ms/step - loss: 0.0984 - val_loss: 0.0616\n",
            "Epoch 584/700\n",
            "2/2 [==============================] - 0s 27ms/step - loss: 0.1525 - val_loss: 0.0617\n",
            "Epoch 585/700\n",
            "2/2 [==============================] - 0s 29ms/step - loss: 0.1419 - val_loss: 0.0598\n",
            "Epoch 586/700\n",
            "2/2 [==============================] - 0s 28ms/step - loss: 0.1275 - val_loss: 0.0590\n",
            "Epoch 587/700\n",
            "2/2 [==============================] - 0s 25ms/step - loss: 0.1597 - val_loss: 0.0584\n",
            "Epoch 588/700\n",
            "2/2 [==============================] - 0s 27ms/step - loss: 0.1581 - val_loss: 0.0560\n",
            "Epoch 589/700\n",
            "2/2 [==============================] - 0s 25ms/step - loss: 0.2133 - val_loss: 0.0542\n",
            "Epoch 590/700\n",
            "2/2 [==============================] - 0s 28ms/step - loss: 0.1115 - val_loss: 0.0514\n",
            "Epoch 591/700\n",
            "2/2 [==============================] - 0s 27ms/step - loss: 0.1593 - val_loss: 0.0478\n",
            "Epoch 592/700\n",
            "2/2 [==============================] - 0s 30ms/step - loss: 0.1548 - val_loss: 0.0463\n",
            "Epoch 593/700\n",
            "2/2 [==============================] - 0s 24ms/step - loss: 0.1507 - val_loss: 0.0458\n",
            "Epoch 594/700\n",
            "2/2 [==============================] - 0s 25ms/step - loss: 0.1636 - val_loss: 0.0463\n",
            "Epoch 595/700\n",
            "2/2 [==============================] - 0s 25ms/step - loss: 0.1587 - val_loss: 0.0473\n",
            "Epoch 596/700\n",
            "2/2 [==============================] - 0s 25ms/step - loss: 0.1223 - val_loss: 0.0492\n",
            "Epoch 597/700\n",
            "2/2 [==============================] - 0s 27ms/step - loss: 0.1158 - val_loss: 0.0513\n",
            "Epoch 598/700\n",
            "2/2 [==============================] - 0s 29ms/step - loss: 0.1163 - val_loss: 0.0521\n",
            "Epoch 599/700\n",
            "2/2 [==============================] - 0s 30ms/step - loss: 0.1881 - val_loss: 0.0513\n",
            "Epoch 600/700\n",
            "2/2 [==============================] - 0s 28ms/step - loss: 0.1175 - val_loss: 0.0490\n",
            "Epoch 601/700\n",
            "2/2 [==============================] - 0s 26ms/step - loss: 0.1335 - val_loss: 0.0470\n",
            "Epoch 602/700\n",
            "2/2 [==============================] - 0s 29ms/step - loss: 0.1771 - val_loss: 0.0454\n",
            "Epoch 603/700\n",
            "2/2 [==============================] - 0s 27ms/step - loss: 0.1104 - val_loss: 0.0439\n",
            "Epoch 604/700\n",
            "2/2 [==============================] - 0s 26ms/step - loss: 0.1963 - val_loss: 0.0430\n",
            "Epoch 605/700\n",
            "2/2 [==============================] - 0s 25ms/step - loss: 0.1348 - val_loss: 0.0415\n",
            "Epoch 606/700\n",
            "2/2 [==============================] - 0s 27ms/step - loss: 0.0843 - val_loss: 0.0398\n",
            "Epoch 607/700\n",
            "2/2 [==============================] - 0s 29ms/step - loss: 0.1421 - val_loss: 0.0387\n",
            "Epoch 608/700\n",
            "2/2 [==============================] - 0s 29ms/step - loss: 0.1257 - val_loss: 0.0371\n",
            "Epoch 609/700\n",
            "2/2 [==============================] - 0s 26ms/step - loss: 0.1605 - val_loss: 0.0358\n",
            "Epoch 610/700\n",
            "2/2 [==============================] - 0s 27ms/step - loss: 0.1341 - val_loss: 0.0353\n",
            "Epoch 611/700\n",
            "2/2 [==============================] - 0s 34ms/step - loss: 0.2188 - val_loss: 0.0348\n",
            "Epoch 612/700\n",
            "2/2 [==============================] - 0s 35ms/step - loss: 0.1379 - val_loss: 0.0337\n",
            "Epoch 613/700\n",
            "2/2 [==============================] - 0s 28ms/step - loss: 0.1272 - val_loss: 0.0329\n",
            "Epoch 614/700\n",
            "2/2 [==============================] - 0s 29ms/step - loss: 0.0880 - val_loss: 0.0327\n",
            "Epoch 615/700\n",
            "2/2 [==============================] - 0s 30ms/step - loss: 0.1200 - val_loss: 0.0323\n",
            "Epoch 616/700\n",
            "2/2 [==============================] - 0s 31ms/step - loss: 0.1231 - val_loss: 0.0317\n",
            "Epoch 617/700\n",
            "2/2 [==============================] - 0s 28ms/step - loss: 0.1381 - val_loss: 0.0300\n",
            "Epoch 618/700\n",
            "2/2 [==============================] - 0s 30ms/step - loss: 0.1548 - val_loss: 0.0285\n",
            "Epoch 619/700\n",
            "2/2 [==============================] - 0s 28ms/step - loss: 0.1126 - val_loss: 0.0273\n",
            "Epoch 620/700\n",
            "2/2 [==============================] - 0s 28ms/step - loss: 0.1231 - val_loss: 0.0268\n",
            "Epoch 621/700\n",
            "2/2 [==============================] - 0s 34ms/step - loss: 0.1236 - val_loss: 0.0267\n",
            "Epoch 622/700\n",
            "2/2 [==============================] - 0s 35ms/step - loss: 0.1305 - val_loss: 0.0267\n",
            "Epoch 623/700\n",
            "2/2 [==============================] - 0s 28ms/step - loss: 0.1512 - val_loss: 0.0271\n",
            "Epoch 624/700\n",
            "2/2 [==============================] - 0s 28ms/step - loss: 0.1792 - val_loss: 0.0270\n",
            "Epoch 625/700\n",
            "2/2 [==============================] - 0s 28ms/step - loss: 0.1417 - val_loss: 0.0275\n",
            "Epoch 626/700\n",
            "2/2 [==============================] - 0s 32ms/step - loss: 0.1332 - val_loss: 0.0283\n",
            "Epoch 627/700\n",
            "2/2 [==============================] - 0s 30ms/step - loss: 0.1471 - val_loss: 0.0295\n",
            "Epoch 628/700\n",
            "2/2 [==============================] - 0s 35ms/step - loss: 0.0992 - val_loss: 0.0301\n",
            "Epoch 629/700\n",
            "2/2 [==============================] - 0s 33ms/step - loss: 0.1444 - val_loss: 0.0304\n",
            "Epoch 630/700\n",
            "2/2 [==============================] - 0s 34ms/step - loss: 0.1160 - val_loss: 0.0306\n",
            "Epoch 631/700\n",
            "2/2 [==============================] - 0s 32ms/step - loss: 0.1745 - val_loss: 0.0298\n",
            "Epoch 632/700\n",
            "2/2 [==============================] - 0s 26ms/step - loss: 0.1008 - val_loss: 0.0302\n",
            "Epoch 633/700\n",
            "2/2 [==============================] - 0s 28ms/step - loss: 0.1156 - val_loss: 0.0308\n",
            "Epoch 634/700\n",
            "2/2 [==============================] - 0s 30ms/step - loss: 0.1251 - val_loss: 0.0307\n",
            "Epoch 635/700\n",
            "2/2 [==============================] - 0s 26ms/step - loss: 0.1703 - val_loss: 0.0302\n",
            "Epoch 636/700\n",
            "2/2 [==============================] - 0s 31ms/step - loss: 0.1545 - val_loss: 0.0296\n",
            "Epoch 637/700\n",
            "2/2 [==============================] - 0s 38ms/step - loss: 0.1298 - val_loss: 0.0283\n",
            "Epoch 638/700\n",
            "2/2 [==============================] - 0s 30ms/step - loss: 0.1502 - val_loss: 0.0272\n",
            "Epoch 639/700\n",
            "2/2 [==============================] - 0s 25ms/step - loss: 0.1120 - val_loss: 0.0268\n",
            "Epoch 640/700\n",
            "2/2 [==============================] - 0s 30ms/step - loss: 0.1251 - val_loss: 0.0270\n",
            "Epoch 641/700\n",
            "2/2 [==============================] - 0s 27ms/step - loss: 0.1505 - val_loss: 0.0267\n",
            "Epoch 642/700\n",
            "2/2 [==============================] - 0s 25ms/step - loss: 0.0957 - val_loss: 0.0264\n",
            "Epoch 643/700\n",
            "2/2 [==============================] - 0s 39ms/step - loss: 0.1116 - val_loss: 0.0262\n",
            "Epoch 644/700\n",
            "2/2 [==============================] - 0s 29ms/step - loss: 0.1270 - val_loss: 0.0264\n",
            "Epoch 645/700\n",
            "2/2 [==============================] - 0s 30ms/step - loss: 0.1393 - val_loss: 0.0270\n",
            "Epoch 646/700\n",
            "2/2 [==============================] - 0s 27ms/step - loss: 0.0967 - val_loss: 0.0280\n",
            "Epoch 647/700\n",
            "2/2 [==============================] - 0s 28ms/step - loss: 0.1256 - val_loss: 0.0295\n",
            "Epoch 648/700\n",
            "2/2 [==============================] - 0s 33ms/step - loss: 0.1083 - val_loss: 0.0309\n",
            "Epoch 649/700\n",
            "2/2 [==============================] - 0s 37ms/step - loss: 0.1489 - val_loss: 0.0321\n",
            "Epoch 650/700\n",
            "2/2 [==============================] - 0s 30ms/step - loss: 0.1448 - val_loss: 0.0326\n",
            "Epoch 651/700\n",
            "2/2 [==============================] - 0s 34ms/step - loss: 0.1183 - val_loss: 0.0326\n",
            "Epoch 652/700\n",
            "2/2 [==============================] - 0s 31ms/step - loss: 0.1617 - val_loss: 0.0322\n",
            "Epoch 653/700\n",
            "2/2 [==============================] - 0s 31ms/step - loss: 0.1791 - val_loss: 0.0317\n",
            "Epoch 654/700\n",
            "2/2 [==============================] - 0s 28ms/step - loss: 0.0975 - val_loss: 0.0318\n",
            "Epoch 655/700\n",
            "2/2 [==============================] - 0s 28ms/step - loss: 0.1193 - val_loss: 0.0319\n",
            "Epoch 656/700\n",
            "2/2 [==============================] - 0s 27ms/step - loss: 0.1008 - val_loss: 0.0314\n",
            "Epoch 657/700\n",
            "2/2 [==============================] - 0s 32ms/step - loss: 0.1149 - val_loss: 0.0301\n",
            "Epoch 658/700\n",
            "2/2 [==============================] - 0s 33ms/step - loss: 0.1196 - val_loss: 0.0295\n",
            "Epoch 659/700\n",
            "2/2 [==============================] - 0s 25ms/step - loss: 0.0874 - val_loss: 0.0288\n",
            "Epoch 660/700\n",
            "2/2 [==============================] - 0s 26ms/step - loss: 0.1649 - val_loss: 0.0280\n",
            "Epoch 661/700\n",
            "2/2 [==============================] - 0s 30ms/step - loss: 0.0962 - val_loss: 0.0276\n",
            "Epoch 662/700\n",
            "2/2 [==============================] - 0s 26ms/step - loss: 0.0847 - val_loss: 0.0277\n",
            "Epoch 663/700\n",
            "2/2 [==============================] - 0s 27ms/step - loss: 0.1035 - val_loss: 0.0284\n",
            "Epoch 664/700\n",
            "2/2 [==============================] - 0s 30ms/step - loss: 0.1047 - val_loss: 0.0287\n",
            "Epoch 665/700\n",
            "2/2 [==============================] - 0s 37ms/step - loss: 0.1396 - val_loss: 0.0289\n",
            "Epoch 666/700\n",
            "2/2 [==============================] - 0s 27ms/step - loss: 0.0740 - val_loss: 0.0292\n",
            "Epoch 667/700\n",
            "2/2 [==============================] - 0s 32ms/step - loss: 0.1122 - val_loss: 0.0297\n",
            "Epoch 668/700\n",
            "2/2 [==============================] - 0s 27ms/step - loss: 0.1501 - val_loss: 0.0308\n",
            "Epoch 669/700\n",
            "2/2 [==============================] - 0s 33ms/step - loss: 0.1170 - val_loss: 0.0318\n",
            "Epoch 670/700\n",
            "2/2 [==============================] - 0s 29ms/step - loss: 0.1632 - val_loss: 0.0327\n",
            "Epoch 671/700\n",
            "2/2 [==============================] - 0s 30ms/step - loss: 0.1184 - val_loss: 0.0329\n",
            "Epoch 672/700\n",
            "2/2 [==============================] - 0s 28ms/step - loss: 0.1522 - val_loss: 0.0323\n",
            "Epoch 673/700\n",
            "2/2 [==============================] - 0s 29ms/step - loss: 0.0975 - val_loss: 0.0313\n",
            "Epoch 674/700\n",
            "2/2 [==============================] - 0s 28ms/step - loss: 0.1279 - val_loss: 0.0306\n",
            "Epoch 675/700\n",
            "2/2 [==============================] - 0s 34ms/step - loss: 0.1404 - val_loss: 0.0305\n",
            "Epoch 676/700\n",
            "2/2 [==============================] - 0s 29ms/step - loss: 0.1379 - val_loss: 0.0297\n",
            "Epoch 677/700\n",
            "2/2 [==============================] - 0s 28ms/step - loss: 0.1581 - val_loss: 0.0289\n",
            "Epoch 678/700\n",
            "2/2 [==============================] - 0s 29ms/step - loss: 0.1510 - val_loss: 0.0284\n",
            "Epoch 679/700\n",
            "2/2 [==============================] - 0s 28ms/step - loss: 0.1133 - val_loss: 0.0281\n",
            "Epoch 680/700\n",
            "2/2 [==============================] - 0s 30ms/step - loss: 0.0912 - val_loss: 0.0280\n",
            "Epoch 681/700\n",
            "2/2 [==============================] - 0s 26ms/step - loss: 0.1541 - val_loss: 0.0273\n",
            "Epoch 682/700\n",
            "2/2 [==============================] - 0s 27ms/step - loss: 0.1039 - val_loss: 0.0268\n",
            "Epoch 683/700\n",
            "2/2 [==============================] - 0s 27ms/step - loss: 0.0912 - val_loss: 0.0260\n",
            "Epoch 684/700\n",
            "2/2 [==============================] - 0s 31ms/step - loss: 0.1075 - val_loss: 0.0252\n",
            "Epoch 685/700\n",
            "2/2 [==============================] - 0s 46ms/step - loss: 0.1368 - val_loss: 0.0247\n",
            "Epoch 686/700\n",
            "2/2 [==============================] - 0s 33ms/step - loss: 0.1140 - val_loss: 0.0244\n",
            "Epoch 687/700\n",
            "2/2 [==============================] - 0s 27ms/step - loss: 0.1454 - val_loss: 0.0245\n",
            "Epoch 688/700\n",
            "2/2 [==============================] - 0s 28ms/step - loss: 0.1594 - val_loss: 0.0248\n",
            "Epoch 689/700\n",
            "2/2 [==============================] - 0s 27ms/step - loss: 0.0849 - val_loss: 0.0250\n",
            "Epoch 690/700\n",
            "2/2 [==============================] - 0s 26ms/step - loss: 0.1289 - val_loss: 0.0255\n",
            "Epoch 691/700\n",
            "2/2 [==============================] - 0s 33ms/step - loss: 0.1646 - val_loss: 0.0261\n",
            "Epoch 692/700\n",
            "2/2 [==============================] - 0s 27ms/step - loss: 0.0927 - val_loss: 0.0263\n",
            "Epoch 693/700\n",
            "2/2 [==============================] - 0s 27ms/step - loss: 0.1251 - val_loss: 0.0268\n",
            "Epoch 694/700\n",
            "2/2 [==============================] - 0s 34ms/step - loss: 0.0988 - val_loss: 0.0273\n",
            "Epoch 695/700\n",
            "2/2 [==============================] - 0s 27ms/step - loss: 0.1138 - val_loss: 0.0275\n",
            "Epoch 696/700\n",
            "2/2 [==============================] - 0s 29ms/step - loss: 0.1286 - val_loss: 0.0273\n",
            "Epoch 697/700\n",
            "2/2 [==============================] - 0s 27ms/step - loss: 0.1042 - val_loss: 0.0268\n",
            "Epoch 698/700\n",
            "2/2 [==============================] - 0s 27ms/step - loss: 0.0968 - val_loss: 0.0265\n",
            "Epoch 699/700\n",
            "2/2 [==============================] - 0s 29ms/step - loss: 0.0933 - val_loss: 0.0262\n",
            "Epoch 700/700\n",
            "2/2 [==============================] - 0s 27ms/step - loss: 0.0974 - val_loss: 0.0262\n"
          ]
        }
      ],
      "source": [
        "model = Sequential()\n",
        "model.add(Dense(32, activation=\"relu\"))\n",
        "model.add(BatchNormalization())\n",
        "model.add(Dropout(0.25))\n",
        "model.add(Dense(16, activation=\"relu\"))\n",
        "model.add(BatchNormalization())\n",
        "model.add(Dropout(0.2))\n",
        "model.add(Dense(8,activation=\"linear\"))\n",
        "model.add(BatchNormalization())\n",
        "model.add(Dropout(0.05))\n",
        "model.add(Dense(4,activation=\"linear\"))\n",
        "model.add(Dense(1, activation=\"linear\"))\n",
        "\n",
        "\n",
        "callbacks = [\n",
        "    keras.callbacks.ModelCheckpoint(\"QA_compressed.h5\", save_best_only=True),\n",
        "\t\tkeras.callbacks.EarlyStopping(monitor='val_loss', patience=30)\n",
        "]\n",
        "\n",
        "opt = Adam(learning_rate=1e-4, decay=1e-3 / 200)\n",
        "model.compile(loss=\"mean_squared_error\", optimizer=opt)\n",
        "\n",
        "history = model.fit(x=x_train, y=y_train, \n",
        "\tvalidation_data=(x_valid, y_valid),\n",
        "\tepochs=700, \n",
        "\tbatch_size=64)"
      ]
    },
    {
      "cell_type": "markdown",
      "metadata": {
        "id": "4DbUiCxdRNC0"
      },
      "source": [
        "## Plot"
      ]
    },
    {
      "cell_type": "code",
      "execution_count": 264,
      "metadata": {
        "id": "kXN3pDBpROOy"
      },
      "outputs": [],
      "source": [
        "def plot_diagrams_trian_process(history):\n",
        "    plt.xlabel('Epoch')\n",
        "    plt.ylabel('Loss')\n",
        "    plt.plot(history['loss'])\n",
        "    plt.plot(history['val_loss'])\n",
        "    plt.legend(['loss','val_loss'])"
      ]
    },
    {
      "cell_type": "code",
      "execution_count": 265,
      "metadata": {
        "colab": {
          "base_uri": "https://localhost:8080/",
          "height": 281
        },
        "id": "mUsvxo1KRPJR",
        "outputId": "7910b40b-9a8d-4dab-e0d8-327d2b608bc5"
      },
      "outputs": [
        {
          "output_type": "display_data",
          "data": {
            "text/plain": [
              "<Figure size 432x288 with 1 Axes>"
            ],
            "image/png": "[encoded data removed]"
          },
          "metadata": {
            "needs_background": "light"
          }
        }
      ],
      "source": [
        "plot_diagrams_trian_process(history.history)"
      ]
    },
    {
      "cell_type": "markdown",
      "source": [
        "##Predict"
      ],
      "metadata": {
        "id": "JAvcO71TEfsr"
      }
    },
    {
      "cell_type": "code",
      "source": [
        "y_test_predict = model.predict(x_test)\n",
        "y_test_predict *= max_y"
      ],
      "metadata": {
        "id": "Y89vL7ThEhD6"
      },
      "execution_count": 266,
      "outputs": []
    },
    {
      "cell_type": "code",
      "source": [
        "y_test_orig = y_test * max_y"
      ],
      "metadata": {
        "id": "z1EM8MSlFay0"
      },
      "execution_count": 267,
      "outputs": []
    },
    {
      "cell_type": "code",
      "source": [
        "plt.plot(y_test_predict, label = 'predicted test' ,color = 'red')\n",
        "plt.plot(y_test_orig, label = 'original test' ,color = 'blue')\n",
        "plt.legend()"
      ],
      "metadata": {
        "colab": {
          "base_uri": "https://localhost:8080/",
          "height": 282
        },
        "id": "JbuLQpDnFId0",
        "outputId": "3875f3b3-fb8f-488e-911f-38b03364efb3"
      },
      "execution_count": 268,
      "outputs": [
        {
          "output_type": "execute_result",
          "data": {
            "text/plain": [
              "<matplotlib.legend.Legend at 0x7fe23643b810>"
            ]
          },
          "metadata": {},
          "execution_count": 268
        },
        {
          "output_type": "display_data",
          "data": {
            "text/plain": [
              "<Figure size 432x288 with 1 Axes>"
            ],
            "image/png": "[encoded data removed]"
          },
          "metadata": {
            "needs_background": "light"
          }
        }
      ]
    },
    {
      "cell_type": "markdown",
      "source": [
        "## Spearman correlation"
      ],
      "metadata": {
        "id": "nxdJWLwQ5HF4"
      }
    },
    {
      "cell_type": "code",
      "source": [
        "np.squeeze(y_test_predict, axis=1).shape"
      ],
      "metadata": {
        "colab": {
          "base_uri": "https://localhost:8080/"
        },
        "id": "tCJ1EjiX32UY",
        "outputId": "ff52a6db-dcce-43ac-9a2a-c9c49a519ca8"
      },
      "execution_count": 269,
      "outputs": [
        {
          "output_type": "execute_result",
          "data": {
            "text/plain": [
              "(30,)"
            ]
          },
          "metadata": {},
          "execution_count": 269
        }
      ]
    },
    {
      "cell_type": "code",
      "source": [
        "np.corrcoef(y_test_orig, np.squeeze(y_test_predict, axis=1))"
      ],
      "metadata": {
        "colab": {
          "base_uri": "https://localhost:8080/"
        },
        "id": "JjzAveZz3DbW",
        "outputId": "b8a5909e-2493-403d-c658-d0adfe8a30b8"
      },
      "execution_count": 270,
      "outputs": [
        {
          "output_type": "execute_result",
          "data": {
            "text/plain": [
              "array([[1.        , 0.04267392],\n",
              "       [0.04267392, 1.        ]])"
            ]
          },
          "metadata": {},
          "execution_count": 270
        }
      ]
    },
    {
      "cell_type": "code",
      "source": [
        "from scipy import stats\n",
        "rho, pval = stats.spearmanr(np.squeeze(y_test_predict, axis=1), y_test_orig)"
      ],
      "metadata": {
        "id": "189R_tKEc1ST"
      },
      "execution_count": 271,
      "outputs": []
    },
    {
      "cell_type": "code",
      "source": [
        "rho"
      ],
      "metadata": {
        "colab": {
          "base_uri": "https://localhost:8080/"
        },
        "id": "p-fuXoMG5eO1",
        "outputId": "19947a0d-2541-4adb-9dfb-c40db2348a4f"
      },
      "execution_count": 272,
      "outputs": [
        {
          "output_type": "execute_result",
          "data": {
            "text/plain": [
              "0.05494994438264739"
            ]
          },
          "metadata": {},
          "execution_count": 272
        }
      ]
    },
    {
      "cell_type": "markdown",
      "source": [
        "## Train Data evaluation"
      ],
      "metadata": {
        "id": "sItzZBFZ5XEG"
      }
    },
    {
      "cell_type": "code",
      "source": [
        "y_train_predict = model.predict(x_train)\n",
        "y_train_predict *= max_y\n",
        "y_train_orig = y_train * max_y"
      ],
      "metadata": {
        "id": "owQr7MKBdEmZ"
      },
      "execution_count": 273,
      "outputs": []
    },
    {
      "cell_type": "code",
      "source": [
        "plt.plot(y_train_predict, label = 'predicted train' ,color = 'red')\n",
        "plt.plot(y_train_orig, label = 'original train' ,color = 'blue')\n",
        "plt.legend()"
      ],
      "metadata": {
        "colab": {
          "base_uri": "https://localhost:8080/",
          "height": 282
        },
        "id": "hKFFJfXlgUTx",
        "outputId": "4bfe1d9a-84ff-40be-eab4-dd68612be2fc"
      },
      "execution_count": 274,
      "outputs": [
        {
          "output_type": "execute_result",
          "data": {
            "text/plain": [
              "<matplotlib.legend.Legend at 0x7fe24a563dd0>"
            ]
          },
          "metadata": {},
          "execution_count": 274
        },
        {
          "output_type": "display_data",
          "data": {
            "text/plain": [
              "<Figure size 432x288 with 1 Axes>"
            ],
            "image/png": "[encoded data removed]"
          },
          "metadata": {
            "needs_background": "light"
          }
        }
      ]
    }
  ],
  "metadata": {
    "colab": {
      "name": "QA_compressed_domain.ipynb",
      "provenance": [],
      "collapsed_sections": [],
      "include_colab_link": true
    },
    "gpuClass": "standard",
    "kernelspec": {
      "display_name": "Python 3",
      "name": "python3"
    },
    "language_info": {
      "name": "python"
    },
    "accelerator": "GPU"
  },
  "nbformat": 4,
  "nbformat_minor": 0
}