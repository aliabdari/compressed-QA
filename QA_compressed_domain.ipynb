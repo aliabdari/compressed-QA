{
  "cells": [
    {
      "cell_type": "markdown",
      "metadata": {
        "id": "view-in-github",
        "colab_type": "text"
      },
      "source": [
        "<a href=\"https://colab.research.google.com/github/aliabdari/compressed-QA/blob/main/QA_compressed_domain.ipynb\" target=\"_parent\"><img src=\"https://colab.research.google.com/assets/colab-badge.svg\" alt=\"Open In Colab\"/></a>"
      ]
    },
    {
      "cell_type": "code",
      "execution_count": 985,
      "metadata": {
        "colab": {
          "base_uri": "https://localhost:8080/"
        },
        "id": "0BohLnoGkx_7",
        "outputId": "14b07b5f-ae51-4ed2-8a30-25c93f1a38cc"
      },
      "outputs": [
        {
          "output_type": "stream",
          "name": "stdout",
          "text": [
            "Drive already mounted at /content/drive; to attempt to forcibly remount, call drive.mount(\"/content/drive\", force_remount=True).\n"
          ]
        }
      ],
      "source": [
        "from google.colab import drive\n",
        "drive.mount('/content/drive')"
      ]
    },
    {
      "cell_type": "code",
      "execution_count": 986,
      "metadata": {
        "id": "qcR23ZTJJ7KJ"
      },
      "outputs": [],
      "source": [
        "import pandas as pd\n",
        "import numpy as np\n",
        "\n",
        "import matplotlib.pyplot as plt\n",
        "from sklearn.model_selection import train_test_split\n",
        "\n",
        "from tensorflow import keras\n",
        "from keras.models import Sequential\n",
        "from keras.layers import BatchNormalization\n",
        "from keras.layers import Activation\n",
        "from keras.layers import Dropout\n",
        "from keras.layers import Dense\n",
        "from keras.layers import Input\n",
        "from keras.models import Model\n",
        "from tensorflow.keras.optimizers import Adam\n",
        "from keras.regularizers import l2"
      ]
    },
    {
      "cell_type": "code",
      "execution_count": 987,
      "metadata": {
        "id": "Y2A-J6_Wl3HZ"
      },
      "outputs": [],
      "source": [
        "x_temp = np.load('/content/drive/MyDrive/information_live/x_vgg16.npy',allow_pickle= True)"
      ]
    },
    {
      "cell_type": "code",
      "execution_count": 988,
      "metadata": {
        "colab": {
          "base_uri": "https://localhost:8080/"
        },
        "id": "v_RTNh9p2sEC",
        "outputId": "0c0f7a0b-16ee-43de-b6af-196f7ee3668c"
      },
      "outputs": [
        {
          "output_type": "execute_result",
          "data": {
            "text/plain": [
              "160"
            ]
          },
          "metadata": {},
          "execution_count": 988
        }
      ],
      "source": [
        "x_temp.shape[0]"
      ]
    },
    {
      "cell_type": "code",
      "execution_count": 989,
      "metadata": {
        "id": "gFat1VCN4E6D"
      },
      "outputs": [],
      "source": [
        "x_temp2 = np.empty(150,dtype=object)"
      ]
    },
    {
      "cell_type": "code",
      "execution_count": 990,
      "metadata": {
        "id": "pCIE5miT2y0o"
      },
      "outputs": [],
      "source": [
        "idx = 0\n",
        "for i in range(x_temp.shape[0]):\n",
        "  if i % 16 == 0:\n",
        "    continue\n",
        "  x_temp2[idx] = x_temp[i]\n",
        "  idx+=1"
      ]
    },
    {
      "cell_type": "code",
      "execution_count": 991,
      "metadata": {
        "colab": {
          "base_uri": "https://localhost:8080/"
        },
        "id": "ad9Xxz5K5o3P",
        "outputId": "d37f7007-515f-4126-9449-22f83c364ec8"
      },
      "outputs": [
        {
          "output_type": "execute_result",
          "data": {
            "text/plain": [
              "(150,)"
            ]
          },
          "metadata": {},
          "execution_count": 991
        }
      ],
      "source": [
        "x_temp2.shape"
      ]
    },
    {
      "cell_type": "markdown",
      "metadata": {
        "id": "gfkuFHJ55z_9"
      },
      "source": [
        "## Load DOM"
      ]
    },
    {
      "cell_type": "code",
      "execution_count": 992,
      "metadata": {
        "id": "62EWrfUA56Mx"
      },
      "outputs": [],
      "source": [
        "y_temp = np.loadtxt('/content/drive/MyDrive/live_dataset_Reconstructed_Residuals/live_video_quality_data.txt')"
      ]
    },
    {
      "cell_type": "code",
      "execution_count": 993,
      "metadata": {
        "colab": {
          "base_uri": "https://localhost:8080/"
        },
        "id": "Wl0Xi9fs6dBG",
        "outputId": "30c691df-cf64-446d-c817-7f4a58cd636d"
      },
      "outputs": [
        {
          "output_type": "execute_result",
          "data": {
            "text/plain": [
              "(150, 2)"
            ]
          },
          "metadata": {},
          "execution_count": 993
        }
      ],
      "source": [
        "y_temp.shape"
      ]
    },
    {
      "cell_type": "code",
      "execution_count": 994,
      "metadata": {
        "id": "SHpQH5T76jFV"
      },
      "outputs": [],
      "source": [
        "y = y_temp[:,0]"
      ]
    },
    {
      "cell_type": "code",
      "execution_count": 995,
      "metadata": {
        "id": "Hl3IhQVyRAEJ"
      },
      "outputs": [],
      "source": [
        "y = np.asarray(y).astype('float32')"
      ]
    },
    {
      "cell_type": "code",
      "source": [
        "max_y = np.max(y)"
      ],
      "metadata": {
        "id": "uocTHggicSuq"
      },
      "execution_count": 996,
      "outputs": []
    },
    {
      "cell_type": "code",
      "source": [
        "y=y/max_y"
      ],
      "metadata": {
        "id": "vVOcfXXxcU8x"
      },
      "execution_count": 997,
      "outputs": []
    },
    {
      "cell_type": "markdown",
      "metadata": {
        "id": "SUN0SN8R5tQP"
      },
      "source": [
        "## POT"
      ]
    },
    {
      "cell_type": "code",
      "execution_count": 998,
      "metadata": {
        "colab": {
          "base_uri": "https://localhost:8080/"
        },
        "id": "o8I_DHJRIblD",
        "outputId": "80af17b0-46f3-4dd4-a6f7-84648a1852fb"
      },
      "outputs": [
        {
          "output_type": "execute_result",
          "data": {
            "text/plain": [
              "(4096,)"
            ]
          },
          "metadata": {},
          "execution_count": 998
        }
      ],
      "source": [
        "np.mean(x_temp2[10], axis=1).shape"
      ]
    },
    {
      "cell_type": "code",
      "execution_count": 999,
      "metadata": {
        "id": "pBGiyTC95qZu"
      },
      "outputs": [],
      "source": [
        "x = np.empty((150,4096),dtype=object)\n",
        "for i in range(x_temp2.shape[0]):\n",
        "  x[i,:] = np.mean(x_temp2[i], axis=1)\n",
        "  pass"
      ]
    },
    {
      "cell_type": "code",
      "execution_count": 1000,
      "metadata": {
        "colab": {
          "base_uri": "https://localhost:8080/"
        },
        "id": "JmsaAqQjJah7",
        "outputId": "7747b85b-d405-47ae-b12f-cd3ce02f1256"
      },
      "outputs": [
        {
          "output_type": "execute_result",
          "data": {
            "text/plain": [
              "(150, 4096)"
            ]
          },
          "metadata": {},
          "execution_count": 1000
        }
      ],
      "source": [
        "x.shape"
      ]
    },
    {
      "cell_type": "code",
      "execution_count": 1001,
      "metadata": {
        "id": "YsYolfHdQ6KI"
      },
      "outputs": [],
      "source": [
        "x = np.asarray(x).astype('float32')"
      ]
    },
    {
      "cell_type": "code",
      "source": [
        "np.max(x)"
      ],
      "metadata": {
        "colab": {
          "base_uri": "https://localhost:8080/"
        },
        "id": "XXAH4IhRcPFu",
        "outputId": "f7469afb-2ab9-418c-ea07-c80c5b7aa417"
      },
      "execution_count": 1002,
      "outputs": [
        {
          "output_type": "execute_result",
          "data": {
            "text/plain": [
              "4.789821"
            ]
          },
          "metadata": {},
          "execution_count": 1002
        }
      ]
    },
    {
      "cell_type": "code",
      "source": [
        "x = x/np.max(x)"
      ],
      "metadata": {
        "id": "hNWg5qgPcF0g"
      },
      "execution_count": 1003,
      "outputs": []
    },
    {
      "cell_type": "markdown",
      "metadata": {
        "id": "fyaOTZn1JhFP"
      },
      "source": [
        "# Data preparation"
      ]
    },
    {
      "cell_type": "code",
      "execution_count": 1004,
      "metadata": {
        "id": "QCenLye0Lagv"
      },
      "outputs": [],
      "source": [
        "x_test = x[0:30,:].copy()\n",
        "y_test = y[0:30].copy()"
      ]
    },
    {
      "cell_type": "code",
      "execution_count": 1005,
      "metadata": {
        "colab": {
          "base_uri": "https://localhost:8080/"
        },
        "id": "HC7GCYclLiQG",
        "outputId": "23cef8f4-09aa-4cb2-b115-1de7b3cda684"
      },
      "outputs": [
        {
          "output_type": "execute_result",
          "data": {
            "text/plain": [
              "(30, 4096)"
            ]
          },
          "metadata": {},
          "execution_count": 1005
        }
      ],
      "source": [
        "x_test.shape"
      ]
    },
    {
      "cell_type": "code",
      "execution_count": 1006,
      "metadata": {
        "id": "hLERvSSGLlHF"
      },
      "outputs": [],
      "source": [
        "x_train = x[30:,:].copy()\n",
        "y_train = y[30:].copy()"
      ]
    },
    {
      "cell_type": "code",
      "execution_count": 1007,
      "metadata": {
        "colab": {
          "base_uri": "https://localhost:8080/"
        },
        "id": "lIwTDsm1LyIv",
        "outputId": "f31665d8-8d8f-4b7e-9a8f-f0fa1510831b"
      },
      "outputs": [
        {
          "output_type": "execute_result",
          "data": {
            "text/plain": [
              "(120, 4096)"
            ]
          },
          "metadata": {},
          "execution_count": 1007
        }
      ],
      "source": [
        "x_train.shape"
      ]
    },
    {
      "cell_type": "code",
      "execution_count": 1008,
      "metadata": {
        "id": "aTSxbuuQOP0M"
      },
      "outputs": [],
      "source": [
        "def do_shuffle(X,Y,number_of_data):\n",
        "  shuffle_index = np.arange(number_of_data)\n",
        "  np.random.shuffle(shuffle_index)\n",
        "  return X[shuffle_index],Y[shuffle_index]"
      ]
    },
    {
      "cell_type": "code",
      "execution_count": 1009,
      "metadata": {
        "id": "_JU6ofk6ORFl"
      },
      "outputs": [],
      "source": [
        "x_train,y_train = do_shuffle(x_train,y_train,120)"
      ]
    },
    {
      "cell_type": "code",
      "execution_count": 1010,
      "metadata": {
        "colab": {
          "base_uri": "https://localhost:8080/"
        },
        "id": "rgi1n2SqPddA",
        "outputId": "42a400f1-66c1-4d14-d74e-77801e9fbe14"
      },
      "outputs": [
        {
          "output_type": "execute_result",
          "data": {
            "text/plain": [
              "dtype('float32')"
            ]
          },
          "metadata": {},
          "execution_count": 1010
        }
      ],
      "source": [
        "x_train.dtype"
      ]
    },
    {
      "cell_type": "markdown",
      "metadata": {
        "id": "hJlHZY5IPoIi"
      },
      "source": [
        "## Model"
      ]
    },
    {
      "cell_type": "code",
      "source": [
        "x_train, x_valid, y_train, y_valid = train_test_split(x_train, y_train, test_size=0.08, shuffle= True)"
      ],
      "metadata": {
        "id": "Z45TXCVVEL2a"
      },
      "execution_count": 1011,
      "outputs": []
    },
    {
      "cell_type": "code",
      "execution_count": 1012,
      "metadata": {
        "colab": {
          "base_uri": "https://localhost:8080/"
        },
        "id": "vT5O-XvSPfe5",
        "outputId": "18c0cbd5-e1f7-4ab6-eac8-3cab18124e7e"
      },
      "outputs": [
        {
          "output_type": "stream",
          "name": "stdout",
          "text": [
            "Epoch 1/500\n",
            "2/2 [==============================] - 1s 158ms/step - loss: 5.2801 - val_loss: 2.9007\n",
            "Epoch 2/500\n",
            "2/2 [==============================] - 0s 23ms/step - loss: 3.4554 - val_loss: 2.7906\n",
            "Epoch 3/500\n",
            "2/2 [==============================] - 0s 26ms/step - loss: 3.1910 - val_loss: 2.7264\n",
            "Epoch 4/500\n",
            "2/2 [==============================] - 0s 42ms/step - loss: 3.3063 - val_loss: 2.4822\n",
            "Epoch 5/500\n",
            "2/2 [==============================] - 0s 29ms/step - loss: 2.8402 - val_loss: 2.3192\n",
            "Epoch 6/500\n",
            "2/2 [==============================] - 0s 43ms/step - loss: 2.2428 - val_loss: 2.3739\n",
            "Epoch 7/500\n",
            "2/2 [==============================] - 0s 23ms/step - loss: 3.1896 - val_loss: 2.3578\n",
            "Epoch 8/500\n",
            "2/2 [==============================] - 0s 23ms/step - loss: 2.3274 - val_loss: 2.3258\n",
            "Epoch 9/500\n",
            "2/2 [==============================] - 0s 23ms/step - loss: 2.2734 - val_loss: 2.3400\n",
            "Epoch 10/500\n",
            "2/2 [==============================] - 0s 23ms/step - loss: 2.0812 - val_loss: 2.2116\n",
            "Epoch 11/500\n",
            "2/2 [==============================] - 0s 32ms/step - loss: 1.5348 - val_loss: 2.0182\n",
            "Epoch 12/500\n",
            "2/2 [==============================] - 0s 23ms/step - loss: 1.1790 - val_loss: 1.9500\n",
            "Epoch 13/500\n",
            "2/2 [==============================] - 0s 24ms/step - loss: 1.4876 - val_loss: 1.9168\n",
            "Epoch 14/500\n",
            "2/2 [==============================] - 0s 29ms/step - loss: 1.3536 - val_loss: 1.7926\n",
            "Epoch 15/500\n",
            "2/2 [==============================] - 0s 25ms/step - loss: 1.2621 - val_loss: 1.6874\n",
            "Epoch 16/500\n",
            "2/2 [==============================] - 0s 42ms/step - loss: 1.0773 - val_loss: 1.5634\n",
            "Epoch 17/500\n",
            "2/2 [==============================] - 0s 42ms/step - loss: 1.0007 - val_loss: 1.4482\n",
            "Epoch 18/500\n",
            "2/2 [==============================] - 0s 23ms/step - loss: 1.0544 - val_loss: 1.3379\n",
            "Epoch 19/500\n",
            "2/2 [==============================] - 0s 24ms/step - loss: 0.9878 - val_loss: 1.2882\n",
            "Epoch 20/500\n",
            "2/2 [==============================] - 0s 23ms/step - loss: 0.9450 - val_loss: 1.2608\n",
            "Epoch 21/500\n",
            "2/2 [==============================] - 0s 31ms/step - loss: 1.0471 - val_loss: 1.2327\n",
            "Epoch 22/500\n",
            "2/2 [==============================] - 0s 24ms/step - loss: 1.0408 - val_loss: 1.2016\n",
            "Epoch 23/500\n",
            "2/2 [==============================] - 0s 27ms/step - loss: 0.7591 - val_loss: 1.1582\n",
            "Epoch 24/500\n",
            "2/2 [==============================] - 0s 23ms/step - loss: 0.9619 - val_loss: 1.1242\n",
            "Epoch 25/500\n",
            "2/2 [==============================] - 0s 23ms/step - loss: 1.0829 - val_loss: 1.0829\n",
            "Epoch 26/500\n",
            "2/2 [==============================] - 0s 23ms/step - loss: 0.9778 - val_loss: 1.0322\n",
            "Epoch 27/500\n",
            "2/2 [==============================] - 0s 23ms/step - loss: 0.9170 - val_loss: 0.9421\n",
            "Epoch 28/500\n",
            "2/2 [==============================] - 0s 25ms/step - loss: 0.7433 - val_loss: 0.8396\n",
            "Epoch 29/500\n",
            "2/2 [==============================] - 0s 25ms/step - loss: 0.4650 - val_loss: 0.7466\n",
            "Epoch 30/500\n",
            "2/2 [==============================] - 0s 28ms/step - loss: 0.9245 - val_loss: 0.6792\n",
            "Epoch 31/500\n",
            "2/2 [==============================] - 0s 24ms/step - loss: 0.6282 - val_loss: 0.6194\n",
            "Epoch 32/500\n",
            "2/2 [==============================] - 0s 23ms/step - loss: 0.6351 - val_loss: 0.5845\n",
            "Epoch 33/500\n",
            "2/2 [==============================] - 0s 30ms/step - loss: 0.6729 - val_loss: 0.5660\n",
            "Epoch 34/500\n",
            "2/2 [==============================] - 0s 23ms/step - loss: 0.4827 - val_loss: 0.5458\n",
            "Epoch 35/500\n",
            "2/2 [==============================] - 0s 27ms/step - loss: 0.5772 - val_loss: 0.5155\n",
            "Epoch 36/500\n",
            "2/2 [==============================] - 0s 41ms/step - loss: 0.6244 - val_loss: 0.4802\n",
            "Epoch 37/500\n",
            "2/2 [==============================] - 0s 23ms/step - loss: 0.5726 - val_loss: 0.4413\n",
            "Epoch 38/500\n",
            "2/2 [==============================] - 0s 41ms/step - loss: 0.3731 - val_loss: 0.4077\n",
            "Epoch 39/500\n",
            "2/2 [==============================] - 0s 24ms/step - loss: 0.6515 - val_loss: 0.3841\n",
            "Epoch 40/500\n",
            "2/2 [==============================] - 0s 23ms/step - loss: 0.6370 - val_loss: 0.3738\n",
            "Epoch 41/500\n",
            "2/2 [==============================] - 0s 23ms/step - loss: 0.4947 - val_loss: 0.3653\n",
            "Epoch 42/500\n",
            "2/2 [==============================] - 0s 27ms/step - loss: 0.3931 - val_loss: 0.3481\n",
            "Epoch 43/500\n",
            "2/2 [==============================] - 0s 24ms/step - loss: 0.4128 - val_loss: 0.3327\n",
            "Epoch 44/500\n",
            "2/2 [==============================] - 0s 24ms/step - loss: 0.5739 - val_loss: 0.3309\n",
            "Epoch 45/500\n",
            "2/2 [==============================] - 0s 23ms/step - loss: 0.3270 - val_loss: 0.3270\n",
            "Epoch 46/500\n",
            "2/2 [==============================] - 0s 23ms/step - loss: 0.5201 - val_loss: 0.3016\n",
            "Epoch 47/500\n",
            "2/2 [==============================] - 0s 31ms/step - loss: 0.3591 - val_loss: 0.2812\n",
            "Epoch 48/500\n",
            "2/2 [==============================] - 0s 24ms/step - loss: 0.3306 - val_loss: 0.2600\n",
            "Epoch 49/500\n",
            "2/2 [==============================] - 0s 29ms/step - loss: 0.5175 - val_loss: 0.2382\n",
            "Epoch 50/500\n",
            "2/2 [==============================] - 0s 25ms/step - loss: 0.2626 - val_loss: 0.2188\n",
            "Epoch 51/500\n",
            "2/2 [==============================] - 0s 23ms/step - loss: 0.3657 - val_loss: 0.2059\n",
            "Epoch 52/500\n",
            "2/2 [==============================] - 0s 24ms/step - loss: 0.3729 - val_loss: 0.1895\n",
            "Epoch 53/500\n",
            "2/2 [==============================] - 0s 23ms/step - loss: 0.4202 - val_loss: 0.1761\n",
            "Epoch 54/500\n",
            "2/2 [==============================] - 0s 25ms/step - loss: 0.3897 - val_loss: 0.1682\n",
            "Epoch 55/500\n",
            "2/2 [==============================] - 0s 24ms/step - loss: 0.3380 - val_loss: 0.1545\n",
            "Epoch 56/500\n",
            "2/2 [==============================] - 0s 23ms/step - loss: 0.3797 - val_loss: 0.1403\n",
            "Epoch 57/500\n",
            "2/2 [==============================] - 0s 23ms/step - loss: 0.3464 - val_loss: 0.1309\n",
            "Epoch 58/500\n",
            "2/2 [==============================] - 0s 24ms/step - loss: 0.3640 - val_loss: 0.1175\n",
            "Epoch 59/500\n",
            "2/2 [==============================] - 0s 23ms/step - loss: 0.3575 - val_loss: 0.1052\n",
            "Epoch 60/500\n",
            "2/2 [==============================] - 0s 23ms/step - loss: 0.3045 - val_loss: 0.0964\n",
            "Epoch 61/500\n",
            "2/2 [==============================] - 0s 23ms/step - loss: 0.2853 - val_loss: 0.0916\n",
            "Epoch 62/500\n",
            "2/2 [==============================] - 0s 41ms/step - loss: 0.2782 - val_loss: 0.0882\n",
            "Epoch 63/500\n",
            "2/2 [==============================] - 0s 23ms/step - loss: 0.2998 - val_loss: 0.0915\n",
            "Epoch 64/500\n",
            "2/2 [==============================] - 0s 24ms/step - loss: 0.1974 - val_loss: 0.0953\n",
            "Epoch 65/500\n",
            "2/2 [==============================] - 0s 22ms/step - loss: 0.4711 - val_loss: 0.0952\n",
            "Epoch 66/500\n",
            "2/2 [==============================] - 0s 24ms/step - loss: 0.4130 - val_loss: 0.0926\n",
            "Epoch 67/500\n",
            "2/2 [==============================] - 0s 22ms/step - loss: 0.2785 - val_loss: 0.0915\n",
            "Epoch 68/500\n",
            "2/2 [==============================] - 0s 23ms/step - loss: 0.3436 - val_loss: 0.0891\n",
            "Epoch 69/500\n",
            "2/2 [==============================] - 0s 24ms/step - loss: 0.2477 - val_loss: 0.0878\n",
            "Epoch 70/500\n",
            "2/2 [==============================] - 0s 23ms/step - loss: 0.2255 - val_loss: 0.0856\n",
            "Epoch 71/500\n",
            "2/2 [==============================] - 0s 23ms/step - loss: 0.1822 - val_loss: 0.0835\n",
            "Epoch 72/500\n",
            "2/2 [==============================] - 0s 23ms/step - loss: 0.2758 - val_loss: 0.0784\n",
            "Epoch 73/500\n",
            "2/2 [==============================] - 0s 22ms/step - loss: 0.1791 - val_loss: 0.0729\n",
            "Epoch 74/500\n",
            "2/2 [==============================] - 0s 30ms/step - loss: 0.2482 - val_loss: 0.0632\n",
            "Epoch 75/500\n",
            "2/2 [==============================] - 0s 26ms/step - loss: 0.2499 - val_loss: 0.0557\n",
            "Epoch 76/500\n",
            "2/2 [==============================] - 0s 23ms/step - loss: 0.3093 - val_loss: 0.0493\n",
            "Epoch 77/500\n",
            "2/2 [==============================] - 0s 24ms/step - loss: 0.3286 - val_loss: 0.0431\n",
            "Epoch 78/500\n",
            "2/2 [==============================] - 0s 25ms/step - loss: 0.1354 - val_loss: 0.0368\n",
            "Epoch 79/500\n",
            "2/2 [==============================] - 0s 27ms/step - loss: 0.2268 - val_loss: 0.0330\n",
            "Epoch 80/500\n",
            "2/2 [==============================] - 0s 26ms/step - loss: 0.2674 - val_loss: 0.0302\n",
            "Epoch 81/500\n",
            "2/2 [==============================] - 0s 23ms/step - loss: 0.1824 - val_loss: 0.0283\n",
            "Epoch 82/500\n",
            "2/2 [==============================] - 0s 24ms/step - loss: 0.3339 - val_loss: 0.0288\n",
            "Epoch 83/500\n",
            "2/2 [==============================] - 0s 23ms/step - loss: 0.3399 - val_loss: 0.0287\n",
            "Epoch 84/500\n",
            "2/2 [==============================] - 0s 23ms/step - loss: 0.2244 - val_loss: 0.0283\n",
            "Epoch 85/500\n",
            "2/2 [==============================] - 0s 29ms/step - loss: 0.2701 - val_loss: 0.0284\n",
            "Epoch 86/500\n",
            "2/2 [==============================] - 0s 25ms/step - loss: 0.1905 - val_loss: 0.0279\n",
            "Epoch 87/500\n",
            "2/2 [==============================] - 0s 24ms/step - loss: 0.1407 - val_loss: 0.0280\n",
            "Epoch 88/500\n",
            "2/2 [==============================] - 0s 24ms/step - loss: 0.2235 - val_loss: 0.0286\n",
            "Epoch 89/500\n",
            "2/2 [==============================] - 0s 25ms/step - loss: 0.2919 - val_loss: 0.0316\n",
            "Epoch 90/500\n",
            "2/2 [==============================] - 0s 26ms/step - loss: 0.2433 - val_loss: 0.0339\n",
            "Epoch 91/500\n",
            "2/2 [==============================] - 0s 41ms/step - loss: 0.2042 - val_loss: 0.0352\n",
            "Epoch 92/500\n",
            "2/2 [==============================] - 0s 23ms/step - loss: 0.2381 - val_loss: 0.0345\n",
            "Epoch 93/500\n",
            "2/2 [==============================] - 0s 24ms/step - loss: 0.1347 - val_loss: 0.0347\n",
            "Epoch 94/500\n",
            "2/2 [==============================] - 0s 23ms/step - loss: 0.1835 - val_loss: 0.0353\n",
            "Epoch 95/500\n",
            "2/2 [==============================] - 0s 23ms/step - loss: 0.4583 - val_loss: 0.0362\n",
            "Epoch 96/500\n",
            "2/2 [==============================] - 0s 23ms/step - loss: 0.3433 - val_loss: 0.0368\n",
            "Epoch 97/500\n",
            "2/2 [==============================] - 0s 26ms/step - loss: 0.1819 - val_loss: 0.0383\n",
            "Epoch 98/500\n",
            "2/2 [==============================] - 0s 23ms/step - loss: 0.2205 - val_loss: 0.0390\n",
            "Epoch 99/500\n",
            "2/2 [==============================] - 0s 24ms/step - loss: 0.1629 - val_loss: 0.0386\n",
            "Epoch 100/500\n",
            "2/2 [==============================] - 0s 25ms/step - loss: 0.2696 - val_loss: 0.0386\n",
            "Epoch 101/500\n",
            "2/2 [==============================] - 0s 27ms/step - loss: 0.2950 - val_loss: 0.0380\n",
            "Epoch 102/500\n",
            "2/2 [==============================] - 0s 23ms/step - loss: 0.3722 - val_loss: 0.0339\n",
            "Epoch 103/500\n",
            "2/2 [==============================] - 0s 23ms/step - loss: 0.2662 - val_loss: 0.0288\n",
            "Epoch 104/500\n",
            "2/2 [==============================] - 0s 35ms/step - loss: 0.2798 - val_loss: 0.0258\n",
            "Epoch 105/500\n",
            "2/2 [==============================] - 0s 24ms/step - loss: 0.1594 - val_loss: 0.0235\n",
            "Epoch 106/500\n",
            "2/2 [==============================] - 0s 23ms/step - loss: 0.1179 - val_loss: 0.0213\n",
            "Epoch 107/500\n",
            "2/2 [==============================] - 0s 23ms/step - loss: 0.2151 - val_loss: 0.0195\n",
            "Epoch 108/500\n",
            "2/2 [==============================] - 0s 23ms/step - loss: 0.2436 - val_loss: 0.0177\n",
            "Epoch 109/500\n",
            "2/2 [==============================] - 0s 23ms/step - loss: 0.1604 - val_loss: 0.0169\n",
            "Epoch 110/500\n",
            "2/2 [==============================] - 0s 45ms/step - loss: 0.1771 - val_loss: 0.0171\n",
            "Epoch 111/500\n",
            "2/2 [==============================] - 0s 27ms/step - loss: 0.2052 - val_loss: 0.0169\n",
            "Epoch 112/500\n",
            "2/2 [==============================] - 0s 23ms/step - loss: 0.2763 - val_loss: 0.0166\n",
            "Epoch 113/500\n",
            "2/2 [==============================] - 0s 23ms/step - loss: 0.0867 - val_loss: 0.0164\n",
            "Epoch 114/500\n",
            "2/2 [==============================] - 0s 45ms/step - loss: 0.2392 - val_loss: 0.0159\n",
            "Epoch 115/500\n",
            "2/2 [==============================] - 0s 25ms/step - loss: 0.1802 - val_loss: 0.0160\n",
            "Epoch 116/500\n",
            "2/2 [==============================] - 0s 24ms/step - loss: 0.1465 - val_loss: 0.0169\n",
            "Epoch 117/500\n",
            "2/2 [==============================] - 0s 23ms/step - loss: 0.1903 - val_loss: 0.0174\n",
            "Epoch 118/500\n",
            "2/2 [==============================] - 0s 25ms/step - loss: 0.1516 - val_loss: 0.0179\n",
            "Epoch 119/500\n",
            "2/2 [==============================] - 0s 41ms/step - loss: 0.1945 - val_loss: 0.0181\n",
            "Epoch 120/500\n",
            "2/2 [==============================] - 0s 24ms/step - loss: 0.1358 - val_loss: 0.0181\n",
            "Epoch 121/500\n",
            "2/2 [==============================] - 0s 25ms/step - loss: 0.1416 - val_loss: 0.0179\n",
            "Epoch 122/500\n",
            "2/2 [==============================] - 0s 23ms/step - loss: 0.2303 - val_loss: 0.0178\n",
            "Epoch 123/500\n",
            "2/2 [==============================] - 0s 41ms/step - loss: 0.1746 - val_loss: 0.0175\n",
            "Epoch 124/500\n",
            "2/2 [==============================] - 0s 24ms/step - loss: 0.1598 - val_loss: 0.0178\n",
            "Epoch 125/500\n",
            "2/2 [==============================] - 0s 25ms/step - loss: 0.1333 - val_loss: 0.0179\n",
            "Epoch 126/500\n",
            "2/2 [==============================] - 0s 32ms/step - loss: 0.1341 - val_loss: 0.0177\n",
            "Epoch 127/500\n",
            "2/2 [==============================] - 0s 45ms/step - loss: 0.1555 - val_loss: 0.0174\n",
            "Epoch 128/500\n",
            "2/2 [==============================] - 0s 25ms/step - loss: 0.1265 - val_loss: 0.0167\n",
            "Epoch 129/500\n",
            "2/2 [==============================] - 0s 26ms/step - loss: 0.1445 - val_loss: 0.0157\n",
            "Epoch 130/500\n",
            "2/2 [==============================] - 0s 24ms/step - loss: 0.1750 - val_loss: 0.0150\n",
            "Epoch 131/500\n",
            "2/2 [==============================] - 0s 26ms/step - loss: 0.1726 - val_loss: 0.0146\n",
            "Epoch 132/500\n",
            "2/2 [==============================] - 0s 28ms/step - loss: 0.1975 - val_loss: 0.0146\n",
            "Epoch 133/500\n",
            "2/2 [==============================] - 0s 23ms/step - loss: 0.1502 - val_loss: 0.0149\n",
            "Epoch 134/500\n",
            "2/2 [==============================] - 0s 47ms/step - loss: 0.1726 - val_loss: 0.0152\n",
            "Epoch 135/500\n",
            "2/2 [==============================] - 0s 24ms/step - loss: 0.1703 - val_loss: 0.0156\n",
            "Epoch 136/500\n",
            "2/2 [==============================] - 0s 23ms/step - loss: 0.1274 - val_loss: 0.0159\n",
            "Epoch 137/500\n",
            "2/2 [==============================] - 0s 24ms/step - loss: 0.1557 - val_loss: 0.0160\n",
            "Epoch 138/500\n",
            "2/2 [==============================] - 0s 24ms/step - loss: 0.1297 - val_loss: 0.0163\n",
            "Epoch 139/500\n",
            "2/2 [==============================] - 0s 22ms/step - loss: 0.1308 - val_loss: 0.0167\n",
            "Epoch 140/500\n",
            "2/2 [==============================] - 0s 24ms/step - loss: 0.1537 - val_loss: 0.0172\n",
            "Epoch 141/500\n",
            "2/2 [==============================] - 0s 23ms/step - loss: 0.1135 - val_loss: 0.0178\n",
            "Epoch 142/500\n",
            "2/2 [==============================] - 0s 24ms/step - loss: 0.1305 - val_loss: 0.0185\n",
            "Epoch 143/500\n",
            "2/2 [==============================] - 0s 23ms/step - loss: 0.2376 - val_loss: 0.0192\n",
            "Epoch 144/500\n",
            "2/2 [==============================] - 0s 30ms/step - loss: 0.1152 - val_loss: 0.0202\n",
            "Epoch 145/500\n",
            "2/2 [==============================] - 0s 24ms/step - loss: 0.1532 - val_loss: 0.0213\n",
            "Epoch 146/500\n",
            "2/2 [==============================] - 0s 42ms/step - loss: 0.1413 - val_loss: 0.0223\n",
            "Epoch 147/500\n",
            "2/2 [==============================] - 0s 25ms/step - loss: 0.1023 - val_loss: 0.0231\n",
            "Epoch 148/500\n",
            "2/2 [==============================] - 0s 26ms/step - loss: 0.1543 - val_loss: 0.0242\n",
            "Epoch 149/500\n",
            "2/2 [==============================] - 0s 24ms/step - loss: 0.1134 - val_loss: 0.0250\n",
            "Epoch 150/500\n",
            "2/2 [==============================] - 0s 24ms/step - loss: 0.1555 - val_loss: 0.0255\n",
            "Epoch 151/500\n",
            "2/2 [==============================] - 0s 26ms/step - loss: 0.0911 - val_loss: 0.0262\n",
            "Epoch 152/500\n",
            "2/2 [==============================] - 0s 25ms/step - loss: 0.0966 - val_loss: 0.0263\n",
            "Epoch 153/500\n",
            "2/2 [==============================] - 0s 25ms/step - loss: 0.1152 - val_loss: 0.0258\n",
            "Epoch 154/500\n",
            "2/2 [==============================] - 0s 24ms/step - loss: 0.1497 - val_loss: 0.0261\n",
            "Epoch 155/500\n",
            "2/2 [==============================] - 0s 25ms/step - loss: 0.1616 - val_loss: 0.0255\n",
            "Epoch 156/500\n",
            "2/2 [==============================] - 0s 43ms/step - loss: 0.1143 - val_loss: 0.0244\n",
            "Epoch 157/500\n",
            "2/2 [==============================] - 0s 24ms/step - loss: 0.1464 - val_loss: 0.0232\n",
            "Epoch 158/500\n",
            "2/2 [==============================] - 0s 24ms/step - loss: 0.1346 - val_loss: 0.0227\n",
            "Epoch 159/500\n",
            "2/2 [==============================] - 0s 24ms/step - loss: 0.0993 - val_loss: 0.0228\n",
            "Epoch 160/500\n",
            "2/2 [==============================] - 0s 29ms/step - loss: 0.0886 - val_loss: 0.0233\n",
            "Epoch 161/500\n",
            "2/2 [==============================] - 0s 26ms/step - loss: 0.0894 - val_loss: 0.0239\n",
            "Epoch 162/500\n",
            "2/2 [==============================] - 0s 25ms/step - loss: 0.1355 - val_loss: 0.0237\n",
            "Epoch 163/500\n",
            "2/2 [==============================] - 0s 24ms/step - loss: 0.0941 - val_loss: 0.0235\n",
            "Epoch 164/500\n",
            "2/2 [==============================] - 0s 24ms/step - loss: 0.1650 - val_loss: 0.0235\n",
            "Epoch 165/500\n",
            "2/2 [==============================] - 0s 25ms/step - loss: 0.1034 - val_loss: 0.0239\n",
            "Epoch 166/500\n",
            "2/2 [==============================] - 0s 42ms/step - loss: 0.0633 - val_loss: 0.0242\n",
            "Epoch 167/500\n",
            "2/2 [==============================] - 0s 42ms/step - loss: 0.1236 - val_loss: 0.0242\n",
            "Epoch 168/500\n",
            "2/2 [==============================] - 0s 25ms/step - loss: 0.1527 - val_loss: 0.0236\n",
            "Epoch 169/500\n",
            "2/2 [==============================] - 0s 43ms/step - loss: 0.1354 - val_loss: 0.0224\n",
            "Epoch 170/500\n",
            "2/2 [==============================] - 0s 24ms/step - loss: 0.1134 - val_loss: 0.0218\n",
            "Epoch 171/500\n",
            "2/2 [==============================] - 0s 24ms/step - loss: 0.1152 - val_loss: 0.0212\n",
            "Epoch 172/500\n",
            "2/2 [==============================] - 0s 28ms/step - loss: 0.1053 - val_loss: 0.0209\n",
            "Epoch 173/500\n",
            "2/2 [==============================] - 0s 25ms/step - loss: 0.1103 - val_loss: 0.0205\n",
            "Epoch 174/500\n",
            "2/2 [==============================] - 0s 24ms/step - loss: 0.1259 - val_loss: 0.0203\n",
            "Epoch 175/500\n",
            "2/2 [==============================] - 0s 31ms/step - loss: 0.1211 - val_loss: 0.0205\n",
            "Epoch 176/500\n",
            "2/2 [==============================] - 0s 25ms/step - loss: 0.0858 - val_loss: 0.0201\n",
            "Epoch 177/500\n",
            "2/2 [==============================] - 0s 27ms/step - loss: 0.0977 - val_loss: 0.0200\n",
            "Epoch 178/500\n",
            "2/2 [==============================] - 0s 24ms/step - loss: 0.1046 - val_loss: 0.0206\n",
            "Epoch 179/500\n",
            "2/2 [==============================] - 0s 24ms/step - loss: 0.1189 - val_loss: 0.0206\n",
            "Epoch 180/500\n",
            "2/2 [==============================] - 0s 26ms/step - loss: 0.0890 - val_loss: 0.0200\n",
            "Epoch 181/500\n",
            "2/2 [==============================] - 0s 27ms/step - loss: 0.0843 - val_loss: 0.0193\n",
            "Epoch 182/500\n",
            "2/2 [==============================] - 0s 25ms/step - loss: 0.1030 - val_loss: 0.0181\n",
            "Epoch 183/500\n",
            "2/2 [==============================] - 0s 28ms/step - loss: 0.1474 - val_loss: 0.0171\n",
            "Epoch 184/500\n",
            "2/2 [==============================] - 0s 26ms/step - loss: 0.1945 - val_loss: 0.0160\n",
            "Epoch 185/500\n",
            "2/2 [==============================] - 0s 26ms/step - loss: 0.1165 - val_loss: 0.0160\n",
            "Epoch 186/500\n",
            "2/2 [==============================] - 0s 25ms/step - loss: 0.0810 - val_loss: 0.0161\n",
            "Epoch 187/500\n",
            "2/2 [==============================] - 0s 25ms/step - loss: 0.1157 - val_loss: 0.0165\n",
            "Epoch 188/500\n",
            "2/2 [==============================] - 0s 42ms/step - loss: 0.1095 - val_loss: 0.0168\n",
            "Epoch 189/500\n",
            "2/2 [==============================] - 0s 25ms/step - loss: 0.1314 - val_loss: 0.0169\n",
            "Epoch 190/500\n",
            "2/2 [==============================] - 0s 25ms/step - loss: 0.1267 - val_loss: 0.0166\n",
            "Epoch 191/500\n",
            "2/2 [==============================] - 0s 24ms/step - loss: 0.0702 - val_loss: 0.0164\n",
            "Epoch 192/500\n",
            "2/2 [==============================] - 0s 26ms/step - loss: 0.1033 - val_loss: 0.0159\n",
            "Epoch 193/500\n",
            "2/2 [==============================] - 0s 25ms/step - loss: 0.1141 - val_loss: 0.0149\n",
            "Epoch 194/500\n",
            "2/2 [==============================] - 0s 24ms/step - loss: 0.1115 - val_loss: 0.0143\n",
            "Epoch 195/500\n",
            "2/2 [==============================] - 0s 24ms/step - loss: 0.1193 - val_loss: 0.0141\n",
            "Epoch 196/500\n",
            "2/2 [==============================] - 0s 24ms/step - loss: 0.1592 - val_loss: 0.0147\n",
            "Epoch 197/500\n",
            "2/2 [==============================] - 0s 35ms/step - loss: 0.1302 - val_loss: 0.0153\n",
            "Epoch 198/500\n",
            "2/2 [==============================] - 0s 24ms/step - loss: 0.0813 - val_loss: 0.0158\n",
            "Epoch 199/500\n",
            "2/2 [==============================] - 0s 27ms/step - loss: 0.1115 - val_loss: 0.0167\n",
            "Epoch 200/500\n",
            "2/2 [==============================] - 0s 35ms/step - loss: 0.0733 - val_loss: 0.0177\n",
            "Epoch 201/500\n",
            "2/2 [==============================] - 0s 25ms/step - loss: 0.1360 - val_loss: 0.0181\n",
            "Epoch 202/500\n",
            "2/2 [==============================] - 0s 28ms/step - loss: 0.0935 - val_loss: 0.0186\n",
            "Epoch 203/500\n",
            "2/2 [==============================] - 0s 25ms/step - loss: 0.1086 - val_loss: 0.0191\n",
            "Epoch 204/500\n",
            "2/2 [==============================] - 0s 26ms/step - loss: 0.0645 - val_loss: 0.0192\n",
            "Epoch 205/500\n",
            "2/2 [==============================] - 0s 26ms/step - loss: 0.1024 - val_loss: 0.0193\n",
            "Epoch 206/500\n",
            "2/2 [==============================] - 0s 25ms/step - loss: 0.0879 - val_loss: 0.0190\n",
            "Epoch 207/500\n",
            "2/2 [==============================] - 0s 25ms/step - loss: 0.0995 - val_loss: 0.0183\n",
            "Epoch 208/500\n",
            "2/2 [==============================] - 0s 43ms/step - loss: 0.0478 - val_loss: 0.0173\n",
            "Epoch 209/500\n",
            "2/2 [==============================] - 0s 45ms/step - loss: 0.0751 - val_loss: 0.0162\n",
            "Epoch 210/500\n",
            "2/2 [==============================] - 0s 43ms/step - loss: 0.0696 - val_loss: 0.0152\n",
            "Epoch 211/500\n",
            "2/2 [==============================] - 0s 37ms/step - loss: 0.0886 - val_loss: 0.0146\n",
            "Epoch 212/500\n",
            "2/2 [==============================] - 0s 25ms/step - loss: 0.0842 - val_loss: 0.0140\n",
            "Epoch 213/500\n",
            "2/2 [==============================] - 0s 25ms/step - loss: 0.0721 - val_loss: 0.0138\n",
            "Epoch 214/500\n",
            "2/2 [==============================] - 0s 24ms/step - loss: 0.0732 - val_loss: 0.0138\n",
            "Epoch 215/500\n",
            "2/2 [==============================] - 0s 24ms/step - loss: 0.1062 - val_loss: 0.0140\n",
            "Epoch 216/500\n",
            "2/2 [==============================] - 0s 33ms/step - loss: 0.0856 - val_loss: 0.0148\n",
            "Epoch 217/500\n",
            "2/2 [==============================] - 0s 25ms/step - loss: 0.1036 - val_loss: 0.0154\n",
            "Epoch 218/500\n",
            "2/2 [==============================] - 0s 46ms/step - loss: 0.1284 - val_loss: 0.0156\n",
            "Epoch 219/500\n",
            "2/2 [==============================] - 0s 25ms/step - loss: 0.0896 - val_loss: 0.0159\n",
            "Epoch 220/500\n",
            "2/2 [==============================] - 0s 27ms/step - loss: 0.0877 - val_loss: 0.0167\n",
            "Epoch 221/500\n",
            "2/2 [==============================] - 0s 24ms/step - loss: 0.1522 - val_loss: 0.0176\n",
            "Epoch 222/500\n",
            "2/2 [==============================] - 0s 24ms/step - loss: 0.0782 - val_loss: 0.0189\n",
            "Epoch 223/500\n",
            "2/2 [==============================] - 0s 30ms/step - loss: 0.0778 - val_loss: 0.0192\n",
            "Epoch 224/500\n",
            "2/2 [==============================] - 0s 24ms/step - loss: 0.0498 - val_loss: 0.0194\n",
            "Epoch 225/500\n",
            "2/2 [==============================] - 0s 26ms/step - loss: 0.0868 - val_loss: 0.0193\n",
            "Epoch 226/500\n",
            "2/2 [==============================] - 0s 45ms/step - loss: 0.0540 - val_loss: 0.0192\n",
            "Epoch 227/500\n",
            "2/2 [==============================] - 0s 26ms/step - loss: 0.1275 - val_loss: 0.0188\n",
            "Epoch 228/500\n",
            "2/2 [==============================] - 0s 24ms/step - loss: 0.0984 - val_loss: 0.0180\n",
            "Epoch 229/500\n",
            "2/2 [==============================] - 0s 32ms/step - loss: 0.1188 - val_loss: 0.0168\n",
            "Epoch 230/500\n",
            "2/2 [==============================] - 0s 24ms/step - loss: 0.0582 - val_loss: 0.0157\n",
            "Epoch 231/500\n",
            "2/2 [==============================] - 0s 25ms/step - loss: 0.0965 - val_loss: 0.0145\n",
            "Epoch 232/500\n",
            "2/2 [==============================] - 0s 25ms/step - loss: 0.1601 - val_loss: 0.0133\n",
            "Epoch 233/500\n",
            "2/2 [==============================] - 0s 25ms/step - loss: 0.0995 - val_loss: 0.0122\n",
            "Epoch 234/500\n",
            "2/2 [==============================] - 0s 43ms/step - loss: 0.0748 - val_loss: 0.0113\n",
            "Epoch 235/500\n",
            "2/2 [==============================] - 0s 25ms/step - loss: 0.1053 - val_loss: 0.0110\n",
            "Epoch 236/500\n",
            "2/2 [==============================] - 0s 31ms/step - loss: 0.0924 - val_loss: 0.0113\n",
            "Epoch 237/500\n",
            "2/2 [==============================] - 0s 31ms/step - loss: 0.1177 - val_loss: 0.0115\n",
            "Epoch 238/500\n",
            "2/2 [==============================] - 0s 29ms/step - loss: 0.0533 - val_loss: 0.0114\n",
            "Epoch 239/500\n",
            "2/2 [==============================] - 0s 24ms/step - loss: 0.1348 - val_loss: 0.0114\n",
            "Epoch 240/500\n",
            "2/2 [==============================] - 0s 26ms/step - loss: 0.0509 - val_loss: 0.0114\n",
            "Epoch 241/500\n",
            "2/2 [==============================] - 0s 28ms/step - loss: 0.1663 - val_loss: 0.0112\n",
            "Epoch 242/500\n",
            "2/2 [==============================] - 0s 24ms/step - loss: 0.0663 - val_loss: 0.0114\n",
            "Epoch 243/500\n",
            "2/2 [==============================] - 0s 43ms/step - loss: 0.1194 - val_loss: 0.0115\n",
            "Epoch 244/500\n",
            "2/2 [==============================] - 0s 30ms/step - loss: 0.0766 - val_loss: 0.0117\n",
            "Epoch 245/500\n",
            "2/2 [==============================] - 0s 25ms/step - loss: 0.0578 - val_loss: 0.0118\n",
            "Epoch 246/500\n",
            "2/2 [==============================] - 0s 23ms/step - loss: 0.0445 - val_loss: 0.0119\n",
            "Epoch 247/500\n",
            "2/2 [==============================] - 0s 31ms/step - loss: 0.0704 - val_loss: 0.0123\n",
            "Epoch 248/500\n",
            "2/2 [==============================] - 0s 32ms/step - loss: 0.0859 - val_loss: 0.0131\n",
            "Epoch 249/500\n",
            "2/2 [==============================] - 0s 43ms/step - loss: 0.0581 - val_loss: 0.0137\n",
            "Epoch 250/500\n",
            "2/2 [==============================] - 0s 25ms/step - loss: 0.0740 - val_loss: 0.0146\n",
            "Epoch 251/500\n",
            "2/2 [==============================] - 0s 26ms/step - loss: 0.0642 - val_loss: 0.0154\n",
            "Epoch 252/500\n",
            "2/2 [==============================] - 0s 27ms/step - loss: 0.0799 - val_loss: 0.0163\n",
            "Epoch 253/500\n",
            "2/2 [==============================] - 0s 25ms/step - loss: 0.1542 - val_loss: 0.0166\n",
            "Epoch 254/500\n",
            "2/2 [==============================] - 0s 25ms/step - loss: 0.0675 - val_loss: 0.0167\n",
            "Epoch 255/500\n",
            "2/2 [==============================] - 0s 28ms/step - loss: 0.0518 - val_loss: 0.0165\n",
            "Epoch 256/500\n",
            "2/2 [==============================] - 0s 28ms/step - loss: 0.0816 - val_loss: 0.0163\n",
            "Epoch 257/500\n",
            "2/2 [==============================] - 0s 24ms/step - loss: 0.0709 - val_loss: 0.0158\n",
            "Epoch 258/500\n",
            "2/2 [==============================] - 0s 56ms/step - loss: 0.0631 - val_loss: 0.0153\n",
            "Epoch 259/500\n",
            "2/2 [==============================] - 0s 70ms/step - loss: 0.0760 - val_loss: 0.0153\n",
            "Epoch 260/500\n",
            "2/2 [==============================] - 0s 107ms/step - loss: 0.0841 - val_loss: 0.0152\n",
            "Epoch 261/500\n",
            "2/2 [==============================] - 0s 91ms/step - loss: 0.0801 - val_loss: 0.0150\n",
            "Epoch 262/500\n",
            "2/2 [==============================] - 0s 94ms/step - loss: 0.0514 - val_loss: 0.0148\n",
            "Epoch 263/500\n",
            "2/2 [==============================] - 0s 45ms/step - loss: 0.0482 - val_loss: 0.0145\n",
            "Epoch 264/500\n",
            "2/2 [==============================] - 0s 58ms/step - loss: 0.0498 - val_loss: 0.0142\n",
            "Epoch 265/500\n",
            "2/2 [==============================] - 0s 35ms/step - loss: 0.0925 - val_loss: 0.0139\n",
            "Epoch 266/500\n",
            "2/2 [==============================] - 0s 26ms/step - loss: 0.1194 - val_loss: 0.0133\n",
            "Epoch 267/500\n",
            "2/2 [==============================] - 0s 42ms/step - loss: 0.1443 - val_loss: 0.0129\n",
            "Epoch 268/500\n",
            "2/2 [==============================] - 0s 25ms/step - loss: 0.0606 - val_loss: 0.0127\n",
            "Epoch 269/500\n",
            "2/2 [==============================] - 0s 25ms/step - loss: 0.0643 - val_loss: 0.0131\n",
            "Epoch 270/500\n",
            "2/2 [==============================] - 0s 28ms/step - loss: 0.0553 - val_loss: 0.0132\n",
            "Epoch 271/500\n",
            "2/2 [==============================] - 0s 24ms/step - loss: 0.0622 - val_loss: 0.0134\n",
            "Epoch 272/500\n",
            "2/2 [==============================] - 0s 32ms/step - loss: 0.1167 - val_loss: 0.0138\n",
            "Epoch 273/500\n",
            "2/2 [==============================] - 0s 25ms/step - loss: 0.0898 - val_loss: 0.0142\n",
            "Epoch 274/500\n",
            "2/2 [==============================] - 0s 26ms/step - loss: 0.0627 - val_loss: 0.0145\n",
            "Epoch 275/500\n",
            "2/2 [==============================] - 0s 25ms/step - loss: 0.0823 - val_loss: 0.0151\n",
            "Epoch 276/500\n",
            "2/2 [==============================] - 0s 96ms/step - loss: 0.1200 - val_loss: 0.0155\n",
            "Epoch 277/500\n",
            "2/2 [==============================] - 0s 94ms/step - loss: 0.0674 - val_loss: 0.0157\n",
            "Epoch 278/500\n",
            "2/2 [==============================] - 0s 82ms/step - loss: 0.0922 - val_loss: 0.0161\n",
            "Epoch 279/500\n",
            "2/2 [==============================] - 0s 102ms/step - loss: 0.0566 - val_loss: 0.0167\n",
            "Epoch 280/500\n",
            "2/2 [==============================] - 0s 80ms/step - loss: 0.0636 - val_loss: 0.0170\n",
            "Epoch 281/500\n",
            "2/2 [==============================] - 0s 56ms/step - loss: 0.0627 - val_loss: 0.0171\n",
            "Epoch 282/500\n",
            "2/2 [==============================] - 0s 27ms/step - loss: 0.1299 - val_loss: 0.0162\n",
            "Epoch 283/500\n",
            "2/2 [==============================] - 0s 25ms/step - loss: 0.0693 - val_loss: 0.0153\n",
            "Epoch 284/500\n",
            "2/2 [==============================] - 0s 28ms/step - loss: 0.0763 - val_loss: 0.0149\n",
            "Epoch 285/500\n",
            "2/2 [==============================] - 0s 26ms/step - loss: 0.0781 - val_loss: 0.0148\n",
            "Epoch 286/500\n",
            "2/2 [==============================] - 0s 26ms/step - loss: 0.0897 - val_loss: 0.0152\n",
            "Epoch 287/500\n",
            "2/2 [==============================] - 0s 26ms/step - loss: 0.0580 - val_loss: 0.0155\n",
            "Epoch 288/500\n",
            "2/2 [==============================] - 0s 26ms/step - loss: 0.0805 - val_loss: 0.0158\n",
            "Epoch 289/500\n",
            "2/2 [==============================] - 0s 28ms/step - loss: 0.0594 - val_loss: 0.0157\n",
            "Epoch 290/500\n",
            "2/2 [==============================] - 0s 30ms/step - loss: 0.0612 - val_loss: 0.0155\n",
            "Epoch 291/500\n",
            "2/2 [==============================] - 0s 28ms/step - loss: 0.0407 - val_loss: 0.0154\n",
            "Epoch 292/500\n",
            "2/2 [==============================] - 0s 26ms/step - loss: 0.0843 - val_loss: 0.0153\n",
            "Epoch 293/500\n",
            "2/2 [==============================] - 0s 46ms/step - loss: 0.0443 - val_loss: 0.0152\n",
            "Epoch 294/500\n",
            "2/2 [==============================] - 0s 28ms/step - loss: 0.0566 - val_loss: 0.0151\n",
            "Epoch 295/500\n",
            "2/2 [==============================] - 0s 27ms/step - loss: 0.0695 - val_loss: 0.0148\n",
            "Epoch 296/500\n",
            "2/2 [==============================] - 0s 31ms/step - loss: 0.0471 - val_loss: 0.0145\n",
            "Epoch 297/500\n",
            "2/2 [==============================] - 0s 26ms/step - loss: 0.0901 - val_loss: 0.0142\n",
            "Epoch 298/500\n",
            "2/2 [==============================] - 0s 26ms/step - loss: 0.1001 - val_loss: 0.0140\n",
            "Epoch 299/500\n",
            "2/2 [==============================] - 0s 27ms/step - loss: 0.0317 - val_loss: 0.0136\n",
            "Epoch 300/500\n",
            "2/2 [==============================] - 0s 29ms/step - loss: 0.0655 - val_loss: 0.0131\n",
            "Epoch 301/500\n",
            "2/2 [==============================] - 0s 38ms/step - loss: 0.0813 - val_loss: 0.0126\n",
            "Epoch 302/500\n",
            "2/2 [==============================] - 0s 44ms/step - loss: 0.0716 - val_loss: 0.0119\n",
            "Epoch 303/500\n",
            "2/2 [==============================] - 0s 26ms/step - loss: 0.0522 - val_loss: 0.0115\n",
            "Epoch 304/500\n",
            "2/2 [==============================] - 0s 27ms/step - loss: 0.0553 - val_loss: 0.0114\n",
            "Epoch 305/500\n",
            "2/2 [==============================] - 0s 25ms/step - loss: 0.0383 - val_loss: 0.0115\n",
            "Epoch 306/500\n",
            "2/2 [==============================] - 0s 26ms/step - loss: 0.0957 - val_loss: 0.0111\n",
            "Epoch 307/500\n",
            "2/2 [==============================] - 0s 27ms/step - loss: 0.0724 - val_loss: 0.0109\n",
            "Epoch 308/500\n",
            "2/2 [==============================] - 0s 32ms/step - loss: 0.0732 - val_loss: 0.0109\n",
            "Epoch 309/500\n",
            "2/2 [==============================] - 0s 26ms/step - loss: 0.0864 - val_loss: 0.0108\n",
            "Epoch 310/500\n",
            "2/2 [==============================] - 0s 25ms/step - loss: 0.0391 - val_loss: 0.0106\n",
            "Epoch 311/500\n",
            "2/2 [==============================] - 0s 27ms/step - loss: 0.0525 - val_loss: 0.0109\n",
            "Epoch 312/500\n",
            "2/2 [==============================] - 0s 26ms/step - loss: 0.0568 - val_loss: 0.0116\n",
            "Epoch 313/500\n",
            "2/2 [==============================] - 0s 27ms/step - loss: 0.0504 - val_loss: 0.0121\n",
            "Epoch 314/500\n",
            "2/2 [==============================] - 0s 30ms/step - loss: 0.0888 - val_loss: 0.0127\n",
            "Epoch 315/500\n",
            "2/2 [==============================] - 0s 27ms/step - loss: 0.0719 - val_loss: 0.0134\n",
            "Epoch 316/500\n",
            "2/2 [==============================] - 0s 28ms/step - loss: 0.0823 - val_loss: 0.0140\n",
            "Epoch 317/500\n",
            "2/2 [==============================] - 0s 31ms/step - loss: 0.0736 - val_loss: 0.0144\n",
            "Epoch 318/500\n",
            "2/2 [==============================] - 0s 43ms/step - loss: 0.0369 - val_loss: 0.0147\n",
            "Epoch 319/500\n",
            "2/2 [==============================] - 0s 26ms/step - loss: 0.0547 - val_loss: 0.0146\n",
            "Epoch 320/500\n",
            "2/2 [==============================] - 0s 28ms/step - loss: 0.0326 - val_loss: 0.0148\n",
            "Epoch 321/500\n",
            "2/2 [==============================] - 0s 33ms/step - loss: 0.0617 - val_loss: 0.0151\n",
            "Epoch 322/500\n",
            "2/2 [==============================] - 0s 27ms/step - loss: 0.0436 - val_loss: 0.0154\n",
            "Epoch 323/500\n",
            "2/2 [==============================] - 0s 30ms/step - loss: 0.0600 - val_loss: 0.0163\n",
            "Epoch 324/500\n",
            "2/2 [==============================] - 0s 31ms/step - loss: 0.0284 - val_loss: 0.0170\n",
            "Epoch 325/500\n",
            "2/2 [==============================] - 0s 26ms/step - loss: 0.0398 - val_loss: 0.0175\n",
            "Epoch 326/500\n",
            "2/2 [==============================] - 0s 25ms/step - loss: 0.0451 - val_loss: 0.0177\n",
            "Epoch 327/500\n",
            "2/2 [==============================] - 0s 26ms/step - loss: 0.0939 - val_loss: 0.0182\n",
            "Epoch 328/500\n",
            "2/2 [==============================] - 0s 25ms/step - loss: 0.0606 - val_loss: 0.0181\n",
            "Epoch 329/500\n",
            "2/2 [==============================] - 0s 31ms/step - loss: 0.0721 - val_loss: 0.0179\n",
            "Epoch 330/500\n",
            "2/2 [==============================] - 0s 26ms/step - loss: 0.0742 - val_loss: 0.0171\n",
            "Epoch 331/500\n",
            "2/2 [==============================] - 0s 29ms/step - loss: 0.0847 - val_loss: 0.0164\n",
            "Epoch 332/500\n",
            "2/2 [==============================] - 0s 27ms/step - loss: 0.0401 - val_loss: 0.0160\n",
            "Epoch 333/500\n",
            "2/2 [==============================] - 0s 25ms/step - loss: 0.0787 - val_loss: 0.0163\n",
            "Epoch 334/500\n",
            "2/2 [==============================] - 0s 27ms/step - loss: 0.0289 - val_loss: 0.0163\n",
            "Epoch 335/500\n",
            "2/2 [==============================] - 0s 26ms/step - loss: 0.0597 - val_loss: 0.0162\n",
            "Epoch 336/500\n",
            "2/2 [==============================] - 0s 29ms/step - loss: 0.0457 - val_loss: 0.0156\n",
            "Epoch 337/500\n",
            "2/2 [==============================] - 0s 25ms/step - loss: 0.0843 - val_loss: 0.0148\n",
            "Epoch 338/500\n",
            "2/2 [==============================] - 0s 25ms/step - loss: 0.0826 - val_loss: 0.0139\n",
            "Epoch 339/500\n",
            "2/2 [==============================] - 0s 25ms/step - loss: 0.0550 - val_loss: 0.0130\n",
            "Epoch 340/500\n",
            "2/2 [==============================] - 0s 25ms/step - loss: 0.0683 - val_loss: 0.0123\n",
            "Epoch 341/500\n",
            "2/2 [==============================] - 0s 50ms/step - loss: 0.0727 - val_loss: 0.0116\n",
            "Epoch 342/500\n",
            "2/2 [==============================] - 0s 26ms/step - loss: 0.0520 - val_loss: 0.0111\n",
            "Epoch 343/500\n",
            "2/2 [==============================] - 0s 27ms/step - loss: 0.0442 - val_loss: 0.0110\n",
            "Epoch 344/500\n",
            "2/2 [==============================] - 0s 32ms/step - loss: 0.0755 - val_loss: 0.0110\n",
            "Epoch 345/500\n",
            "2/2 [==============================] - 0s 33ms/step - loss: 0.0631 - val_loss: 0.0108\n",
            "Epoch 346/500\n",
            "2/2 [==============================] - 0s 42ms/step - loss: 0.0394 - val_loss: 0.0106\n",
            "Epoch 347/500\n",
            "2/2 [==============================] - 0s 26ms/step - loss: 0.0534 - val_loss: 0.0106\n",
            "Epoch 348/500\n",
            "2/2 [==============================] - 0s 48ms/step - loss: 0.0570 - val_loss: 0.0108\n",
            "Epoch 349/500\n",
            "2/2 [==============================] - 0s 26ms/step - loss: 0.0650 - val_loss: 0.0109\n",
            "Epoch 350/500\n",
            "2/2 [==============================] - 0s 32ms/step - loss: 0.0577 - val_loss: 0.0110\n",
            "Epoch 351/500\n",
            "2/2 [==============================] - 0s 25ms/step - loss: 0.0710 - val_loss: 0.0111\n",
            "Epoch 352/500\n",
            "2/2 [==============================] - 0s 25ms/step - loss: 0.0395 - val_loss: 0.0112\n",
            "Epoch 353/500\n",
            "2/2 [==============================] - 0s 40ms/step - loss: 0.0514 - val_loss: 0.0112\n",
            "Epoch 354/500\n",
            "2/2 [==============================] - 0s 54ms/step - loss: 0.0460 - val_loss: 0.0115\n",
            "Epoch 355/500\n",
            "2/2 [==============================] - 0s 73ms/step - loss: 0.0702 - val_loss: 0.0118\n",
            "Epoch 356/500\n",
            "2/2 [==============================] - 0s 40ms/step - loss: 0.0385 - val_loss: 0.0125\n",
            "Epoch 357/500\n",
            "2/2 [==============================] - 0s 52ms/step - loss: 0.0694 - val_loss: 0.0134\n",
            "Epoch 358/500\n",
            "2/2 [==============================] - 0s 55ms/step - loss: 0.0469 - val_loss: 0.0141\n",
            "Epoch 359/500\n",
            "2/2 [==============================] - 0s 63ms/step - loss: 0.0548 - val_loss: 0.0148\n",
            "Epoch 360/500\n",
            "2/2 [==============================] - 0s 52ms/step - loss: 0.0525 - val_loss: 0.0154\n",
            "Epoch 361/500\n",
            "2/2 [==============================] - 0s 92ms/step - loss: 0.0381 - val_loss: 0.0158\n",
            "Epoch 362/500\n",
            "2/2 [==============================] - 0s 38ms/step - loss: 0.0587 - val_loss: 0.0162\n",
            "Epoch 363/500\n",
            "2/2 [==============================] - 0s 36ms/step - loss: 0.0445 - val_loss: 0.0166\n",
            "Epoch 364/500\n",
            "2/2 [==============================] - 0s 26ms/step - loss: 0.0337 - val_loss: 0.0167\n",
            "Epoch 365/500\n",
            "2/2 [==============================] - 0s 26ms/step - loss: 0.0474 - val_loss: 0.0170\n",
            "Epoch 366/500\n",
            "2/2 [==============================] - 0s 25ms/step - loss: 0.0562 - val_loss: 0.0176\n",
            "Epoch 367/500\n",
            "2/2 [==============================] - 0s 25ms/step - loss: 0.0766 - val_loss: 0.0178\n",
            "Epoch 368/500\n",
            "2/2 [==============================] - 0s 26ms/step - loss: 0.0581 - val_loss: 0.0174\n",
            "Epoch 369/500\n",
            "2/2 [==============================] - 0s 27ms/step - loss: 0.0339 - val_loss: 0.0168\n",
            "Epoch 370/500\n",
            "2/2 [==============================] - 0s 27ms/step - loss: 0.0698 - val_loss: 0.0162\n",
            "Epoch 371/500\n",
            "2/2 [==============================] - 0s 25ms/step - loss: 0.0363 - val_loss: 0.0155\n",
            "Epoch 372/500\n",
            "2/2 [==============================] - 0s 44ms/step - loss: 0.0648 - val_loss: 0.0149\n",
            "Epoch 373/500\n",
            "2/2 [==============================] - 0s 29ms/step - loss: 0.0576 - val_loss: 0.0143\n",
            "Epoch 374/500\n",
            "2/2 [==============================] - 0s 26ms/step - loss: 0.0500 - val_loss: 0.0137\n",
            "Epoch 375/500\n",
            "2/2 [==============================] - 0s 28ms/step - loss: 0.0513 - val_loss: 0.0132\n",
            "Epoch 376/500\n",
            "2/2 [==============================] - 0s 25ms/step - loss: 0.0487 - val_loss: 0.0126\n",
            "Epoch 377/500\n",
            "2/2 [==============================] - 0s 27ms/step - loss: 0.0493 - val_loss: 0.0121\n",
            "Epoch 378/500\n",
            "2/2 [==============================] - 0s 29ms/step - loss: 0.0405 - val_loss: 0.0116\n",
            "Epoch 379/500\n",
            "2/2 [==============================] - 0s 46ms/step - loss: 0.0403 - val_loss: 0.0110\n",
            "Epoch 380/500\n",
            "2/2 [==============================] - 0s 26ms/step - loss: 0.0374 - val_loss: 0.0106\n",
            "Epoch 381/500\n",
            "2/2 [==============================] - 0s 29ms/step - loss: 0.0837 - val_loss: 0.0105\n",
            "Epoch 382/500\n",
            "2/2 [==============================] - 0s 27ms/step - loss: 0.0594 - val_loss: 0.0109\n",
            "Epoch 383/500\n",
            "2/2 [==============================] - 0s 27ms/step - loss: 0.0289 - val_loss: 0.0112\n",
            "Epoch 384/500\n",
            "2/2 [==============================] - 0s 27ms/step - loss: 0.0476 - val_loss: 0.0115\n",
            "Epoch 385/500\n",
            "2/2 [==============================] - 0s 27ms/step - loss: 0.0561 - val_loss: 0.0116\n",
            "Epoch 386/500\n",
            "2/2 [==============================] - 0s 30ms/step - loss: 0.0516 - val_loss: 0.0118\n",
            "Epoch 387/500\n",
            "2/2 [==============================] - 0s 30ms/step - loss: 0.0418 - val_loss: 0.0119\n",
            "Epoch 388/500\n",
            "2/2 [==============================] - 0s 31ms/step - loss: 0.0814 - val_loss: 0.0117\n",
            "Epoch 389/500\n",
            "2/2 [==============================] - 0s 45ms/step - loss: 0.0419 - val_loss: 0.0118\n",
            "Epoch 390/500\n",
            "2/2 [==============================] - 0s 25ms/step - loss: 0.0303 - val_loss: 0.0121\n",
            "Epoch 391/500\n",
            "2/2 [==============================] - 0s 27ms/step - loss: 0.0469 - val_loss: 0.0123\n",
            "Epoch 392/500\n",
            "2/2 [==============================] - 0s 26ms/step - loss: 0.0511 - val_loss: 0.0123\n",
            "Epoch 393/500\n",
            "2/2 [==============================] - 0s 25ms/step - loss: 0.0547 - val_loss: 0.0122\n",
            "Epoch 394/500\n",
            "2/2 [==============================] - 0s 25ms/step - loss: 0.0499 - val_loss: 0.0122\n",
            "Epoch 395/500\n",
            "2/2 [==============================] - 0s 31ms/step - loss: 0.0346 - val_loss: 0.0122\n",
            "Epoch 396/500\n",
            "2/2 [==============================] - 0s 27ms/step - loss: 0.0722 - val_loss: 0.0123\n",
            "Epoch 397/500\n",
            "2/2 [==============================] - 0s 28ms/step - loss: 0.0386 - val_loss: 0.0125\n",
            "Epoch 398/500\n",
            "2/2 [==============================] - 0s 27ms/step - loss: 0.0432 - val_loss: 0.0128\n",
            "Epoch 399/500\n",
            "2/2 [==============================] - 0s 25ms/step - loss: 0.0555 - val_loss: 0.0130\n",
            "Epoch 400/500\n",
            "2/2 [==============================] - 0s 26ms/step - loss: 0.0546 - val_loss: 0.0134\n",
            "Epoch 401/500\n",
            "2/2 [==============================] - 0s 26ms/step - loss: 0.0353 - val_loss: 0.0137\n",
            "Epoch 402/500\n",
            "2/2 [==============================] - 0s 25ms/step - loss: 0.0406 - val_loss: 0.0136\n",
            "Epoch 403/500\n",
            "2/2 [==============================] - 0s 28ms/step - loss: 0.0218 - val_loss: 0.0134\n",
            "Epoch 404/500\n",
            "2/2 [==============================] - 0s 31ms/step - loss: 0.0646 - val_loss: 0.0133\n",
            "Epoch 405/500\n",
            "2/2 [==============================] - 0s 26ms/step - loss: 0.0539 - val_loss: 0.0131\n",
            "Epoch 406/500\n",
            "2/2 [==============================] - 0s 33ms/step - loss: 0.0616 - val_loss: 0.0125\n",
            "Epoch 407/500\n",
            "2/2 [==============================] - 0s 26ms/step - loss: 0.0760 - val_loss: 0.0121\n",
            "Epoch 408/500\n",
            "2/2 [==============================] - 0s 28ms/step - loss: 0.0450 - val_loss: 0.0119\n",
            "Epoch 409/500\n",
            "2/2 [==============================] - 0s 40ms/step - loss: 0.0350 - val_loss: 0.0117\n",
            "Epoch 410/500\n",
            "2/2 [==============================] - 0s 43ms/step - loss: 0.0347 - val_loss: 0.0117\n",
            "Epoch 411/500\n",
            "2/2 [==============================] - 0s 34ms/step - loss: 0.0519 - val_loss: 0.0117\n",
            "Epoch 412/500\n",
            "2/2 [==============================] - 0s 27ms/step - loss: 0.0703 - val_loss: 0.0115\n",
            "Epoch 413/500\n",
            "2/2 [==============================] - 0s 27ms/step - loss: 0.0411 - val_loss: 0.0117\n",
            "Epoch 414/500\n",
            "2/2 [==============================] - 0s 26ms/step - loss: 0.0349 - val_loss: 0.0119\n",
            "Epoch 415/500\n",
            "2/2 [==============================] - 0s 28ms/step - loss: 0.0421 - val_loss: 0.0120\n",
            "Epoch 416/500\n",
            "2/2 [==============================] - 0s 28ms/step - loss: 0.0509 - val_loss: 0.0116\n",
            "Epoch 417/500\n",
            "2/2 [==============================] - 0s 30ms/step - loss: 0.0514 - val_loss: 0.0116\n",
            "Epoch 418/500\n",
            "2/2 [==============================] - 0s 24ms/step - loss: 0.0481 - val_loss: 0.0117\n",
            "Epoch 419/500\n",
            "2/2 [==============================] - 0s 27ms/step - loss: 0.0492 - val_loss: 0.0116\n",
            "Epoch 420/500\n",
            "2/2 [==============================] - 0s 24ms/step - loss: 0.0496 - val_loss: 0.0112\n",
            "Epoch 421/500\n",
            "2/2 [==============================] - 0s 46ms/step - loss: 0.0485 - val_loss: 0.0110\n",
            "Epoch 422/500\n",
            "2/2 [==============================] - 0s 30ms/step - loss: 0.0606 - val_loss: 0.0107\n",
            "Epoch 423/500\n",
            "2/2 [==============================] - 0s 29ms/step - loss: 0.0239 - val_loss: 0.0103\n",
            "Epoch 424/500\n",
            "2/2 [==============================] - 0s 30ms/step - loss: 0.0425 - val_loss: 0.0101\n",
            "Epoch 425/500\n",
            "2/2 [==============================] - 0s 47ms/step - loss: 0.0448 - val_loss: 0.0106\n",
            "Epoch 426/500\n",
            "2/2 [==============================] - 0s 29ms/step - loss: 0.0541 - val_loss: 0.0109\n",
            "Epoch 427/500\n",
            "2/2 [==============================] - 0s 27ms/step - loss: 0.0281 - val_loss: 0.0110\n",
            "Epoch 428/500\n",
            "2/2 [==============================] - 0s 29ms/step - loss: 0.0355 - val_loss: 0.0111\n",
            "Epoch 429/500\n",
            "2/2 [==============================] - 0s 28ms/step - loss: 0.0440 - val_loss: 0.0111\n",
            "Epoch 430/500\n",
            "2/2 [==============================] - 0s 26ms/step - loss: 0.0406 - val_loss: 0.0113\n",
            "Epoch 431/500\n",
            "2/2 [==============================] - 0s 34ms/step - loss: 0.0348 - val_loss: 0.0114\n",
            "Epoch 432/500\n",
            "2/2 [==============================] - 0s 28ms/step - loss: 0.0515 - val_loss: 0.0117\n",
            "Epoch 433/500\n",
            "2/2 [==============================] - 0s 27ms/step - loss: 0.0303 - val_loss: 0.0118\n",
            "Epoch 434/500\n",
            "2/2 [==============================] - 0s 26ms/step - loss: 0.0361 - val_loss: 0.0119\n",
            "Epoch 435/500\n",
            "2/2 [==============================] - 0s 32ms/step - loss: 0.0621 - val_loss: 0.0120\n",
            "Epoch 436/500\n",
            "2/2 [==============================] - 0s 35ms/step - loss: 0.0416 - val_loss: 0.0120\n",
            "Epoch 437/500\n",
            "2/2 [==============================] - 0s 29ms/step - loss: 0.0501 - val_loss: 0.0119\n",
            "Epoch 438/500\n",
            "2/2 [==============================] - 0s 28ms/step - loss: 0.0316 - val_loss: 0.0119\n",
            "Epoch 439/500\n",
            "2/2 [==============================] - 0s 26ms/step - loss: 0.0588 - val_loss: 0.0118\n",
            "Epoch 440/500\n",
            "2/2 [==============================] - 0s 47ms/step - loss: 0.0381 - val_loss: 0.0117\n",
            "Epoch 441/500\n",
            "2/2 [==============================] - 0s 29ms/step - loss: 0.0393 - val_loss: 0.0117\n",
            "Epoch 442/500\n",
            "2/2 [==============================] - 0s 28ms/step - loss: 0.0369 - val_loss: 0.0115\n",
            "Epoch 443/500\n",
            "2/2 [==============================] - 0s 28ms/step - loss: 0.0408 - val_loss: 0.0114\n",
            "Epoch 444/500\n",
            "2/2 [==============================] - 0s 27ms/step - loss: 0.0615 - val_loss: 0.0115\n",
            "Epoch 445/500\n",
            "2/2 [==============================] - 0s 30ms/step - loss: 0.0393 - val_loss: 0.0116\n",
            "Epoch 446/500\n",
            "2/2 [==============================] - 0s 45ms/step - loss: 0.0366 - val_loss: 0.0116\n",
            "Epoch 447/500\n",
            "2/2 [==============================] - 0s 29ms/step - loss: 0.0349 - val_loss: 0.0117\n",
            "Epoch 448/500\n",
            "2/2 [==============================] - 0s 29ms/step - loss: 0.0470 - val_loss: 0.0119\n",
            "Epoch 449/500\n",
            "2/2 [==============================] - 0s 26ms/step - loss: 0.0350 - val_loss: 0.0121\n",
            "Epoch 450/500\n",
            "2/2 [==============================] - 0s 27ms/step - loss: 0.0321 - val_loss: 0.0124\n",
            "Epoch 451/500\n",
            "2/2 [==============================] - 0s 25ms/step - loss: 0.0335 - val_loss: 0.0127\n",
            "Epoch 452/500\n",
            "2/2 [==============================] - 0s 26ms/step - loss: 0.0454 - val_loss: 0.0127\n",
            "Epoch 453/500\n",
            "2/2 [==============================] - 0s 34ms/step - loss: 0.0371 - val_loss: 0.0128\n",
            "Epoch 454/500\n",
            "2/2 [==============================] - 0s 32ms/step - loss: 0.0609 - val_loss: 0.0127\n",
            "Epoch 455/500\n",
            "2/2 [==============================] - 0s 30ms/step - loss: 0.0463 - val_loss: 0.0124\n",
            "Epoch 456/500\n",
            "2/2 [==============================] - 0s 46ms/step - loss: 0.0619 - val_loss: 0.0122\n",
            "Epoch 457/500\n",
            "2/2 [==============================] - 0s 28ms/step - loss: 0.0288 - val_loss: 0.0118\n",
            "Epoch 458/500\n",
            "2/2 [==============================] - 0s 26ms/step - loss: 0.0222 - val_loss: 0.0114\n",
            "Epoch 459/500\n",
            "2/2 [==============================] - 0s 30ms/step - loss: 0.0465 - val_loss: 0.0112\n",
            "Epoch 460/500\n",
            "2/2 [==============================] - 0s 27ms/step - loss: 0.0380 - val_loss: 0.0110\n",
            "Epoch 461/500\n",
            "2/2 [==============================] - 0s 26ms/step - loss: 0.0515 - val_loss: 0.0109\n",
            "Epoch 462/500\n",
            "2/2 [==============================] - 0s 46ms/step - loss: 0.0273 - val_loss: 0.0109\n",
            "Epoch 463/500\n",
            "2/2 [==============================] - 0s 26ms/step - loss: 0.0574 - val_loss: 0.0107\n",
            "Epoch 464/500\n",
            "2/2 [==============================] - 0s 28ms/step - loss: 0.0310 - val_loss: 0.0104\n",
            "Epoch 465/500\n",
            "2/2 [==============================] - 0s 26ms/step - loss: 0.0327 - val_loss: 0.0104\n",
            "Epoch 466/500\n",
            "2/2 [==============================] - 0s 29ms/step - loss: 0.0275 - val_loss: 0.0105\n",
            "Epoch 467/500\n",
            "2/2 [==============================] - 0s 33ms/step - loss: 0.0522 - val_loss: 0.0107\n",
            "Epoch 468/500\n",
            "2/2 [==============================] - 0s 27ms/step - loss: 0.0363 - val_loss: 0.0109\n",
            "Epoch 469/500\n",
            "2/2 [==============================] - 0s 30ms/step - loss: 0.0350 - val_loss: 0.0113\n",
            "Epoch 470/500\n",
            "2/2 [==============================] - 0s 27ms/step - loss: 0.0533 - val_loss: 0.0118\n",
            "Epoch 471/500\n",
            "2/2 [==============================] - 0s 26ms/step - loss: 0.0469 - val_loss: 0.0121\n",
            "Epoch 472/500\n",
            "2/2 [==============================] - 0s 26ms/step - loss: 0.0346 - val_loss: 0.0122\n",
            "Epoch 473/500\n",
            "2/2 [==============================] - 0s 28ms/step - loss: 0.0432 - val_loss: 0.0122\n",
            "Epoch 474/500\n",
            "2/2 [==============================] - 0s 46ms/step - loss: 0.0357 - val_loss: 0.0120\n",
            "Epoch 475/500\n",
            "2/2 [==============================] - 0s 31ms/step - loss: 0.0335 - val_loss: 0.0117\n",
            "Epoch 476/500\n",
            "2/2 [==============================] - 0s 27ms/step - loss: 0.0347 - val_loss: 0.0110\n",
            "Epoch 477/500\n",
            "2/2 [==============================] - 0s 25ms/step - loss: 0.0307 - val_loss: 0.0104\n",
            "Epoch 478/500\n",
            "2/2 [==============================] - 0s 24ms/step - loss: 0.0362 - val_loss: 0.0101\n",
            "Epoch 479/500\n",
            "2/2 [==============================] - 0s 26ms/step - loss: 0.0354 - val_loss: 0.0101\n",
            "Epoch 480/500\n",
            "2/2 [==============================] - 0s 45ms/step - loss: 0.0276 - val_loss: 0.0103\n",
            "Epoch 481/500\n",
            "2/2 [==============================] - 0s 32ms/step - loss: 0.0309 - val_loss: 0.0106\n",
            "Epoch 482/500\n",
            "2/2 [==============================] - 0s 25ms/step - loss: 0.0402 - val_loss: 0.0109\n",
            "Epoch 483/500\n",
            "2/2 [==============================] - 0s 28ms/step - loss: 0.0416 - val_loss: 0.0113\n",
            "Epoch 484/500\n",
            "2/2 [==============================] - 0s 27ms/step - loss: 0.0407 - val_loss: 0.0115\n",
            "Epoch 485/500\n",
            "2/2 [==============================] - 0s 28ms/step - loss: 0.0328 - val_loss: 0.0117\n",
            "Epoch 486/500\n",
            "2/2 [==============================] - 0s 27ms/step - loss: 0.0516 - val_loss: 0.0118\n",
            "Epoch 487/500\n",
            "2/2 [==============================] - 0s 47ms/step - loss: 0.0415 - val_loss: 0.0117\n",
            "Epoch 488/500\n",
            "2/2 [==============================] - 0s 30ms/step - loss: 0.0464 - val_loss: 0.0113\n",
            "Epoch 489/500\n",
            "2/2 [==============================] - 0s 30ms/step - loss: 0.0345 - val_loss: 0.0109\n",
            "Epoch 490/500\n",
            "2/2 [==============================] - 0s 31ms/step - loss: 0.0266 - val_loss: 0.0106\n",
            "Epoch 491/500\n",
            "2/2 [==============================] - 0s 30ms/step - loss: 0.0291 - val_loss: 0.0104\n",
            "Epoch 492/500\n",
            "2/2 [==============================] - 0s 29ms/step - loss: 0.0440 - val_loss: 0.0101\n",
            "Epoch 493/500\n",
            "2/2 [==============================] - 0s 43ms/step - loss: 0.0404 - val_loss: 0.0101\n",
            "Epoch 494/500\n",
            "2/2 [==============================] - 0s 30ms/step - loss: 0.0382 - val_loss: 0.0104\n",
            "Epoch 495/500\n",
            "2/2 [==============================] - 0s 26ms/step - loss: 0.0247 - val_loss: 0.0108\n",
            "Epoch 496/500\n",
            "2/2 [==============================] - 0s 36ms/step - loss: 0.0419 - val_loss: 0.0110\n",
            "Epoch 497/500\n",
            "2/2 [==============================] - 0s 25ms/step - loss: 0.0382 - val_loss: 0.0114\n",
            "Epoch 498/500\n",
            "2/2 [==============================] - 0s 27ms/step - loss: 0.0333 - val_loss: 0.0120\n",
            "Epoch 499/500\n",
            "2/2 [==============================] - 0s 45ms/step - loss: 0.0429 - val_loss: 0.0124\n",
            "Epoch 500/500\n",
            "2/2 [==============================] - 0s 25ms/step - loss: 0.0503 - val_loss: 0.0131\n"
          ]
        }
      ],
      "source": [
        "model = Sequential()\n",
        "model.add(Dense(32, activation=\"relu\"))\n",
        "model.add(BatchNormalization())\n",
        "model.add(Dropout(0.25))\n",
        "model.add(Dense(16, activation=\"relu\"))\n",
        "model.add(BatchNormalization())\n",
        "model.add(Dropout(0.2))\n",
        "model.add(Dense(8,activation=\"linear\"))\n",
        "model.add(BatchNormalization())\n",
        "model.add(Dropout(0.05))\n",
        "model.add(Dense(4,activation=\"linear\"))\n",
        "model.add(Dense(1, activation=\"linear\"))\n",
        "\n",
        "\n",
        "callbacks = [\n",
        "    keras.callbacks.ModelCheckpoint(\"QA_compressed.h5\", save_best_only=True),\n",
        "\t\tkeras.callbacks.EarlyStopping(monitor='val_loss', patience=30)\n",
        "]\n",
        "\n",
        "opt = Adam(learning_rate=1e-3, decay=1e-3 / 200)\n",
        "model.compile(loss=\"mean_squared_error\", optimizer=opt)\n",
        "\n",
        "history = model.fit(x=x_train, y=y_train, \n",
        "\tvalidation_data=(x_valid, y_valid),\n",
        "\tepochs=500, \n",
        "\tbatch_size=64)"
      ]
    },
    {
      "cell_type": "markdown",
      "metadata": {
        "id": "4DbUiCxdRNC0"
      },
      "source": [
        "## Plot"
      ]
    },
    {
      "cell_type": "code",
      "execution_count": 1013,
      "metadata": {
        "id": "kXN3pDBpROOy"
      },
      "outputs": [],
      "source": [
        "def plot_diagrams_trian_process(history):\n",
        "    plt.xlabel('Epoch')\n",
        "    plt.ylabel('Loss')\n",
        "    plt.plot(history['loss'])\n",
        "    plt.plot(history['val_loss'])\n",
        "    plt.legend(['loss','val_loss'])"
      ]
    },
    {
      "cell_type": "code",
      "execution_count": 1014,
      "metadata": {
        "colab": {
          "base_uri": "https://localhost:8080/",
          "height": 279
        },
        "id": "mUsvxo1KRPJR",
        "outputId": "dd56aa80-5250-43de-ca44-0fff96f1d6ee"
      },
      "outputs": [
        {
          "output_type": "display_data",
          "data": {
            "text/plain": [
              "<Figure size 432x288 with 1 Axes>"
            ],
            "image/png": "[encoded data removed]"
          },
          "metadata": {
            "needs_background": "light"
          }
        }
      ],
      "source": [
        "plot_diagrams_trian_process(history.history)"
      ]
    },
    {
      "cell_type": "markdown",
      "source": [
        "##Predict"
      ],
      "metadata": {
        "id": "JAvcO71TEfsr"
      }
    },
    {
      "cell_type": "code",
      "source": [
        "y_test_predict = model.predict(x_test)\n",
        "y_test_predict *= max_y"
      ],
      "metadata": {
        "id": "Y89vL7ThEhD6"
      },
      "execution_count": 1015,
      "outputs": []
    },
    {
      "cell_type": "code",
      "source": [
        "y_test_orig = y_test * max_y"
      ],
      "metadata": {
        "id": "z1EM8MSlFay0"
      },
      "execution_count": 1016,
      "outputs": []
    },
    {
      "cell_type": "code",
      "source": [
        "plt.plot(y_test_predict, label = 'predicted test' ,color = 'red')\n",
        "plt.plot(y_test_orig, label = 'original test' ,color = 'blue')\n",
        "plt.legend()"
      ],
      "metadata": {
        "colab": {
          "base_uri": "https://localhost:8080/",
          "height": 282
        },
        "id": "JbuLQpDnFId0",
        "outputId": "05f891db-cf88-4cd8-8857-7558b5219d11"
      },
      "execution_count": 1017,
      "outputs": [
        {
          "output_type": "execute_result",
          "data": {
            "text/plain": [
              "<matplotlib.legend.Legend at 0x7f8cd2d49650>"
            ]
          },
          "metadata": {},
          "execution_count": 1017
        },
        {
          "output_type": "display_data",
          "data": {
            "text/plain": [
              "<Figure size 432x288 with 1 Axes>"
            ],
            "image/png": "[encoded data removed]"
          },
          "metadata": {
            "needs_background": "light"
          }
        }
      ]
    },
    {
      "cell_type": "markdown",
      "source": [
        "## Spearman correlation"
      ],
      "metadata": {
        "id": "nxdJWLwQ5HF4"
      }
    },
    {
      "cell_type": "code",
      "source": [
        "np.squeeze(y_test_predict, axis=1).shape"
      ],
      "metadata": {
        "colab": {
          "base_uri": "https://localhost:8080/"
        },
        "id": "tCJ1EjiX32UY",
        "outputId": "073f8ef7-1afd-4b0d-9f64-1723177b8b8a"
      },
      "execution_count": 1018,
      "outputs": [
        {
          "output_type": "execute_result",
          "data": {
            "text/plain": [
              "(30,)"
            ]
          },
          "metadata": {},
          "execution_count": 1018
        }
      ]
    },
    {
      "cell_type": "code",
      "source": [
        "np.corrcoef(y_test_orig, np.squeeze(y_test_predict, axis=1))"
      ],
      "metadata": {
        "colab": {
          "base_uri": "https://localhost:8080/"
        },
        "id": "JjzAveZz3DbW",
        "outputId": "434090c9-441d-4d80-db1d-2b4bb1044919"
      },
      "execution_count": 1019,
      "outputs": [
        {
          "output_type": "execute_result",
          "data": {
            "text/plain": [
              "array([[1.        , 0.17384482],\n",
              "       [0.17384482, 1.        ]])"
            ]
          },
          "metadata": {},
          "execution_count": 1019
        }
      ]
    },
    {
      "cell_type": "code",
      "source": [
        "from scipy import stats\n",
        "rho, pval = stats.spearmanr(np.squeeze(y_test_predict, axis=1), y_test_orig)"
      ],
      "metadata": {
        "id": "189R_tKEc1ST"
      },
      "execution_count": 1020,
      "outputs": []
    },
    {
      "cell_type": "code",
      "source": [
        "rho"
      ],
      "metadata": {
        "colab": {
          "base_uri": "https://localhost:8080/"
        },
        "id": "p-fuXoMG5eO1",
        "outputId": "cbc9c34b-ede7-4af0-a7d2-34a442190fed"
      },
      "execution_count": 1021,
      "outputs": [
        {
          "output_type": "execute_result",
          "data": {
            "text/plain": [
              "0.21690767519466073"
            ]
          },
          "metadata": {},
          "execution_count": 1021
        }
      ]
    },
    {
      "cell_type": "markdown",
      "source": [
        "## Train Data evaluation"
      ],
      "metadata": {
        "id": "sItzZBFZ5XEG"
      }
    },
    {
      "cell_type": "code",
      "source": [
        "y_train_predict = model.predict(x_train)\n",
        "y_train_predict *= max_y\n",
        "y_train_orig = y_train * max_y"
      ],
      "metadata": {
        "id": "owQr7MKBdEmZ"
      },
      "execution_count": 1022,
      "outputs": []
    },
    {
      "cell_type": "code",
      "source": [
        "plt.plot(y_train_predict, label = 'predicted train' ,color = 'red')\n",
        "plt.plot(y_train_orig, label = 'original train' ,color = 'blue')\n",
        "plt.legend()"
      ],
      "metadata": {
        "colab": {
          "base_uri": "https://localhost:8080/",
          "height": 282
        },
        "id": "hKFFJfXlgUTx",
        "outputId": "6c94f617-9500-474d-9a31-d7908fdf1bcf"
      },
      "execution_count": 1023,
      "outputs": [
        {
          "output_type": "execute_result",
          "data": {
            "text/plain": [
              "<matplotlib.legend.Legend at 0x7f8cc35c2c10>"
            ]
          },
          "metadata": {},
          "execution_count": 1023
        },
        {
          "output_type": "display_data",
          "data": {
            "text/plain": [
              "<Figure size 432x288 with 1 Axes>"
            ],
            "image/png": "[encoded data removed]"
          },
          "metadata": {
            "needs_background": "light"
          }
        }
      ]
    }
  ],
  "metadata": {
    "colab": {
      "name": "QA_compressed_domain.ipynb",
      "provenance": [],
      "collapsed_sections": [],
      "include_colab_link": true
    },
    "gpuClass": "standard",
    "kernelspec": {
      "display_name": "Python 3",
      "name": "python3"
    },
    "language_info": {
      "name": "python"
    },
    "accelerator": "GPU"
  },
  "nbformat": 4,
  "nbformat_minor": 0
}