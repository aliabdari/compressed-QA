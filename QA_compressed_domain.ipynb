{
  "nbformat": 4,
  "nbformat_minor": 0,
  "metadata": {
    "colab": {
      "name": "QA_compressed_domain.ipynb",
      "provenance": [],
      "include_colab_link": true
    },
    "kernelspec": {
      "name": "python3",
      "display_name": "Python 3"
    },
    "language_info": {
      "name": "python"
    },
    "gpuClass": "standard"
  },
  "cells": [
    {
      "cell_type": "markdown",
      "metadata": {
        "id": "view-in-github",
        "colab_type": "text"
      },
      "source": [
        "<a href=\"https://colab.research.google.com/github/aliabdari/compressed-QA/blob/main/QA_compressed_domain.ipynb\" target=\"_parent\"><img src=\"https://colab.research.google.com/assets/colab-badge.svg\" alt=\"Open In Colab\"/></a>"
      ]
    },
    {
      "cell_type": "code",
      "execution_count": 11,
      "metadata": {
        "id": "0BohLnoGkx_7",
        "colab": {
          "base_uri": "https://localhost:8080/"
        },
        "outputId": "4db66e40-f155-4c16-f0f6-1451549cbd01"
      },
      "outputs": [
        {
          "output_type": "stream",
          "name": "stdout",
          "text": [
            "Drive already mounted at /content/drive; to attempt to forcibly remount, call drive.mount(\"/content/drive\", force_remount=True).\n"
          ]
        }
      ],
      "source": [
        "from google.colab import drive\n",
        "drive.mount('/content/drive')"
      ]
    },
    {
      "cell_type": "code",
      "source": [
        "import pandas as pd\n",
        "import numpy as np\n",
        "\n",
        "from tensorflow.keras.models import Sequential\n",
        "from tensorflow.keras.layers import BatchNormalization\n",
        "from tensorflow.keras.layers import Activation\n",
        "from tensorflow.keras.layers import Dropout\n",
        "from tensorflow.keras.layers import Dense\n",
        "from tensorflow.keras.layers import Input\n",
        "from tensorflow.keras.models import Model\n",
        "from tensorflow.keras.optimizers import Adam\n",
        "from tensorflow.keras.regularizers import l2\n",
        "from tensorflow import keras"
      ],
      "metadata": {
        "id": "qcR23ZTJJ7KJ"
      },
      "execution_count": 39,
      "outputs": []
    },
    {
      "cell_type": "code",
      "source": [
        "import numpy as np\n",
        "x_train_temp = np.load('/content/drive/MyDrive/information_live/x_vgg16.npy',allow_pickle= True)"
      ],
      "metadata": {
        "id": "Y2A-J6_Wl3HZ"
      },
      "execution_count": 12,
      "outputs": []
    },
    {
      "cell_type": "code",
      "source": [
        "x_train_temp.shape[0]"
      ],
      "metadata": {
        "colab": {
          "base_uri": "https://localhost:8080/"
        },
        "id": "v_RTNh9p2sEC",
        "outputId": "baf033e3-42d6-4f5d-9b09-af750e837f3d"
      },
      "execution_count": 13,
      "outputs": [
        {
          "output_type": "execute_result",
          "data": {
            "text/plain": [
              "160"
            ]
          },
          "metadata": {},
          "execution_count": 13
        }
      ]
    },
    {
      "cell_type": "code",
      "source": [
        "x_train_temp2 = np.empty(150,dtype=object)"
      ],
      "metadata": {
        "id": "gFat1VCN4E6D"
      },
      "execution_count": 14,
      "outputs": []
    },
    {
      "cell_type": "code",
      "source": [
        "idx = 0\n",
        "for i in range(x_train_temp.shape[0]):\n",
        "  if i % 16 == 0:\n",
        "    continue\n",
        "  x_train_temp2[idx] = x_train_temp[i]\n",
        "  idx+=1"
      ],
      "metadata": {
        "id": "pCIE5miT2y0o"
      },
      "execution_count": 15,
      "outputs": []
    },
    {
      "cell_type": "code",
      "source": [
        "x_train_temp2.shape"
      ],
      "metadata": {
        "colab": {
          "base_uri": "https://localhost:8080/"
        },
        "id": "ad9Xxz5K5o3P",
        "outputId": "ebbcd4e0-16af-455b-fd39-7dbb0835e640"
      },
      "execution_count": 16,
      "outputs": [
        {
          "output_type": "execute_result",
          "data": {
            "text/plain": [
              "(150,)"
            ]
          },
          "metadata": {},
          "execution_count": 16
        }
      ]
    },
    {
      "cell_type": "markdown",
      "source": [
        "## Load DOM"
      ],
      "metadata": {
        "id": "gfkuFHJ55z_9"
      }
    },
    {
      "cell_type": "code",
      "source": [
        "y_train_temp = np.loadtxt('/content/drive/MyDrive/live_dataset_Reconstructed_Residuals/live_video_quality_data.txt')"
      ],
      "metadata": {
        "id": "62EWrfUA56Mx"
      },
      "execution_count": 17,
      "outputs": []
    },
    {
      "cell_type": "code",
      "source": [
        "y_train_temp.shape"
      ],
      "metadata": {
        "colab": {
          "base_uri": "https://localhost:8080/"
        },
        "id": "Wl0Xi9fs6dBG",
        "outputId": "95b31265-592c-4085-c2e9-4c80bf415d15"
      },
      "execution_count": 18,
      "outputs": [
        {
          "output_type": "execute_result",
          "data": {
            "text/plain": [
              "(150, 2)"
            ]
          },
          "metadata": {},
          "execution_count": 18
        }
      ]
    },
    {
      "cell_type": "code",
      "source": [
        "y_train = y_train_temp[:,0]"
      ],
      "metadata": {
        "id": "SHpQH5T76jFV"
      },
      "execution_count": 19,
      "outputs": []
    },
    {
      "cell_type": "markdown",
      "source": [
        "## POT"
      ],
      "metadata": {
        "id": "SUN0SN8R5tQP"
      }
    },
    {
      "cell_type": "code",
      "source": [
        "np.mean(x_train_temp2[10], axis=1).shape"
      ],
      "metadata": {
        "colab": {
          "base_uri": "https://localhost:8080/"
        },
        "id": "o8I_DHJRIblD",
        "outputId": "213359cc-314c-4ed7-86b6-ae56cf350bb8"
      },
      "execution_count": 26,
      "outputs": [
        {
          "output_type": "execute_result",
          "data": {
            "text/plain": [
              "(4096,)"
            ]
          },
          "metadata": {},
          "execution_count": 26
        }
      ]
    },
    {
      "cell_type": "code",
      "source": [
        "x_train = np.empty((150,4096),dtype=object)\n",
        "for i in range(x_train_temp2.shape[0]):\n",
        "  x_train[i,:] = np.mean(x_train_temp2[i], axis=1)\n",
        "  pass"
      ],
      "metadata": {
        "id": "pBGiyTC95qZu"
      },
      "execution_count": 37,
      "outputs": []
    },
    {
      "cell_type": "code",
      "source": [
        "x_train.shape"
      ],
      "metadata": {
        "colab": {
          "base_uri": "https://localhost:8080/"
        },
        "id": "JmsaAqQjJah7",
        "outputId": "6ef216a3-4456-4038-f86d-8c2061d25869"
      },
      "execution_count": 38,
      "outputs": [
        {
          "output_type": "execute_result",
          "data": {
            "text/plain": [
              "(150, 4096)"
            ]
          },
          "metadata": {},
          "execution_count": 38
        }
      ]
    },
    {
      "cell_type": "markdown",
      "source": [
        "# Model"
      ],
      "metadata": {
        "id": "fyaOTZn1JhFP"
      }
    },
    {
      "cell_type": "code",
      "source": [
        "from sklearn.model_selection import train_test_split\n",
        "# data = data.sample(frac=1)\n",
        "(train, test) = train_test_split(data, test_size=0.4, random_state=42)"
      ],
      "metadata": {
        "id": "bpT6mjZuIEGo"
      },
      "execution_count": null,
      "outputs": []
    }
  ]
}