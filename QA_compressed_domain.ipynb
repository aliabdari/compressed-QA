{
  "cells": [
    {
      "cell_type": "markdown",
      "metadata": {
        "id": "view-in-github",
        "colab_type": "text"
      },
      "source": [
        "<a href=\"https://colab.research.google.com/github/aliabdari/compressed-QA/blob/main/QA_compressed_domain.ipynb\" target=\"_parent\"><img src=\"https://colab.research.google.com/assets/colab-badge.svg\" alt=\"Open In Colab\"/></a>"
      ]
    },
    {
      "cell_type": "code",
      "execution_count": 64,
      "metadata": {
        "colab": {
          "base_uri": "https://localhost:8080/"
        },
        "id": "0BohLnoGkx_7",
        "outputId": "382cf3cd-161e-4dba-b1fe-243afa7ae163"
      },
      "outputs": [
        {
          "output_type": "stream",
          "name": "stdout",
          "text": [
            "Drive already mounted at /content/drive; to attempt to forcibly remount, call drive.mount(\"/content/drive\", force_remount=True).\n"
          ]
        }
      ],
      "source": [
        "from google.colab import drive\n",
        "drive.mount('/content/drive')"
      ]
    },
    {
      "cell_type": "code",
      "execution_count": 65,
      "metadata": {
        "id": "qcR23ZTJJ7KJ"
      },
      "outputs": [],
      "source": [
        "import pandas as pd\n",
        "import numpy as np\n",
        "\n",
        "from tensorflow.keras.models import Sequential\n",
        "from tensorflow.keras.layers import BatchNormalization\n",
        "from tensorflow.keras.layers import Activation\n",
        "from tensorflow.keras.layers import Dropout\n",
        "from tensorflow.keras.layers import Dense\n",
        "from tensorflow.keras.layers import Input\n",
        "from tensorflow.keras.models import Model\n",
        "from tensorflow.keras.optimizers import Adam\n",
        "from tensorflow.keras.regularizers import l2\n",
        "from tensorflow import keras"
      ]
    },
    {
      "cell_type": "code",
      "execution_count": 66,
      "metadata": {
        "id": "Y2A-J6_Wl3HZ"
      },
      "outputs": [],
      "source": [
        "import numpy as np\n",
        "x_temp = np.load('/content/drive/MyDrive/information_live/x_vgg16.npy',allow_pickle= True)"
      ]
    },
    {
      "cell_type": "code",
      "execution_count": 67,
      "metadata": {
        "colab": {
          "base_uri": "https://localhost:8080/"
        },
        "id": "v_RTNh9p2sEC",
        "outputId": "d9b43e3c-bf83-4c57-da38-314d59a236fc"
      },
      "outputs": [
        {
          "output_type": "execute_result",
          "data": {
            "text/plain": [
              "160"
            ]
          },
          "metadata": {},
          "execution_count": 67
        }
      ],
      "source": [
        "x_temp.shape[0]"
      ]
    },
    {
      "cell_type": "code",
      "execution_count": 68,
      "metadata": {
        "id": "gFat1VCN4E6D"
      },
      "outputs": [],
      "source": [
        "x_temp2 = np.empty(150,dtype=object)"
      ]
    },
    {
      "cell_type": "code",
      "execution_count": 69,
      "metadata": {
        "id": "pCIE5miT2y0o"
      },
      "outputs": [],
      "source": [
        "idx = 0\n",
        "for i in range(x_temp.shape[0]):\n",
        "  if i % 16 == 0:\n",
        "    continue\n",
        "  x_temp2[idx] = x_temp[i]\n",
        "  idx+=1"
      ]
    },
    {
      "cell_type": "code",
      "execution_count": 70,
      "metadata": {
        "colab": {
          "base_uri": "https://localhost:8080/"
        },
        "id": "ad9Xxz5K5o3P",
        "outputId": "df85ed3f-6bb7-4d19-8349-83aa5f48c9bd"
      },
      "outputs": [
        {
          "output_type": "execute_result",
          "data": {
            "text/plain": [
              "(150,)"
            ]
          },
          "metadata": {},
          "execution_count": 70
        }
      ],
      "source": [
        "x_temp2.shape"
      ]
    },
    {
      "cell_type": "markdown",
      "metadata": {
        "id": "gfkuFHJ55z_9"
      },
      "source": [
        "## Load DOM"
      ]
    },
    {
      "cell_type": "code",
      "execution_count": 71,
      "metadata": {
        "id": "62EWrfUA56Mx"
      },
      "outputs": [],
      "source": [
        "y_temp = np.loadtxt('/content/drive/MyDrive/live_dataset_Reconstructed_Residuals/live_video_quality_data.txt')"
      ]
    },
    {
      "cell_type": "code",
      "execution_count": 72,
      "metadata": {
        "colab": {
          "base_uri": "https://localhost:8080/"
        },
        "id": "Wl0Xi9fs6dBG",
        "outputId": "46faa0c4-6968-40d0-d340-594b23d936db"
      },
      "outputs": [
        {
          "output_type": "execute_result",
          "data": {
            "text/plain": [
              "(150, 2)"
            ]
          },
          "metadata": {},
          "execution_count": 72
        }
      ],
      "source": [
        "y_temp.shape"
      ]
    },
    {
      "cell_type": "code",
      "execution_count": 73,
      "metadata": {
        "id": "SHpQH5T76jFV"
      },
      "outputs": [],
      "source": [
        "y = y_temp[:,0]"
      ]
    },
    {
      "cell_type": "code",
      "execution_count": 74,
      "metadata": {
        "id": "Hl3IhQVyRAEJ"
      },
      "outputs": [],
      "source": [
        "y = np.asarray(y).astype('float32')"
      ]
    },
    {
      "cell_type": "code",
      "source": [
        "np.max(y)"
      ],
      "metadata": {
        "colab": {
          "base_uri": "https://localhost:8080/"
        },
        "id": "uocTHggicSuq",
        "outputId": "8c8a60c4-f5cd-4ae0-8c54-7dce23fd301f"
      },
      "execution_count": 75,
      "outputs": [
        {
          "output_type": "execute_result",
          "data": {
            "text/plain": [
              "81.1601"
            ]
          },
          "metadata": {},
          "execution_count": 75
        }
      ]
    },
    {
      "cell_type": "code",
      "source": [
        "y=y/np.max(y)"
      ],
      "metadata": {
        "id": "vVOcfXXxcU8x"
      },
      "execution_count": 76,
      "outputs": []
    },
    {
      "cell_type": "markdown",
      "metadata": {
        "id": "SUN0SN8R5tQP"
      },
      "source": [
        "## POT"
      ]
    },
    {
      "cell_type": "code",
      "execution_count": 77,
      "metadata": {
        "colab": {
          "base_uri": "https://localhost:8080/"
        },
        "id": "o8I_DHJRIblD",
        "outputId": "13f3f74a-24d8-450b-ff71-e6b700e9f112"
      },
      "outputs": [
        {
          "output_type": "execute_result",
          "data": {
            "text/plain": [
              "(4096,)"
            ]
          },
          "metadata": {},
          "execution_count": 77
        }
      ],
      "source": [
        "np.mean(x_temp2[10], axis=1).shape"
      ]
    },
    {
      "cell_type": "code",
      "execution_count": 78,
      "metadata": {
        "id": "pBGiyTC95qZu"
      },
      "outputs": [],
      "source": [
        "x = np.empty((150,4096),dtype=object)\n",
        "for i in range(x_temp2.shape[0]):\n",
        "  x[i,:] = np.mean(x_temp2[i], axis=1)\n",
        "  pass"
      ]
    },
    {
      "cell_type": "code",
      "execution_count": 79,
      "metadata": {
        "colab": {
          "base_uri": "https://localhost:8080/"
        },
        "id": "JmsaAqQjJah7",
        "outputId": "5e9f7450-b0af-4886-ccda-7219bd0196b3"
      },
      "outputs": [
        {
          "output_type": "execute_result",
          "data": {
            "text/plain": [
              "(150, 4096)"
            ]
          },
          "metadata": {},
          "execution_count": 79
        }
      ],
      "source": [
        "x.shape"
      ]
    },
    {
      "cell_type": "code",
      "execution_count": 80,
      "metadata": {
        "id": "YsYolfHdQ6KI"
      },
      "outputs": [],
      "source": [
        "x = np.asarray(x).astype('float32')"
      ]
    },
    {
      "cell_type": "code",
      "source": [
        "np.max(x)"
      ],
      "metadata": {
        "colab": {
          "base_uri": "https://localhost:8080/"
        },
        "id": "XXAH4IhRcPFu",
        "outputId": "1c6722d0-1979-4028-b553-511f917e1c44"
      },
      "execution_count": 81,
      "outputs": [
        {
          "output_type": "execute_result",
          "data": {
            "text/plain": [
              "4.789821"
            ]
          },
          "metadata": {},
          "execution_count": 81
        }
      ]
    },
    {
      "cell_type": "code",
      "source": [
        "x = x/np.max(x)"
      ],
      "metadata": {
        "id": "hNWg5qgPcF0g"
      },
      "execution_count": 82,
      "outputs": []
    },
    {
      "cell_type": "markdown",
      "metadata": {
        "id": "fyaOTZn1JhFP"
      },
      "source": [
        "# Data preparation"
      ]
    },
    {
      "cell_type": "code",
      "execution_count": 83,
      "metadata": {
        "id": "QCenLye0Lagv"
      },
      "outputs": [],
      "source": [
        "x_test = x[0:30,:].copy()\n",
        "y_test = y[0:30].copy()"
      ]
    },
    {
      "cell_type": "code",
      "execution_count": 84,
      "metadata": {
        "colab": {
          "base_uri": "https://localhost:8080/"
        },
        "id": "HC7GCYclLiQG",
        "outputId": "27b6b078-e556-4d77-cfa8-a32539aecad8"
      },
      "outputs": [
        {
          "output_type": "execute_result",
          "data": {
            "text/plain": [
              "(30, 4096)"
            ]
          },
          "metadata": {},
          "execution_count": 84
        }
      ],
      "source": [
        "x_test.shape"
      ]
    },
    {
      "cell_type": "code",
      "execution_count": 85,
      "metadata": {
        "id": "hLERvSSGLlHF"
      },
      "outputs": [],
      "source": [
        "x_train = x[30:,:].copy()\n",
        "y_train = y[30:].copy()"
      ]
    },
    {
      "cell_type": "code",
      "execution_count": 86,
      "metadata": {
        "colab": {
          "base_uri": "https://localhost:8080/"
        },
        "id": "lIwTDsm1LyIv",
        "outputId": "3ac0b032-9a81-4008-db73-f81960cb954e"
      },
      "outputs": [
        {
          "output_type": "execute_result",
          "data": {
            "text/plain": [
              "(120, 4096)"
            ]
          },
          "metadata": {},
          "execution_count": 86
        }
      ],
      "source": [
        "x_train.shape"
      ]
    },
    {
      "cell_type": "code",
      "execution_count": 87,
      "metadata": {
        "id": "aTSxbuuQOP0M"
      },
      "outputs": [],
      "source": [
        "def do_shuffle(X,Y,number_of_data):\n",
        "  shuffle_index = np.arange(number_of_data)\n",
        "  np.random.shuffle(shuffle_index)\n",
        "  return X[shuffle_index],Y[shuffle_index]"
      ]
    },
    {
      "cell_type": "code",
      "execution_count": 88,
      "metadata": {
        "id": "_JU6ofk6ORFl"
      },
      "outputs": [],
      "source": [
        "x_train,y_train = do_shuffle(x_train,y_train,120)"
      ]
    },
    {
      "cell_type": "code",
      "execution_count": 89,
      "metadata": {
        "colab": {
          "base_uri": "https://localhost:8080/"
        },
        "id": "rgi1n2SqPddA",
        "outputId": "909a8759-5acc-4f2e-8305-c1b96dcdbe0f"
      },
      "outputs": [
        {
          "output_type": "execute_result",
          "data": {
            "text/plain": [
              "dtype('float32')"
            ]
          },
          "metadata": {},
          "execution_count": 89
        }
      ],
      "source": [
        "x_train.dtype"
      ]
    },
    {
      "cell_type": "markdown",
      "metadata": {
        "id": "hJlHZY5IPoIi"
      },
      "source": [
        "## Model"
      ]
    },
    {
      "cell_type": "code",
      "execution_count": 90,
      "metadata": {
        "colab": {
          "base_uri": "https://localhost:8080/"
        },
        "id": "vT5O-XvSPfe5",
        "outputId": "55cf85f5-53fa-4707-c07b-99d2ff425da6"
      },
      "outputs": [
        {
          "output_type": "stream",
          "name": "stdout",
          "text": [
            "Epoch 1/150\n",
            "2/2 [==============================] - 1s 175ms/step - loss: 23.6550 - val_loss: 2.2148\n",
            "Epoch 2/150\n",
            "2/2 [==============================] - 0s 34ms/step - loss: 4.5062 - val_loss: 17.0557\n",
            "Epoch 3/150\n",
            "2/2 [==============================] - 0s 34ms/step - loss: 17.1247 - val_loss: 7.3493\n",
            "Epoch 4/150\n",
            "2/2 [==============================] - 0s 32ms/step - loss: 5.3949 - val_loss: 0.0444\n",
            "Epoch 5/150\n",
            "2/2 [==============================] - 0s 34ms/step - loss: 1.3417 - val_loss: 3.6285\n",
            "Epoch 6/150\n",
            "2/2 [==============================] - 0s 33ms/step - loss: 4.9945 - val_loss: 2.8958\n",
            "Epoch 7/150\n",
            "2/2 [==============================] - 0s 36ms/step - loss: 3.0964 - val_loss: 0.3038\n",
            "Epoch 8/150\n",
            "2/2 [==============================] - 0s 41ms/step - loss: 0.5848 - val_loss: 0.3580\n",
            "Epoch 9/150\n",
            "2/2 [==============================] - 0s 64ms/step - loss: 0.8643 - val_loss: 1.3462\n",
            "Epoch 10/150\n",
            "2/2 [==============================] - 0s 41ms/step - loss: 1.5096 - val_loss: 1.2363\n",
            "Epoch 11/150\n",
            "2/2 [==============================] - 0s 37ms/step - loss: 1.2341 - val_loss: 0.4338\n",
            "Epoch 12/150\n",
            "2/2 [==============================] - 0s 35ms/step - loss: 0.4036 - val_loss: 0.0299\n",
            "Epoch 13/150\n",
            "2/2 [==============================] - 0s 37ms/step - loss: 0.2220 - val_loss: 0.1121\n",
            "Epoch 14/150\n",
            "2/2 [==============================] - 0s 38ms/step - loss: 0.4193 - val_loss: 0.2622\n",
            "Epoch 15/150\n",
            "2/2 [==============================] - 0s 34ms/step - loss: 0.4899 - val_loss: 0.2248\n",
            "Epoch 16/150\n",
            "2/2 [==============================] - 0s 34ms/step - loss: 0.3840 - val_loss: 0.0777\n",
            "Epoch 17/150\n",
            "2/2 [==============================] - 0s 45ms/step - loss: 0.2035 - val_loss: 0.0171\n",
            "Epoch 18/150\n",
            "2/2 [==============================] - 0s 40ms/step - loss: 0.1246 - val_loss: 0.0808\n",
            "Epoch 19/150\n",
            "2/2 [==============================] - 0s 34ms/step - loss: 0.1578 - val_loss: 0.1698\n",
            "Epoch 20/150\n",
            "2/2 [==============================] - 0s 37ms/step - loss: 0.2950 - val_loss: 0.1765\n",
            "Epoch 21/150\n",
            "2/2 [==============================] - 0s 36ms/step - loss: 0.2213 - val_loss: 0.1155\n",
            "Epoch 22/150\n",
            "2/2 [==============================] - 0s 36ms/step - loss: 0.1286 - val_loss: 0.0522\n",
            "Epoch 23/150\n",
            "2/2 [==============================] - 0s 38ms/step - loss: 0.0940 - val_loss: 0.0202\n",
            "Epoch 24/150\n",
            "2/2 [==============================] - 0s 42ms/step - loss: 0.0645 - val_loss: 0.0193\n",
            "Epoch 25/150\n",
            "2/2 [==============================] - 0s 33ms/step - loss: 0.0891 - val_loss: 0.0252\n",
            "Epoch 26/150\n",
            "2/2 [==============================] - 0s 35ms/step - loss: 0.0948 - val_loss: 0.0246\n",
            "Epoch 27/150\n",
            "2/2 [==============================] - 0s 36ms/step - loss: 0.0989 - val_loss: 0.0194\n",
            "Epoch 28/150\n",
            "2/2 [==============================] - 0s 38ms/step - loss: 0.0669 - val_loss: 0.0172\n",
            "Epoch 29/150\n",
            "2/2 [==============================] - 0s 33ms/step - loss: 0.0563 - val_loss: 0.0221\n",
            "Epoch 30/150\n",
            "2/2 [==============================] - 0s 38ms/step - loss: 0.0677 - val_loss: 0.0326\n",
            "Epoch 31/150\n",
            "2/2 [==============================] - 0s 35ms/step - loss: 0.0613 - val_loss: 0.0394\n",
            "Epoch 32/150\n",
            "2/2 [==============================] - 0s 36ms/step - loss: 0.0584 - val_loss: 0.0415\n",
            "Epoch 33/150\n",
            "2/2 [==============================] - 0s 35ms/step - loss: 0.0505 - val_loss: 0.0378\n",
            "Epoch 34/150\n",
            "2/2 [==============================] - 0s 35ms/step - loss: 0.0545 - val_loss: 0.0309\n",
            "Epoch 35/150\n",
            "2/2 [==============================] - 0s 44ms/step - loss: 0.0405 - val_loss: 0.0245\n",
            "Epoch 36/150\n",
            "2/2 [==============================] - 0s 32ms/step - loss: 0.0439 - val_loss: 0.0198\n",
            "Epoch 37/150\n",
            "2/2 [==============================] - 0s 39ms/step - loss: 0.0437 - val_loss: 0.0178\n",
            "Epoch 38/150\n",
            "2/2 [==============================] - 0s 34ms/step - loss: 0.0496 - val_loss: 0.0175\n",
            "Epoch 39/150\n",
            "2/2 [==============================] - 0s 37ms/step - loss: 0.0529 - val_loss: 0.0178\n",
            "Epoch 40/150\n",
            "2/2 [==============================] - 0s 33ms/step - loss: 0.0422 - val_loss: 0.0190\n",
            "Epoch 41/150\n",
            "2/2 [==============================] - 0s 34ms/step - loss: 0.0584 - val_loss: 0.0211\n",
            "Epoch 42/150\n",
            "2/2 [==============================] - 0s 38ms/step - loss: 0.0373 - val_loss: 0.0234\n",
            "Epoch 43/150\n",
            "2/2 [==============================] - 0s 41ms/step - loss: 0.0325 - val_loss: 0.0266\n",
            "Epoch 44/150\n",
            "2/2 [==============================] - 0s 35ms/step - loss: 0.0444 - val_loss: 0.0288\n",
            "Epoch 45/150\n",
            "2/2 [==============================] - 0s 42ms/step - loss: 0.0416 - val_loss: 0.0280\n",
            "Epoch 46/150\n",
            "2/2 [==============================] - 0s 39ms/step - loss: 0.0400 - val_loss: 0.0267\n",
            "Epoch 47/150\n",
            "2/2 [==============================] - 0s 41ms/step - loss: 0.0416 - val_loss: 0.0246\n",
            "Epoch 48/150\n",
            "2/2 [==============================] - 0s 37ms/step - loss: 0.0364 - val_loss: 0.0223\n",
            "Epoch 49/150\n",
            "2/2 [==============================] - 0s 36ms/step - loss: 0.0372 - val_loss: 0.0210\n",
            "Epoch 50/150\n",
            "2/2 [==============================] - 0s 35ms/step - loss: 0.0412 - val_loss: 0.0202\n",
            "Epoch 51/150\n",
            "2/2 [==============================] - 0s 34ms/step - loss: 0.0325 - val_loss: 0.0199\n",
            "Epoch 52/150\n",
            "2/2 [==============================] - 0s 37ms/step - loss: 0.0330 - val_loss: 0.0203\n",
            "Epoch 53/150\n",
            "2/2 [==============================] - 0s 43ms/step - loss: 0.0321 - val_loss: 0.0207\n",
            "Epoch 54/150\n",
            "2/2 [==============================] - 0s 33ms/step - loss: 0.0369 - val_loss: 0.0210\n",
            "Epoch 55/150\n",
            "2/2 [==============================] - 0s 34ms/step - loss: 0.0352 - val_loss: 0.0219\n",
            "Epoch 56/150\n",
            "2/2 [==============================] - 0s 35ms/step - loss: 0.0382 - val_loss: 0.0226\n",
            "Epoch 57/150\n",
            "2/2 [==============================] - 0s 34ms/step - loss: 0.0309 - val_loss: 0.0229\n",
            "Epoch 58/150\n",
            "2/2 [==============================] - 0s 36ms/step - loss: 0.0325 - val_loss: 0.0225\n",
            "Epoch 59/150\n",
            "2/2 [==============================] - 0s 54ms/step - loss: 0.0370 - val_loss: 0.0220\n",
            "Epoch 60/150\n",
            "2/2 [==============================] - 0s 35ms/step - loss: 0.0370 - val_loss: 0.0211\n",
            "Epoch 61/150\n",
            "2/2 [==============================] - 0s 35ms/step - loss: 0.0359 - val_loss: 0.0206\n",
            "Epoch 62/150\n",
            "2/2 [==============================] - 0s 36ms/step - loss: 0.0343 - val_loss: 0.0206\n",
            "Epoch 63/150\n",
            "2/2 [==============================] - 0s 39ms/step - loss: 0.0378 - val_loss: 0.0210\n",
            "Epoch 64/150\n",
            "2/2 [==============================] - 0s 33ms/step - loss: 0.0365 - val_loss: 0.0216\n",
            "Epoch 65/150\n",
            "2/2 [==============================] - 0s 37ms/step - loss: 0.0305 - val_loss: 0.0222\n",
            "Epoch 66/150\n",
            "2/2 [==============================] - 0s 34ms/step - loss: 0.0364 - val_loss: 0.0226\n",
            "Epoch 67/150\n",
            "2/2 [==============================] - 0s 38ms/step - loss: 0.0397 - val_loss: 0.0227\n",
            "Epoch 68/150\n",
            "2/2 [==============================] - 0s 39ms/step - loss: 0.0341 - val_loss: 0.0219\n",
            "Epoch 69/150\n",
            "2/2 [==============================] - 0s 38ms/step - loss: 0.0371 - val_loss: 0.0210\n",
            "Epoch 70/150\n",
            "2/2 [==============================] - 0s 35ms/step - loss: 0.0352 - val_loss: 0.0203\n",
            "Epoch 71/150\n",
            "2/2 [==============================] - 0s 46ms/step - loss: 0.0274 - val_loss: 0.0198\n",
            "Epoch 72/150\n",
            "2/2 [==============================] - 0s 36ms/step - loss: 0.0355 - val_loss: 0.0195\n",
            "Epoch 73/150\n",
            "2/2 [==============================] - 0s 38ms/step - loss: 0.0372 - val_loss: 0.0191\n",
            "Epoch 74/150\n",
            "2/2 [==============================] - 0s 32ms/step - loss: 0.0325 - val_loss: 0.0195\n",
            "Epoch 75/150\n",
            "2/2 [==============================] - 0s 41ms/step - loss: 0.0323 - val_loss: 0.0202\n",
            "Epoch 76/150\n",
            "2/2 [==============================] - 0s 36ms/step - loss: 0.0259 - val_loss: 0.0210\n",
            "Epoch 77/150\n",
            "2/2 [==============================] - 0s 35ms/step - loss: 0.0312 - val_loss: 0.0206\n",
            "Epoch 78/150\n",
            "2/2 [==============================] - 0s 34ms/step - loss: 0.0345 - val_loss: 0.0206\n",
            "Epoch 79/150\n",
            "2/2 [==============================] - 0s 35ms/step - loss: 0.0326 - val_loss: 0.0205\n",
            "Epoch 80/150\n",
            "2/2 [==============================] - 0s 49ms/step - loss: 0.0326 - val_loss: 0.0206\n",
            "Epoch 81/150\n",
            "2/2 [==============================] - 0s 41ms/step - loss: 0.0318 - val_loss: 0.0206\n",
            "Epoch 82/150\n",
            "2/2 [==============================] - 0s 41ms/step - loss: 0.0297 - val_loss: 0.0201\n",
            "Epoch 83/150\n",
            "2/2 [==============================] - 0s 47ms/step - loss: 0.0276 - val_loss: 0.0203\n",
            "Epoch 84/150\n",
            "2/2 [==============================] - 0s 37ms/step - loss: 0.0329 - val_loss: 0.0204\n",
            "Epoch 85/150\n",
            "2/2 [==============================] - 0s 36ms/step - loss: 0.0273 - val_loss: 0.0209\n",
            "Epoch 86/150\n",
            "2/2 [==============================] - 0s 34ms/step - loss: 0.0311 - val_loss: 0.0212\n",
            "Epoch 87/150\n",
            "2/2 [==============================] - 0s 39ms/step - loss: 0.0390 - val_loss: 0.0210\n",
            "Epoch 88/150\n",
            "2/2 [==============================] - 0s 45ms/step - loss: 0.0313 - val_loss: 0.0202\n",
            "Epoch 89/150\n",
            "2/2 [==============================] - 0s 36ms/step - loss: 0.0297 - val_loss: 0.0197\n",
            "Epoch 90/150\n",
            "2/2 [==============================] - 0s 35ms/step - loss: 0.0267 - val_loss: 0.0192\n",
            "Epoch 91/150\n",
            "2/2 [==============================] - 0s 34ms/step - loss: 0.0323 - val_loss: 0.0192\n",
            "Epoch 92/150\n",
            "2/2 [==============================] - 0s 38ms/step - loss: 0.0315 - val_loss: 0.0195\n",
            "Epoch 93/150\n",
            "2/2 [==============================] - 0s 34ms/step - loss: 0.0302 - val_loss: 0.0195\n",
            "Epoch 94/150\n",
            "2/2 [==============================] - 0s 41ms/step - loss: 0.0360 - val_loss: 0.0194\n",
            "Epoch 95/150\n",
            "2/2 [==============================] - 0s 35ms/step - loss: 0.0309 - val_loss: 0.0195\n",
            "Epoch 96/150\n",
            "2/2 [==============================] - 0s 33ms/step - loss: 0.0309 - val_loss: 0.0201\n",
            "Epoch 97/150\n",
            "2/2 [==============================] - 0s 36ms/step - loss: 0.0358 - val_loss: 0.0202\n",
            "Epoch 98/150\n",
            "2/2 [==============================] - 0s 38ms/step - loss: 0.0305 - val_loss: 0.0198\n",
            "Epoch 99/150\n",
            "2/2 [==============================] - 0s 34ms/step - loss: 0.0345 - val_loss: 0.0191\n",
            "Epoch 100/150\n",
            "2/2 [==============================] - 0s 36ms/step - loss: 0.0334 - val_loss: 0.0193\n",
            "Epoch 101/150\n",
            "2/2 [==============================] - 0s 36ms/step - loss: 0.0306 - val_loss: 0.0196\n",
            "Epoch 102/150\n",
            "2/2 [==============================] - 0s 34ms/step - loss: 0.0369 - val_loss: 0.0202\n",
            "Epoch 103/150\n",
            "2/2 [==============================] - 0s 34ms/step - loss: 0.0251 - val_loss: 0.0201\n",
            "Epoch 104/150\n",
            "2/2 [==============================] - 0s 35ms/step - loss: 0.0325 - val_loss: 0.0194\n",
            "Epoch 105/150\n",
            "2/2 [==============================] - 0s 34ms/step - loss: 0.0276 - val_loss: 0.0188\n",
            "Epoch 106/150\n",
            "2/2 [==============================] - 0s 36ms/step - loss: 0.0275 - val_loss: 0.0189\n",
            "Epoch 107/150\n",
            "2/2 [==============================] - 0s 43ms/step - loss: 0.0319 - val_loss: 0.0190\n",
            "Epoch 108/150\n",
            "2/2 [==============================] - 0s 37ms/step - loss: 0.0383 - val_loss: 0.0183\n",
            "Epoch 109/150\n",
            "2/2 [==============================] - 0s 33ms/step - loss: 0.0282 - val_loss: 0.0176\n",
            "Epoch 110/150\n",
            "2/2 [==============================] - 0s 35ms/step - loss: 0.0287 - val_loss: 0.0174\n",
            "Epoch 111/150\n",
            "2/2 [==============================] - 0s 35ms/step - loss: 0.0298 - val_loss: 0.0177\n",
            "Epoch 112/150\n",
            "2/2 [==============================] - 0s 36ms/step - loss: 0.0298 - val_loss: 0.0189\n",
            "Epoch 113/150\n",
            "2/2 [==============================] - 0s 35ms/step - loss: 0.0362 - val_loss: 0.0214\n",
            "Epoch 114/150\n",
            "2/2 [==============================] - 0s 35ms/step - loss: 0.0333 - val_loss: 0.0228\n",
            "Epoch 115/150\n",
            "2/2 [==============================] - 0s 38ms/step - loss: 0.0333 - val_loss: 0.0220\n",
            "Epoch 116/150\n",
            "2/2 [==============================] - 0s 57ms/step - loss: 0.0285 - val_loss: 0.0196\n",
            "Epoch 117/150\n",
            "2/2 [==============================] - 0s 37ms/step - loss: 0.0313 - val_loss: 0.0184\n",
            "Epoch 118/150\n",
            "2/2 [==============================] - 0s 116ms/step - loss: 0.0301 - val_loss: 0.0179\n",
            "Epoch 119/150\n",
            "2/2 [==============================] - 0s 136ms/step - loss: 0.0308 - val_loss: 0.0175\n",
            "Epoch 120/150\n",
            "2/2 [==============================] - 0s 56ms/step - loss: 0.0316 - val_loss: 0.0179\n",
            "Epoch 121/150\n",
            "2/2 [==============================] - 0s 67ms/step - loss: 0.0344 - val_loss: 0.0189\n",
            "Epoch 122/150\n",
            "2/2 [==============================] - 0s 50ms/step - loss: 0.0290 - val_loss: 0.0201\n",
            "Epoch 123/150\n",
            "2/2 [==============================] - 0s 35ms/step - loss: 0.0275 - val_loss: 0.0203\n",
            "Epoch 124/150\n",
            "2/2 [==============================] - 0s 33ms/step - loss: 0.0296 - val_loss: 0.0195\n",
            "Epoch 125/150\n",
            "2/2 [==============================] - 0s 45ms/step - loss: 0.0277 - val_loss: 0.0184\n",
            "Epoch 126/150\n",
            "2/2 [==============================] - 0s 35ms/step - loss: 0.0314 - val_loss: 0.0180\n",
            "Epoch 127/150\n",
            "2/2 [==============================] - 0s 40ms/step - loss: 0.0352 - val_loss: 0.0182\n",
            "Epoch 128/150\n",
            "2/2 [==============================] - 0s 38ms/step - loss: 0.0302 - val_loss: 0.0191\n",
            "Epoch 129/150\n",
            "2/2 [==============================] - 0s 37ms/step - loss: 0.0299 - val_loss: 0.0197\n",
            "Epoch 130/150\n",
            "2/2 [==============================] - 0s 37ms/step - loss: 0.0303 - val_loss: 0.0199\n",
            "Epoch 131/150\n",
            "2/2 [==============================] - 0s 38ms/step - loss: 0.0285 - val_loss: 0.0189\n",
            "Epoch 132/150\n",
            "2/2 [==============================] - 0s 38ms/step - loss: 0.0268 - val_loss: 0.0185\n",
            "Epoch 133/150\n",
            "2/2 [==============================] - 0s 35ms/step - loss: 0.0365 - val_loss: 0.0181\n",
            "Epoch 134/150\n",
            "2/2 [==============================] - 0s 40ms/step - loss: 0.0294 - val_loss: 0.0184\n",
            "Epoch 135/150\n",
            "2/2 [==============================] - 0s 41ms/step - loss: 0.0271 - val_loss: 0.0189\n",
            "Epoch 136/150\n",
            "2/2 [==============================] - 0s 35ms/step - loss: 0.0297 - val_loss: 0.0195\n",
            "Epoch 137/150\n",
            "2/2 [==============================] - 0s 42ms/step - loss: 0.0304 - val_loss: 0.0190\n",
            "Epoch 138/150\n",
            "2/2 [==============================] - 0s 45ms/step - loss: 0.0312 - val_loss: 0.0182\n",
            "Epoch 139/150\n",
            "2/2 [==============================] - 0s 41ms/step - loss: 0.0273 - val_loss: 0.0174\n",
            "Epoch 140/150\n",
            "2/2 [==============================] - 0s 35ms/step - loss: 0.0322 - val_loss: 0.0173\n",
            "Epoch 141/150\n",
            "2/2 [==============================] - 0s 36ms/step - loss: 0.0338 - val_loss: 0.0183\n",
            "Epoch 142/150\n",
            "2/2 [==============================] - 0s 39ms/step - loss: 0.0265 - val_loss: 0.0197\n",
            "Epoch 143/150\n",
            "2/2 [==============================] - 0s 36ms/step - loss: 0.0310 - val_loss: 0.0208\n",
            "Epoch 144/150\n",
            "2/2 [==============================] - 0s 34ms/step - loss: 0.0268 - val_loss: 0.0206\n",
            "Epoch 145/150\n",
            "2/2 [==============================] - 0s 36ms/step - loss: 0.0279 - val_loss: 0.0193\n",
            "Epoch 146/150\n",
            "2/2 [==============================] - 0s 34ms/step - loss: 0.0279 - val_loss: 0.0179\n",
            "Epoch 147/150\n",
            "2/2 [==============================] - 0s 38ms/step - loss: 0.0313 - val_loss: 0.0173\n",
            "Epoch 148/150\n",
            "2/2 [==============================] - 0s 45ms/step - loss: 0.0314 - val_loss: 0.0173\n",
            "Epoch 149/150\n",
            "2/2 [==============================] - 0s 38ms/step - loss: 0.0253 - val_loss: 0.0174\n",
            "Epoch 150/150\n",
            "2/2 [==============================] - 0s 34ms/step - loss: 0.0282 - val_loss: 0.0181\n"
          ]
        }
      ],
      "source": [
        "model = Sequential()\n",
        "model.add(Dense(128, activation=\"linear\"))\n",
        "model.add(Dropout(0.35))\n",
        "model.add(Dense(64, activation=\"linear\"))\n",
        "model.add(Dropout(0.25))\n",
        "model.add(Dense(32,activation=\"linear\"))\n",
        "model.add(Dense(16,activation=\"linear\"))\n",
        "model.add(Dense(1, activation=\"linear\"))\n",
        "\n",
        "callback = keras.callbacks.EarlyStopping(monitor='val_loss', patience=5)\n",
        "\n",
        "opt = Adam(learning_rate=1e-3, decay=1e-3 / 200)\n",
        "model.compile(loss=\"mean_squared_error\", optimizer=opt)\n",
        "# train the model\n",
        "history = model.fit(x=x_train, y=y_train, \n",
        "\tvalidation_data=(x_test, y_test),\n",
        "\tepochs=150, \n",
        "\tbatch_size=64)"
      ]
    },
    {
      "cell_type": "markdown",
      "metadata": {
        "id": "4DbUiCxdRNC0"
      },
      "source": [
        "## Plot"
      ]
    },
    {
      "cell_type": "code",
      "execution_count": 91,
      "metadata": {
        "id": "kXN3pDBpROOy"
      },
      "outputs": [],
      "source": [
        "import matplotlib.pyplot as plt\n",
        "\n",
        "def plot_diagrams_trian_process(history):\n",
        "    plt.xlabel('Epoch')\n",
        "    plt.ylabel('Loss')\n",
        "    plt.plot(history['loss'])\n",
        "    plt.plot(history['val_loss'])\n",
        "    plt.legend(['loss','val_loss'])"
      ]
    },
    {
      "cell_type": "code",
      "execution_count": 92,
      "metadata": {
        "colab": {
          "base_uri": "https://localhost:8080/",
          "height": 279
        },
        "id": "mUsvxo1KRPJR",
        "outputId": "a7037097-a8db-418c-8418-eeca3a8130ba"
      },
      "outputs": [
        {
          "output_type": "display_data",
          "data": {
            "text/plain": [
              "<Figure size 432x288 with 1 Axes>"
            ],
            "image/png": "[encoded data removed]"
          },
          "metadata": {
            "needs_background": "light"
          }
        }
      ],
      "source": [
        "plot_diagrams_trian_process(history.history)"
      ]
    }
  ],
  "metadata": {
    "colab": {
      "name": "QA_compressed_domain.ipynb",
      "provenance": [],
      "include_colab_link": true
    },
    "gpuClass": "standard",
    "kernelspec": {
      "display_name": "Python 3",
      "name": "python3"
    },
    "language_info": {
      "name": "python"
    }
  },
  "nbformat": 4,
  "nbformat_minor": 0
}